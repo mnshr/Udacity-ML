{
  "nbformat": 4,
  "nbformat_minor": 0,
  "metadata": {
    "colab": {
      "name": "Copy of capstone_instacart.ipynb",
      "version": "0.3.2",
      "views": {},
      "default_view": {},
      "provenance": [
        {
          "file_id": "1QM0iU7NHnVWztPA5okmwzfxARLyBW_AC",
          "timestamp": 1521350196657
        }
      ],
      "collapsed_sections": [],
      "toc_visible": true
    },
    "kernelspec": {
      "display_name": "Python 3",
      "language": "python",
      "name": "python3"
    },
    "accelerator": "GPU"
  },
  "cells": [
    {
      "metadata": {
        "id": "MLMQPP-YWg1g",
        "colab_type": "text"
      },
      "cell_type": "markdown",
      "source": [
        "# Machine Learning Nanodegree\n",
        "\n",
        "## Capstone Project: Instacart Market Basket Analysis\n",
        "### Which products will an Instacart consumer purchase again?\n",
        "\n",
        "The dataset for this challenge is a relational set of files describing customers' orders over time. The goal of the competition is to predict which products will be in a user's next order. The dataset is anonymized and contains a sample of over 3 million grocery orders from more than 200,000 Instacart users. For each user, we provide between 4 and 100 of their orders, with the sequence of products purchased in each order. We also provide the week and hour of day the order was placed, and a relative measure of time between orders. For more information, see the blog post accompanying its public release."
      ]
    },
    {
      "metadata": {
        "id": "KIOkCofpWg1m",
        "colab_type": "text"
      },
      "cell_type": "markdown",
      "source": [
        "### The Road Ahead\n",
        "\n",
        "We break the notebook into separate steps.  Feel free to use the links below to navigate the notebook.\n",
        "\n",
        "* [Step 0](#step0): Import Datasets\n",
        "* [Step 1](#step1): Data Exploration\n",
        "* [Step 2](#step2): Exploratory Visualizations\n",
        "* [Step 3](#step3): Preprocessing \n",
        "* [Step 4](#step4): Benchmarks\n",
        "* [Step 5](#step5): Algorithm and Techniques\n",
        "* [Step 6](#step6): Refinements\n",
        "* [Step 7](#step7): Algorithm Evaluation and Validation\n",
        "\n",
        "---\n",
        "<a id='step0'></a>\n",
        "## Step 0: Import Datasets"
      ]
    },
    {
      "metadata": {
        "id": "EfBQxQdnWg1p",
        "colab_type": "code",
        "colab": {
          "autoexec": {
            "startup": false,
            "wait_interval": 0
          }
        }
      },
      "cell_type": "code",
      "source": [
        "### Import libraries XXXXXXXXXXXXXXXXXXXX\n",
        "import os\n",
        "import numpy as np\n",
        "import pandas as pd\n",
        "import matplotlib.pyplot as plt\n",
        "import seaborn as sns\n",
        "\n",
        "from sklearn.preprocessing import OneHotEncoder\n",
        "from sklearn.preprocessing import LabelEncoder\n",
        "from sklearn.preprocessing import normalize\n",
        "from sklearn.model_selection import train_test_split\n",
        "from sklearn.model_selection import GridSearchCV\n",
        "from sklearn.tree import DecisionTreeClassifier\n",
        "from sklearn.metrics import accuracy_score\n",
        "\n",
        "%matplotlib inline"
      ],
      "execution_count": 0,
      "outputs": []
    },
    {
      "metadata": {
        "id": "hlYrjCs_XNoT",
        "colab_type": "code",
        "colab": {
          "autoexec": {
            "startup": false,
            "wait_interval": 0
          }
        }
      },
      "cell_type": "code",
      "source": [
        "!pip install -U -q PyDrive\n",
        "\n",
        "from pydrive.auth import GoogleAuth\n",
        "from pydrive.drive import GoogleDrive\n",
        "from google.colab import auth\n",
        "from oauth2client.client import GoogleCredentials\n",
        "\n",
        "# 1. Authenticate and create the PyDrive client.\n",
        "auth.authenticate_user()\n",
        "gauth = GoogleAuth()\n",
        "gauth.credentials = GoogleCredentials.get_application_default()\n",
        "drive = GoogleDrive(gauth)\n",
        "\n",
        "# 2. Load a file by ID and create local file.\n",
        "\n",
        "downloaded = drive.CreateFile({'id':'1L05r3qtAhmzFfNazo8xfKkKbWRwQhODZ'}) # replace fileid with Id of file you want to access\n",
        "downloaded.GetContentFile('order_products__train.csv') # now you can use export.csv \n",
        "\n",
        "downloaded = drive.CreateFile({'id':'14sI0oP8FXxfYd_0OmaAPfqPSrrRyvoIH'}) # replace fileid with Id of file you want to access\n",
        "downloaded.GetContentFile('order_products__prior.csv') # now you can use export.csv \n",
        "\n",
        "downloaded = drive.CreateFile({'id':'1dSIrVAQ5delsaDYbjdB7gzsxTCf792kf'}) # replace fileid with Id of file you want to access\n",
        "downloaded.GetContentFile('orders.csv') # now you can use export.csv \n",
        "\n",
        "downloaded = drive.CreateFile({'id':'1F4sDO7oTimeDNrI2FcaEkx9WnF7_n1y5'}) # replace fileid with Id of file you want to access\n",
        "downloaded.GetContentFile('products.csv') # now you can use export.csv \n",
        "\n",
        "downloaded = drive.CreateFile({'id':'1b122CO2v4on8ixfE-8Cc6g4RHcARiTvn'}) # replace fileid with Id of file you want to access\n",
        "downloaded.GetContentFile('aisles.csv') # now you can use export.csv \n",
        "\n",
        "downloaded = drive.CreateFile({'id':'1YNGRUqCG9slq8fPwjwAFb0WwuzBbJVE8'}) # replace fileid with Id of file you want to access\n",
        "downloaded.GetContentFile('departments.csv') # now you can use export.csv "
      ],
      "execution_count": 0,
      "outputs": []
    },
    {
      "metadata": {
        "id": "DmN-Rq-CWg15",
        "colab_type": "code",
        "colab": {
          "autoexec": {
            "startup": false,
            "wait_interval": 0
          },
          "output_extras": [
            {
              "item_id": 1
            }
          ],
          "base_uri": "https://localhost:8080/",
          "height": 92
        },
        "outputId": "c6fe97ad-a9dc-4cbf-9afb-2b43b02ad481",
        "executionInfo": {
          "status": "ok",
          "timestamp": 1521350524901,
          "user_tz": 240,
          "elapsed": 11334,
          "user": {
            "displayName": "Quant Quotient",
            "photoUrl": "https://lh3.googleusercontent.com/a/default-user=s128",
            "userId": "109188985106332259534"
          }
        }
      },
      "cell_type": "code",
      "source": [
        "### Import Instacart Data\n",
        "order_products_train_df = pd.read_csv(\"order_products__train.csv\")\n",
        "order_products_prior_df = pd.read_csv(\"order_products__prior.csv\")\n",
        "orders_df = pd.read_csv(\"orders.csv\")\n",
        "products_df = pd.read_csv(\"products.csv\")\n",
        "aisles_df = pd.read_csv(\"aisles.csv\")\n",
        "departments_df = pd.read_csv(\"departments.csv\")\n",
        "\n",
        "print('Total no. of orders: {}'.format(orders_df.shape[0]))\n",
        "print('Total no. of products: {}'.format(products_df.shape[0]))\n",
        "print('Total no. of aisles: {}'.format(aisles_df.shape[0]))\n",
        "print('Total no. of departments: {}'.format(departments_df.shape[0]))"
      ],
      "execution_count": 3,
      "outputs": [
        {
          "output_type": "stream",
          "text": [
            "Total no. of orders: 3421083\n",
            "Total no. of products: 49688\n",
            "Total no. of aisles: 134\n",
            "Total no. of departments: 21\n"
          ],
          "name": "stdout"
        }
      ]
    },
    {
      "metadata": {
        "id": "HxwrQ4wDWg2J",
        "colab_type": "text"
      },
      "cell_type": "markdown",
      "source": [
        "---\n",
        "<a id='step1'></a>\n",
        "## Step 1: Data Exploration"
      ]
    },
    {
      "metadata": {
        "id": "VP2XJ0qqWg2N",
        "colab_type": "text"
      },
      "cell_type": "markdown",
      "source": [
        "orders_df tells to which set (prior, train, test) an order belongs. Will be predicting reordered items only for the 'test' set orders. "
      ]
    },
    {
      "metadata": {
        "id": "0bindhTnWg2P",
        "colab_type": "code",
        "colab": {
          "autoexec": {
            "startup": false,
            "wait_interval": 0
          },
          "output_extras": [
            {}
          ],
          "base_uri": "https://localhost:8080/",
          "height": 300
        },
        "outputId": "5bf7250a-3b67-4d22-ffbe-c76450c15416",
        "executionInfo": {
          "status": "ok",
          "timestamp": 1521349641263,
          "user_tz": 240,
          "elapsed": 1635,
          "user": {
            "displayName": "",
            "photoUrl": "",
            "userId": ""
          }
        }
      },
      "cell_type": "code",
      "source": [
        "orders_df.describe()"
      ],
      "execution_count": 0,
      "outputs": [
        {
          "output_type": "execute_result",
          "data": {
            "text/html": [
              "<div>\n",
              "<style scoped>\n",
              "    .dataframe tbody tr th:only-of-type {\n",
              "        vertical-align: middle;\n",
              "    }\n",
              "\n",
              "    .dataframe tbody tr th {\n",
              "        vertical-align: top;\n",
              "    }\n",
              "\n",
              "    .dataframe thead th {\n",
              "        text-align: right;\n",
              "    }\n",
              "</style>\n",
              "<table border=\"1\" class=\"dataframe\">\n",
              "  <thead>\n",
              "    <tr style=\"text-align: right;\">\n",
              "      <th></th>\n",
              "      <th>order_id</th>\n",
              "      <th>user_id</th>\n",
              "      <th>order_number</th>\n",
              "      <th>order_dow</th>\n",
              "      <th>order_hour_of_day</th>\n",
              "      <th>days_since_prior_order</th>\n",
              "    </tr>\n",
              "  </thead>\n",
              "  <tbody>\n",
              "    <tr>\n",
              "      <th>count</th>\n",
              "      <td>3.421083e+06</td>\n",
              "      <td>3.421083e+06</td>\n",
              "      <td>3.421083e+06</td>\n",
              "      <td>3.421083e+06</td>\n",
              "      <td>3.421083e+06</td>\n",
              "      <td>3.214874e+06</td>\n",
              "    </tr>\n",
              "    <tr>\n",
              "      <th>mean</th>\n",
              "      <td>1.710542e+06</td>\n",
              "      <td>1.029782e+05</td>\n",
              "      <td>1.715486e+01</td>\n",
              "      <td>2.776219e+00</td>\n",
              "      <td>1.345202e+01</td>\n",
              "      <td>1.111484e+01</td>\n",
              "    </tr>\n",
              "    <tr>\n",
              "      <th>std</th>\n",
              "      <td>9.875817e+05</td>\n",
              "      <td>5.953372e+04</td>\n",
              "      <td>1.773316e+01</td>\n",
              "      <td>2.046829e+00</td>\n",
              "      <td>4.226088e+00</td>\n",
              "      <td>9.206737e+00</td>\n",
              "    </tr>\n",
              "    <tr>\n",
              "      <th>min</th>\n",
              "      <td>1.000000e+00</td>\n",
              "      <td>1.000000e+00</td>\n",
              "      <td>1.000000e+00</td>\n",
              "      <td>0.000000e+00</td>\n",
              "      <td>0.000000e+00</td>\n",
              "      <td>0.000000e+00</td>\n",
              "    </tr>\n",
              "    <tr>\n",
              "      <th>25%</th>\n",
              "      <td>8.552715e+05</td>\n",
              "      <td>5.139400e+04</td>\n",
              "      <td>5.000000e+00</td>\n",
              "      <td>1.000000e+00</td>\n",
              "      <td>1.000000e+01</td>\n",
              "      <td>4.000000e+00</td>\n",
              "    </tr>\n",
              "    <tr>\n",
              "      <th>50%</th>\n",
              "      <td>1.710542e+06</td>\n",
              "      <td>1.026890e+05</td>\n",
              "      <td>1.100000e+01</td>\n",
              "      <td>3.000000e+00</td>\n",
              "      <td>1.300000e+01</td>\n",
              "      <td>7.000000e+00</td>\n",
              "    </tr>\n",
              "    <tr>\n",
              "      <th>75%</th>\n",
              "      <td>2.565812e+06</td>\n",
              "      <td>1.543850e+05</td>\n",
              "      <td>2.300000e+01</td>\n",
              "      <td>5.000000e+00</td>\n",
              "      <td>1.600000e+01</td>\n",
              "      <td>1.500000e+01</td>\n",
              "    </tr>\n",
              "    <tr>\n",
              "      <th>max</th>\n",
              "      <td>3.421083e+06</td>\n",
              "      <td>2.062090e+05</td>\n",
              "      <td>1.000000e+02</td>\n",
              "      <td>6.000000e+00</td>\n",
              "      <td>2.300000e+01</td>\n",
              "      <td>3.000000e+01</td>\n",
              "    </tr>\n",
              "  </tbody>\n",
              "</table>\n",
              "</div>"
            ],
            "text/plain": [
              "           order_id       user_id  order_number     order_dow  \\\n",
              "count  3.421083e+06  3.421083e+06  3.421083e+06  3.421083e+06   \n",
              "mean   1.710542e+06  1.029782e+05  1.715486e+01  2.776219e+00   \n",
              "std    9.875817e+05  5.953372e+04  1.773316e+01  2.046829e+00   \n",
              "min    1.000000e+00  1.000000e+00  1.000000e+00  0.000000e+00   \n",
              "25%    8.552715e+05  5.139400e+04  5.000000e+00  1.000000e+00   \n",
              "50%    1.710542e+06  1.026890e+05  1.100000e+01  3.000000e+00   \n",
              "75%    2.565812e+06  1.543850e+05  2.300000e+01  5.000000e+00   \n",
              "max    3.421083e+06  2.062090e+05  1.000000e+02  6.000000e+00   \n",
              "\n",
              "       order_hour_of_day  days_since_prior_order  \n",
              "count       3.421083e+06            3.214874e+06  \n",
              "mean        1.345202e+01            1.111484e+01  \n",
              "std         4.226088e+00            9.206737e+00  \n",
              "min         0.000000e+00            0.000000e+00  \n",
              "25%         1.000000e+01            4.000000e+00  \n",
              "50%         1.300000e+01            7.000000e+00  \n",
              "75%         1.600000e+01            1.500000e+01  \n",
              "max         2.300000e+01            3.000000e+01  "
            ]
          },
          "metadata": {
            "tags": []
          },
          "execution_count": 4
        }
      ]
    },
    {
      "metadata": {
        "id": "Xy4U47gQWg2a",
        "colab_type": "code",
        "colab": {
          "autoexec": {
            "startup": false,
            "wait_interval": 0
          },
          "output_extras": [
            {}
          ],
          "base_uri": "https://localhost:8080/",
          "height": 206
        },
        "outputId": "5f058ecd-9547-4b8f-98a7-a875a6a367ce",
        "executionInfo": {
          "status": "ok",
          "timestamp": 1521349641698,
          "user_tz": 240,
          "elapsed": 319,
          "user": {
            "displayName": "",
            "photoUrl": "",
            "userId": ""
          }
        }
      },
      "cell_type": "code",
      "source": [
        "orders_df.head()"
      ],
      "execution_count": 0,
      "outputs": [
        {
          "output_type": "execute_result",
          "data": {
            "text/html": [
              "<div>\n",
              "<style scoped>\n",
              "    .dataframe tbody tr th:only-of-type {\n",
              "        vertical-align: middle;\n",
              "    }\n",
              "\n",
              "    .dataframe tbody tr th {\n",
              "        vertical-align: top;\n",
              "    }\n",
              "\n",
              "    .dataframe thead th {\n",
              "        text-align: right;\n",
              "    }\n",
              "</style>\n",
              "<table border=\"1\" class=\"dataframe\">\n",
              "  <thead>\n",
              "    <tr style=\"text-align: right;\">\n",
              "      <th></th>\n",
              "      <th>order_id</th>\n",
              "      <th>user_id</th>\n",
              "      <th>eval_set</th>\n",
              "      <th>order_number</th>\n",
              "      <th>order_dow</th>\n",
              "      <th>order_hour_of_day</th>\n",
              "      <th>days_since_prior_order</th>\n",
              "    </tr>\n",
              "  </thead>\n",
              "  <tbody>\n",
              "    <tr>\n",
              "      <th>0</th>\n",
              "      <td>2539329</td>\n",
              "      <td>1</td>\n",
              "      <td>prior</td>\n",
              "      <td>1</td>\n",
              "      <td>2</td>\n",
              "      <td>8</td>\n",
              "      <td>NaN</td>\n",
              "    </tr>\n",
              "    <tr>\n",
              "      <th>1</th>\n",
              "      <td>2398795</td>\n",
              "      <td>1</td>\n",
              "      <td>prior</td>\n",
              "      <td>2</td>\n",
              "      <td>3</td>\n",
              "      <td>7</td>\n",
              "      <td>15.0</td>\n",
              "    </tr>\n",
              "    <tr>\n",
              "      <th>2</th>\n",
              "      <td>473747</td>\n",
              "      <td>1</td>\n",
              "      <td>prior</td>\n",
              "      <td>3</td>\n",
              "      <td>3</td>\n",
              "      <td>12</td>\n",
              "      <td>21.0</td>\n",
              "    </tr>\n",
              "    <tr>\n",
              "      <th>3</th>\n",
              "      <td>2254736</td>\n",
              "      <td>1</td>\n",
              "      <td>prior</td>\n",
              "      <td>4</td>\n",
              "      <td>4</td>\n",
              "      <td>7</td>\n",
              "      <td>29.0</td>\n",
              "    </tr>\n",
              "    <tr>\n",
              "      <th>4</th>\n",
              "      <td>431534</td>\n",
              "      <td>1</td>\n",
              "      <td>prior</td>\n",
              "      <td>5</td>\n",
              "      <td>4</td>\n",
              "      <td>15</td>\n",
              "      <td>28.0</td>\n",
              "    </tr>\n",
              "  </tbody>\n",
              "</table>\n",
              "</div>"
            ],
            "text/plain": [
              "   order_id  user_id eval_set  order_number  order_dow  order_hour_of_day  \\\n",
              "0   2539329        1    prior             1          2                  8   \n",
              "1   2398795        1    prior             2          3                  7   \n",
              "2    473747        1    prior             3          3                 12   \n",
              "3   2254736        1    prior             4          4                  7   \n",
              "4    431534        1    prior             5          4                 15   \n",
              "\n",
              "   days_since_prior_order  \n",
              "0                     NaN  \n",
              "1                    15.0  \n",
              "2                    21.0  \n",
              "3                    29.0  \n",
              "4                    28.0  "
            ]
          },
          "metadata": {
            "tags": []
          },
          "execution_count": 5
        }
      ]
    },
    {
      "metadata": {
        "id": "ouX2OgtxWg2l",
        "colab_type": "code",
        "colab": {
          "autoexec": {
            "startup": false,
            "wait_interval": 0
          },
          "output_extras": [
            {},
            {}
          ],
          "base_uri": "https://localhost:8080/",
          "height": 220
        },
        "outputId": "bb7154e4-984e-4bb8-d7a3-9fa137d8f943",
        "executionInfo": {
          "status": "ok",
          "timestamp": 1521349643206,
          "user_tz": 240,
          "elapsed": 1239,
          "user": {
            "displayName": "",
            "photoUrl": "",
            "userId": ""
          }
        }
      },
      "cell_type": "code",
      "source": [
        "order_cnt = orders_df.groupby(\"eval_set\").user_id.aggregate({'total_user':'nunique'}).reset_index()\n",
        "order_cnt"
      ],
      "execution_count": 0,
      "outputs": [
        {
          "output_type": "stream",
          "text": [
            "/usr/local/lib/python3.6/dist-packages/ipykernel_launcher.py:1: FutureWarning: using a dict on a Series for aggregation\n",
            "is deprecated and will be removed in a future version\n",
            "  \"\"\"Entry point for launching an IPython kernel.\n"
          ],
          "name": "stderr"
        },
        {
          "output_type": "execute_result",
          "data": {
            "text/html": [
              "<div>\n",
              "<style scoped>\n",
              "    .dataframe tbody tr th:only-of-type {\n",
              "        vertical-align: middle;\n",
              "    }\n",
              "\n",
              "    .dataframe tbody tr th {\n",
              "        vertical-align: top;\n",
              "    }\n",
              "\n",
              "    .dataframe thead th {\n",
              "        text-align: right;\n",
              "    }\n",
              "</style>\n",
              "<table border=\"1\" class=\"dataframe\">\n",
              "  <thead>\n",
              "    <tr style=\"text-align: right;\">\n",
              "      <th></th>\n",
              "      <th>eval_set</th>\n",
              "      <th>total_user</th>\n",
              "    </tr>\n",
              "  </thead>\n",
              "  <tbody>\n",
              "    <tr>\n",
              "      <th>0</th>\n",
              "      <td>prior</td>\n",
              "      <td>206209</td>\n",
              "    </tr>\n",
              "    <tr>\n",
              "      <th>1</th>\n",
              "      <td>test</td>\n",
              "      <td>75000</td>\n",
              "    </tr>\n",
              "    <tr>\n",
              "      <th>2</th>\n",
              "      <td>train</td>\n",
              "      <td>131209</td>\n",
              "    </tr>\n",
              "  </tbody>\n",
              "</table>\n",
              "</div>"
            ],
            "text/plain": [
              "  eval_set  total_user\n",
              "0    prior      206209\n",
              "1     test       75000\n",
              "2    train      131209"
            ]
          },
          "metadata": {
            "tags": []
          },
          "execution_count": 6
        }
      ]
    },
    {
      "metadata": {
        "id": "38Cbun-2Wg2z",
        "colab_type": "text"
      },
      "cell_type": "markdown",
      "source": [
        "These data frames (order_products_[prior/train]_df specify which products were purchased in each order. order_products_prior_df contains previous order contents for all customers. \n",
        "\n",
        "'reordered' indicates that the customer has a previous order that contains the product. (Some orders will have no reordered items). We may predict an explicit 'None' value for orders with no reordered items. "
      ]
    },
    {
      "metadata": {
        "id": "CYnNwKglWg23",
        "colab_type": "code",
        "colab": {
          "autoexec": {
            "startup": false,
            "wait_interval": 0
          },
          "output_extras": [
            {}
          ],
          "base_uri": "https://localhost:8080/",
          "height": 300
        },
        "outputId": "a53e1025-6ca5-4df4-b68a-6ded325f476e",
        "executionInfo": {
          "status": "ok",
          "timestamp": 1521349651552,
          "user_tz": 240,
          "elapsed": 8238,
          "user": {
            "displayName": "",
            "photoUrl": "",
            "userId": ""
          }
        }
      },
      "cell_type": "code",
      "source": [
        "order_products_prior_df.describe()"
      ],
      "execution_count": 0,
      "outputs": [
        {
          "output_type": "execute_result",
          "data": {
            "text/html": [
              "<div>\n",
              "<style scoped>\n",
              "    .dataframe tbody tr th:only-of-type {\n",
              "        vertical-align: middle;\n",
              "    }\n",
              "\n",
              "    .dataframe tbody tr th {\n",
              "        vertical-align: top;\n",
              "    }\n",
              "\n",
              "    .dataframe thead th {\n",
              "        text-align: right;\n",
              "    }\n",
              "</style>\n",
              "<table border=\"1\" class=\"dataframe\">\n",
              "  <thead>\n",
              "    <tr style=\"text-align: right;\">\n",
              "      <th></th>\n",
              "      <th>order_id</th>\n",
              "      <th>product_id</th>\n",
              "      <th>add_to_cart_order</th>\n",
              "      <th>reordered</th>\n",
              "    </tr>\n",
              "  </thead>\n",
              "  <tbody>\n",
              "    <tr>\n",
              "      <th>count</th>\n",
              "      <td>3.243449e+07</td>\n",
              "      <td>3.243449e+07</td>\n",
              "      <td>3.243449e+07</td>\n",
              "      <td>3.243449e+07</td>\n",
              "    </tr>\n",
              "    <tr>\n",
              "      <th>mean</th>\n",
              "      <td>1.710749e+06</td>\n",
              "      <td>2.557634e+04</td>\n",
              "      <td>8.351076e+00</td>\n",
              "      <td>5.896975e-01</td>\n",
              "    </tr>\n",
              "    <tr>\n",
              "      <th>std</th>\n",
              "      <td>9.873007e+05</td>\n",
              "      <td>1.409669e+04</td>\n",
              "      <td>7.126671e+00</td>\n",
              "      <td>4.918886e-01</td>\n",
              "    </tr>\n",
              "    <tr>\n",
              "      <th>min</th>\n",
              "      <td>2.000000e+00</td>\n",
              "      <td>1.000000e+00</td>\n",
              "      <td>1.000000e+00</td>\n",
              "      <td>0.000000e+00</td>\n",
              "    </tr>\n",
              "    <tr>\n",
              "      <th>25%</th>\n",
              "      <td>8.559430e+05</td>\n",
              "      <td>1.353000e+04</td>\n",
              "      <td>3.000000e+00</td>\n",
              "      <td>0.000000e+00</td>\n",
              "    </tr>\n",
              "    <tr>\n",
              "      <th>50%</th>\n",
              "      <td>1.711048e+06</td>\n",
              "      <td>2.525600e+04</td>\n",
              "      <td>6.000000e+00</td>\n",
              "      <td>1.000000e+00</td>\n",
              "    </tr>\n",
              "    <tr>\n",
              "      <th>75%</th>\n",
              "      <td>2.565514e+06</td>\n",
              "      <td>3.793500e+04</td>\n",
              "      <td>1.100000e+01</td>\n",
              "      <td>1.000000e+00</td>\n",
              "    </tr>\n",
              "    <tr>\n",
              "      <th>max</th>\n",
              "      <td>3.421083e+06</td>\n",
              "      <td>4.968800e+04</td>\n",
              "      <td>1.450000e+02</td>\n",
              "      <td>1.000000e+00</td>\n",
              "    </tr>\n",
              "  </tbody>\n",
              "</table>\n",
              "</div>"
            ],
            "text/plain": [
              "           order_id    product_id  add_to_cart_order     reordered\n",
              "count  3.243449e+07  3.243449e+07       3.243449e+07  3.243449e+07\n",
              "mean   1.710749e+06  2.557634e+04       8.351076e+00  5.896975e-01\n",
              "std    9.873007e+05  1.409669e+04       7.126671e+00  4.918886e-01\n",
              "min    2.000000e+00  1.000000e+00       1.000000e+00  0.000000e+00\n",
              "25%    8.559430e+05  1.353000e+04       3.000000e+00  0.000000e+00\n",
              "50%    1.711048e+06  2.525600e+04       6.000000e+00  1.000000e+00\n",
              "75%    2.565514e+06  3.793500e+04       1.100000e+01  1.000000e+00\n",
              "max    3.421083e+06  4.968800e+04       1.450000e+02  1.000000e+00"
            ]
          },
          "metadata": {
            "tags": []
          },
          "execution_count": 7
        }
      ]
    },
    {
      "metadata": {
        "id": "J4FFvfqSWg3G",
        "colab_type": "code",
        "colab": {
          "autoexec": {
            "startup": false,
            "wait_interval": 0
          },
          "output_extras": [
            {}
          ],
          "base_uri": "https://localhost:8080/",
          "height": 206
        },
        "outputId": "ed163911-868c-40a0-a690-9c326cae92d7",
        "executionInfo": {
          "status": "ok",
          "timestamp": 1521349652196,
          "user_tz": 240,
          "elapsed": 302,
          "user": {
            "displayName": "",
            "photoUrl": "",
            "userId": ""
          }
        }
      },
      "cell_type": "code",
      "source": [
        "order_products_prior_df.head()"
      ],
      "execution_count": 0,
      "outputs": [
        {
          "output_type": "execute_result",
          "data": {
            "text/html": [
              "<div>\n",
              "<style scoped>\n",
              "    .dataframe tbody tr th:only-of-type {\n",
              "        vertical-align: middle;\n",
              "    }\n",
              "\n",
              "    .dataframe tbody tr th {\n",
              "        vertical-align: top;\n",
              "    }\n",
              "\n",
              "    .dataframe thead th {\n",
              "        text-align: right;\n",
              "    }\n",
              "</style>\n",
              "<table border=\"1\" class=\"dataframe\">\n",
              "  <thead>\n",
              "    <tr style=\"text-align: right;\">\n",
              "      <th></th>\n",
              "      <th>order_id</th>\n",
              "      <th>product_id</th>\n",
              "      <th>add_to_cart_order</th>\n",
              "      <th>reordered</th>\n",
              "    </tr>\n",
              "  </thead>\n",
              "  <tbody>\n",
              "    <tr>\n",
              "      <th>0</th>\n",
              "      <td>2</td>\n",
              "      <td>33120</td>\n",
              "      <td>1</td>\n",
              "      <td>1</td>\n",
              "    </tr>\n",
              "    <tr>\n",
              "      <th>1</th>\n",
              "      <td>2</td>\n",
              "      <td>28985</td>\n",
              "      <td>2</td>\n",
              "      <td>1</td>\n",
              "    </tr>\n",
              "    <tr>\n",
              "      <th>2</th>\n",
              "      <td>2</td>\n",
              "      <td>9327</td>\n",
              "      <td>3</td>\n",
              "      <td>0</td>\n",
              "    </tr>\n",
              "    <tr>\n",
              "      <th>3</th>\n",
              "      <td>2</td>\n",
              "      <td>45918</td>\n",
              "      <td>4</td>\n",
              "      <td>1</td>\n",
              "    </tr>\n",
              "    <tr>\n",
              "      <th>4</th>\n",
              "      <td>2</td>\n",
              "      <td>30035</td>\n",
              "      <td>5</td>\n",
              "      <td>0</td>\n",
              "    </tr>\n",
              "  </tbody>\n",
              "</table>\n",
              "</div>"
            ],
            "text/plain": [
              "   order_id  product_id  add_to_cart_order  reordered\n",
              "0         2       33120                  1          1\n",
              "1         2       28985                  2          1\n",
              "2         2        9327                  3          0\n",
              "3         2       45918                  4          1\n",
              "4         2       30035                  5          0"
            ]
          },
          "metadata": {
            "tags": []
          },
          "execution_count": 8
        }
      ]
    },
    {
      "metadata": {
        "id": "eA3yZY2WWg3Z",
        "colab_type": "code",
        "colab": {
          "autoexec": {
            "startup": false,
            "wait_interval": 0
          },
          "output_extras": [
            {}
          ],
          "base_uri": "https://localhost:8080/",
          "height": 300
        },
        "outputId": "8dffd1b4-28bf-4342-c57c-cec7655eaa36",
        "executionInfo": {
          "status": "ok",
          "timestamp": 1521349653017,
          "user_tz": 240,
          "elapsed": 537,
          "user": {
            "displayName": "",
            "photoUrl": "",
            "userId": ""
          }
        }
      },
      "cell_type": "code",
      "source": [
        "order_products_train_df.describe()"
      ],
      "execution_count": 0,
      "outputs": [
        {
          "output_type": "execute_result",
          "data": {
            "text/html": [
              "<div>\n",
              "<style scoped>\n",
              "    .dataframe tbody tr th:only-of-type {\n",
              "        vertical-align: middle;\n",
              "    }\n",
              "\n",
              "    .dataframe tbody tr th {\n",
              "        vertical-align: top;\n",
              "    }\n",
              "\n",
              "    .dataframe thead th {\n",
              "        text-align: right;\n",
              "    }\n",
              "</style>\n",
              "<table border=\"1\" class=\"dataframe\">\n",
              "  <thead>\n",
              "    <tr style=\"text-align: right;\">\n",
              "      <th></th>\n",
              "      <th>order_id</th>\n",
              "      <th>product_id</th>\n",
              "      <th>add_to_cart_order</th>\n",
              "      <th>reordered</th>\n",
              "    </tr>\n",
              "  </thead>\n",
              "  <tbody>\n",
              "    <tr>\n",
              "      <th>count</th>\n",
              "      <td>1.384617e+06</td>\n",
              "      <td>1.384617e+06</td>\n",
              "      <td>1.384617e+06</td>\n",
              "      <td>1.384617e+06</td>\n",
              "    </tr>\n",
              "    <tr>\n",
              "      <th>mean</th>\n",
              "      <td>1.706298e+06</td>\n",
              "      <td>2.555624e+04</td>\n",
              "      <td>8.758044e+00</td>\n",
              "      <td>5.985944e-01</td>\n",
              "    </tr>\n",
              "    <tr>\n",
              "      <th>std</th>\n",
              "      <td>9.897326e+05</td>\n",
              "      <td>1.412127e+04</td>\n",
              "      <td>7.423936e+00</td>\n",
              "      <td>4.901829e-01</td>\n",
              "    </tr>\n",
              "    <tr>\n",
              "      <th>min</th>\n",
              "      <td>1.000000e+00</td>\n",
              "      <td>1.000000e+00</td>\n",
              "      <td>1.000000e+00</td>\n",
              "      <td>0.000000e+00</td>\n",
              "    </tr>\n",
              "    <tr>\n",
              "      <th>25%</th>\n",
              "      <td>8.433700e+05</td>\n",
              "      <td>1.338000e+04</td>\n",
              "      <td>3.000000e+00</td>\n",
              "      <td>0.000000e+00</td>\n",
              "    </tr>\n",
              "    <tr>\n",
              "      <th>50%</th>\n",
              "      <td>1.701880e+06</td>\n",
              "      <td>2.529800e+04</td>\n",
              "      <td>7.000000e+00</td>\n",
              "      <td>1.000000e+00</td>\n",
              "    </tr>\n",
              "    <tr>\n",
              "      <th>75%</th>\n",
              "      <td>2.568023e+06</td>\n",
              "      <td>3.794000e+04</td>\n",
              "      <td>1.200000e+01</td>\n",
              "      <td>1.000000e+00</td>\n",
              "    </tr>\n",
              "    <tr>\n",
              "      <th>max</th>\n",
              "      <td>3.421070e+06</td>\n",
              "      <td>4.968800e+04</td>\n",
              "      <td>8.000000e+01</td>\n",
              "      <td>1.000000e+00</td>\n",
              "    </tr>\n",
              "  </tbody>\n",
              "</table>\n",
              "</div>"
            ],
            "text/plain": [
              "           order_id    product_id  add_to_cart_order     reordered\n",
              "count  1.384617e+06  1.384617e+06       1.384617e+06  1.384617e+06\n",
              "mean   1.706298e+06  2.555624e+04       8.758044e+00  5.985944e-01\n",
              "std    9.897326e+05  1.412127e+04       7.423936e+00  4.901829e-01\n",
              "min    1.000000e+00  1.000000e+00       1.000000e+00  0.000000e+00\n",
              "25%    8.433700e+05  1.338000e+04       3.000000e+00  0.000000e+00\n",
              "50%    1.701880e+06  2.529800e+04       7.000000e+00  1.000000e+00\n",
              "75%    2.568023e+06  3.794000e+04       1.200000e+01  1.000000e+00\n",
              "max    3.421070e+06  4.968800e+04       8.000000e+01  1.000000e+00"
            ]
          },
          "metadata": {
            "tags": []
          },
          "execution_count": 9
        }
      ]
    },
    {
      "metadata": {
        "id": "j9pTTSvQWg3l",
        "colab_type": "code",
        "colab": {
          "autoexec": {
            "startup": false,
            "wait_interval": 0
          },
          "output_extras": [
            {}
          ],
          "base_uri": "https://localhost:8080/",
          "height": 206
        },
        "outputId": "966d5d1c-ecae-4cd1-f470-e8f35d11d45c",
        "executionInfo": {
          "status": "ok",
          "timestamp": 1521349653717,
          "user_tz": 240,
          "elapsed": 320,
          "user": {
            "displayName": "",
            "photoUrl": "",
            "userId": ""
          }
        }
      },
      "cell_type": "code",
      "source": [
        "order_products_train_df.head()"
      ],
      "execution_count": 0,
      "outputs": [
        {
          "output_type": "execute_result",
          "data": {
            "text/html": [
              "<div>\n",
              "<style scoped>\n",
              "    .dataframe tbody tr th:only-of-type {\n",
              "        vertical-align: middle;\n",
              "    }\n",
              "\n",
              "    .dataframe tbody tr th {\n",
              "        vertical-align: top;\n",
              "    }\n",
              "\n",
              "    .dataframe thead th {\n",
              "        text-align: right;\n",
              "    }\n",
              "</style>\n",
              "<table border=\"1\" class=\"dataframe\">\n",
              "  <thead>\n",
              "    <tr style=\"text-align: right;\">\n",
              "      <th></th>\n",
              "      <th>order_id</th>\n",
              "      <th>product_id</th>\n",
              "      <th>add_to_cart_order</th>\n",
              "      <th>reordered</th>\n",
              "    </tr>\n",
              "  </thead>\n",
              "  <tbody>\n",
              "    <tr>\n",
              "      <th>0</th>\n",
              "      <td>1</td>\n",
              "      <td>49302</td>\n",
              "      <td>1</td>\n",
              "      <td>1</td>\n",
              "    </tr>\n",
              "    <tr>\n",
              "      <th>1</th>\n",
              "      <td>1</td>\n",
              "      <td>11109</td>\n",
              "      <td>2</td>\n",
              "      <td>1</td>\n",
              "    </tr>\n",
              "    <tr>\n",
              "      <th>2</th>\n",
              "      <td>1</td>\n",
              "      <td>10246</td>\n",
              "      <td>3</td>\n",
              "      <td>0</td>\n",
              "    </tr>\n",
              "    <tr>\n",
              "      <th>3</th>\n",
              "      <td>1</td>\n",
              "      <td>49683</td>\n",
              "      <td>4</td>\n",
              "      <td>0</td>\n",
              "    </tr>\n",
              "    <tr>\n",
              "      <th>4</th>\n",
              "      <td>1</td>\n",
              "      <td>43633</td>\n",
              "      <td>5</td>\n",
              "      <td>1</td>\n",
              "    </tr>\n",
              "  </tbody>\n",
              "</table>\n",
              "</div>"
            ],
            "text/plain": [
              "   order_id  product_id  add_to_cart_order  reordered\n",
              "0         1       49302                  1          1\n",
              "1         1       11109                  2          1\n",
              "2         1       10246                  3          0\n",
              "3         1       49683                  4          0\n",
              "4         1       43633                  5          1"
            ]
          },
          "metadata": {
            "tags": []
          },
          "execution_count": 10
        }
      ]
    },
    {
      "metadata": {
        "id": "OZQIF3FkWg30",
        "colab_type": "code",
        "colab": {
          "autoexec": {
            "startup": false,
            "wait_interval": 0
          },
          "output_extras": [
            {}
          ],
          "base_uri": "https://localhost:8080/",
          "height": 300
        },
        "outputId": "e7159503-f0a5-41eb-f34f-aae4f1bbca7f",
        "executionInfo": {
          "status": "ok",
          "timestamp": 1521349654284,
          "user_tz": 240,
          "elapsed": 268,
          "user": {
            "displayName": "",
            "photoUrl": "",
            "userId": ""
          }
        }
      },
      "cell_type": "code",
      "source": [
        "products_df.describe()"
      ],
      "execution_count": 0,
      "outputs": [
        {
          "output_type": "execute_result",
          "data": {
            "text/html": [
              "<div>\n",
              "<style scoped>\n",
              "    .dataframe tbody tr th:only-of-type {\n",
              "        vertical-align: middle;\n",
              "    }\n",
              "\n",
              "    .dataframe tbody tr th {\n",
              "        vertical-align: top;\n",
              "    }\n",
              "\n",
              "    .dataframe thead th {\n",
              "        text-align: right;\n",
              "    }\n",
              "</style>\n",
              "<table border=\"1\" class=\"dataframe\">\n",
              "  <thead>\n",
              "    <tr style=\"text-align: right;\">\n",
              "      <th></th>\n",
              "      <th>product_id</th>\n",
              "      <th>aisle_id</th>\n",
              "      <th>department_id</th>\n",
              "    </tr>\n",
              "  </thead>\n",
              "  <tbody>\n",
              "    <tr>\n",
              "      <th>count</th>\n",
              "      <td>49688.000000</td>\n",
              "      <td>49688.000000</td>\n",
              "      <td>49688.000000</td>\n",
              "    </tr>\n",
              "    <tr>\n",
              "      <th>mean</th>\n",
              "      <td>24844.500000</td>\n",
              "      <td>67.769582</td>\n",
              "      <td>11.728687</td>\n",
              "    </tr>\n",
              "    <tr>\n",
              "      <th>std</th>\n",
              "      <td>14343.834425</td>\n",
              "      <td>38.316162</td>\n",
              "      <td>5.850410</td>\n",
              "    </tr>\n",
              "    <tr>\n",
              "      <th>min</th>\n",
              "      <td>1.000000</td>\n",
              "      <td>1.000000</td>\n",
              "      <td>1.000000</td>\n",
              "    </tr>\n",
              "    <tr>\n",
              "      <th>25%</th>\n",
              "      <td>12422.750000</td>\n",
              "      <td>35.000000</td>\n",
              "      <td>7.000000</td>\n",
              "    </tr>\n",
              "    <tr>\n",
              "      <th>50%</th>\n",
              "      <td>24844.500000</td>\n",
              "      <td>69.000000</td>\n",
              "      <td>13.000000</td>\n",
              "    </tr>\n",
              "    <tr>\n",
              "      <th>75%</th>\n",
              "      <td>37266.250000</td>\n",
              "      <td>100.000000</td>\n",
              "      <td>17.000000</td>\n",
              "    </tr>\n",
              "    <tr>\n",
              "      <th>max</th>\n",
              "      <td>49688.000000</td>\n",
              "      <td>134.000000</td>\n",
              "      <td>21.000000</td>\n",
              "    </tr>\n",
              "  </tbody>\n",
              "</table>\n",
              "</div>"
            ],
            "text/plain": [
              "         product_id      aisle_id  department_id\n",
              "count  49688.000000  49688.000000   49688.000000\n",
              "mean   24844.500000     67.769582      11.728687\n",
              "std    14343.834425     38.316162       5.850410\n",
              "min        1.000000      1.000000       1.000000\n",
              "25%    12422.750000     35.000000       7.000000\n",
              "50%    24844.500000     69.000000      13.000000\n",
              "75%    37266.250000    100.000000      17.000000\n",
              "max    49688.000000    134.000000      21.000000"
            ]
          },
          "metadata": {
            "tags": []
          },
          "execution_count": 11
        }
      ]
    },
    {
      "metadata": {
        "id": "jotTSr6_Wg3_",
        "colab_type": "code",
        "colab": {
          "autoexec": {
            "startup": false,
            "wait_interval": 0
          },
          "output_extras": [
            {},
            {}
          ],
          "base_uri": "https://localhost:8080/",
          "height": 451
        },
        "outputId": "b9e1b186-7c38-4055-ab91-35e86e9bf381",
        "executionInfo": {
          "status": "ok",
          "timestamp": 1521349655039,
          "user_tz": 240,
          "elapsed": 469,
          "user": {
            "displayName": "",
            "photoUrl": "",
            "userId": ""
          }
        }
      },
      "cell_type": "code",
      "source": [
        "print(products_df.head())\n",
        "products_df.tail()"
      ],
      "execution_count": 0,
      "outputs": [
        {
          "output_type": "stream",
          "text": [
            "   product_id                                       product_name  aisle_id  \\\n",
            "0           1                         Chocolate Sandwich Cookies        61   \n",
            "1           2                                   All-Seasons Salt       104   \n",
            "2           3               Robust Golden Unsweetened Oolong Tea        94   \n",
            "3           4  Smart Ones Classic Favorites Mini Rigatoni Wit...        38   \n",
            "4           5                          Green Chile Anytime Sauce         5   \n",
            "\n",
            "   department_id  \n",
            "0             19  \n",
            "1             13  \n",
            "2              7  \n",
            "3              1  \n",
            "4             13  \n"
          ],
          "name": "stdout"
        },
        {
          "output_type": "execute_result",
          "data": {
            "text/html": [
              "<div>\n",
              "<style scoped>\n",
              "    .dataframe tbody tr th:only-of-type {\n",
              "        vertical-align: middle;\n",
              "    }\n",
              "\n",
              "    .dataframe tbody tr th {\n",
              "        vertical-align: top;\n",
              "    }\n",
              "\n",
              "    .dataframe thead th {\n",
              "        text-align: right;\n",
              "    }\n",
              "</style>\n",
              "<table border=\"1\" class=\"dataframe\">\n",
              "  <thead>\n",
              "    <tr style=\"text-align: right;\">\n",
              "      <th></th>\n",
              "      <th>product_id</th>\n",
              "      <th>product_name</th>\n",
              "      <th>aisle_id</th>\n",
              "      <th>department_id</th>\n",
              "    </tr>\n",
              "  </thead>\n",
              "  <tbody>\n",
              "    <tr>\n",
              "      <th>49683</th>\n",
              "      <td>49684</td>\n",
              "      <td>Vodka, Triple Distilled, Twist of Vanilla</td>\n",
              "      <td>124</td>\n",
              "      <td>5</td>\n",
              "    </tr>\n",
              "    <tr>\n",
              "      <th>49684</th>\n",
              "      <td>49685</td>\n",
              "      <td>En Croute Roast Hazelnut Cranberry</td>\n",
              "      <td>42</td>\n",
              "      <td>1</td>\n",
              "    </tr>\n",
              "    <tr>\n",
              "      <th>49685</th>\n",
              "      <td>49686</td>\n",
              "      <td>Artisan Baguette</td>\n",
              "      <td>112</td>\n",
              "      <td>3</td>\n",
              "    </tr>\n",
              "    <tr>\n",
              "      <th>49686</th>\n",
              "      <td>49687</td>\n",
              "      <td>Smartblend Healthy Metabolism Dry Cat Food</td>\n",
              "      <td>41</td>\n",
              "      <td>8</td>\n",
              "    </tr>\n",
              "    <tr>\n",
              "      <th>49687</th>\n",
              "      <td>49688</td>\n",
              "      <td>Fresh Foaming Cleanser</td>\n",
              "      <td>73</td>\n",
              "      <td>11</td>\n",
              "    </tr>\n",
              "  </tbody>\n",
              "</table>\n",
              "</div>"
            ],
            "text/plain": [
              "       product_id                                product_name  aisle_id  \\\n",
              "49683       49684   Vodka, Triple Distilled, Twist of Vanilla       124   \n",
              "49684       49685          En Croute Roast Hazelnut Cranberry        42   \n",
              "49685       49686                            Artisan Baguette       112   \n",
              "49686       49687  Smartblend Healthy Metabolism Dry Cat Food        41   \n",
              "49687       49688                      Fresh Foaming Cleanser        73   \n",
              "\n",
              "       department_id  \n",
              "49683              5  \n",
              "49684              1  \n",
              "49685              3  \n",
              "49686              8  \n",
              "49687             11  "
            ]
          },
          "metadata": {
            "tags": []
          },
          "execution_count": 12
        }
      ]
    },
    {
      "metadata": {
        "id": "tJz1s3heWg4L",
        "colab_type": "code",
        "colab": {
          "autoexec": {
            "startup": false,
            "wait_interval": 0
          },
          "output_extras": [
            {}
          ],
          "base_uri": "https://localhost:8080/",
          "height": 300
        },
        "outputId": "a93a3e73-7167-418f-88ab-6a7b1c5c3deb",
        "executionInfo": {
          "status": "ok",
          "timestamp": 1521349655824,
          "user_tz": 240,
          "elapsed": 442,
          "user": {
            "displayName": "",
            "photoUrl": "",
            "userId": ""
          }
        }
      },
      "cell_type": "code",
      "source": [
        "aisles_df.describe()"
      ],
      "execution_count": 0,
      "outputs": [
        {
          "output_type": "execute_result",
          "data": {
            "text/html": [
              "<div>\n",
              "<style scoped>\n",
              "    .dataframe tbody tr th:only-of-type {\n",
              "        vertical-align: middle;\n",
              "    }\n",
              "\n",
              "    .dataframe tbody tr th {\n",
              "        vertical-align: top;\n",
              "    }\n",
              "\n",
              "    .dataframe thead th {\n",
              "        text-align: right;\n",
              "    }\n",
              "</style>\n",
              "<table border=\"1\" class=\"dataframe\">\n",
              "  <thead>\n",
              "    <tr style=\"text-align: right;\">\n",
              "      <th></th>\n",
              "      <th>aisle_id</th>\n",
              "    </tr>\n",
              "  </thead>\n",
              "  <tbody>\n",
              "    <tr>\n",
              "      <th>count</th>\n",
              "      <td>134.000000</td>\n",
              "    </tr>\n",
              "    <tr>\n",
              "      <th>mean</th>\n",
              "      <td>67.500000</td>\n",
              "    </tr>\n",
              "    <tr>\n",
              "      <th>std</th>\n",
              "      <td>38.826537</td>\n",
              "    </tr>\n",
              "    <tr>\n",
              "      <th>min</th>\n",
              "      <td>1.000000</td>\n",
              "    </tr>\n",
              "    <tr>\n",
              "      <th>25%</th>\n",
              "      <td>34.250000</td>\n",
              "    </tr>\n",
              "    <tr>\n",
              "      <th>50%</th>\n",
              "      <td>67.500000</td>\n",
              "    </tr>\n",
              "    <tr>\n",
              "      <th>75%</th>\n",
              "      <td>100.750000</td>\n",
              "    </tr>\n",
              "    <tr>\n",
              "      <th>max</th>\n",
              "      <td>134.000000</td>\n",
              "    </tr>\n",
              "  </tbody>\n",
              "</table>\n",
              "</div>"
            ],
            "text/plain": [
              "         aisle_id\n",
              "count  134.000000\n",
              "mean    67.500000\n",
              "std     38.826537\n",
              "min      1.000000\n",
              "25%     34.250000\n",
              "50%     67.500000\n",
              "75%    100.750000\n",
              "max    134.000000"
            ]
          },
          "metadata": {
            "tags": []
          },
          "execution_count": 13
        }
      ]
    },
    {
      "metadata": {
        "id": "UCjBTJiBWg4V",
        "colab_type": "code",
        "colab": {
          "autoexec": {
            "startup": false,
            "wait_interval": 0
          },
          "output_extras": [
            {}
          ],
          "base_uri": "https://localhost:8080/",
          "height": 243
        },
        "outputId": "f9f19150-db79-4cc1-b6a4-78244152c3f1",
        "executionInfo": {
          "status": "ok",
          "timestamp": 1521349656426,
          "user_tz": 240,
          "elapsed": 303,
          "user": {
            "displayName": "",
            "photoUrl": "",
            "userId": ""
          }
        }
      },
      "cell_type": "code",
      "source": [
        "print(aisles_df.head())\n",
        "print(aisles_df.tail())"
      ],
      "execution_count": 0,
      "outputs": [
        {
          "output_type": "stream",
          "text": [
            "   aisle_id                       aisle\n",
            "0         1       prepared soups salads\n",
            "1         2           specialty cheeses\n",
            "2         3         energy granola bars\n",
            "3         4               instant foods\n",
            "4         5  marinades meat preparation\n",
            "     aisle_id                       aisle\n",
            "129       130    hot cereal pancake mixes\n",
            "130       131                   dry pasta\n",
            "131       132                      beauty\n",
            "132       133  muscles joints pain relief\n",
            "133       134  specialty wines champagnes\n"
          ],
          "name": "stdout"
        }
      ]
    },
    {
      "metadata": {
        "id": "IQvJtlU2Wg4h",
        "colab_type": "code",
        "colab": {
          "autoexec": {
            "startup": false,
            "wait_interval": 0
          },
          "output_extras": [
            {}
          ],
          "base_uri": "https://localhost:8080/",
          "height": 300
        },
        "outputId": "59d3d12c-cf3f-43c3-8c9f-e9c071609690",
        "executionInfo": {
          "status": "ok",
          "timestamp": 1521349656951,
          "user_tz": 240,
          "elapsed": 274,
          "user": {
            "displayName": "",
            "photoUrl": "",
            "userId": ""
          }
        }
      },
      "cell_type": "code",
      "source": [
        "departments_df.describe()"
      ],
      "execution_count": 0,
      "outputs": [
        {
          "output_type": "execute_result",
          "data": {
            "text/html": [
              "<div>\n",
              "<style scoped>\n",
              "    .dataframe tbody tr th:only-of-type {\n",
              "        vertical-align: middle;\n",
              "    }\n",
              "\n",
              "    .dataframe tbody tr th {\n",
              "        vertical-align: top;\n",
              "    }\n",
              "\n",
              "    .dataframe thead th {\n",
              "        text-align: right;\n",
              "    }\n",
              "</style>\n",
              "<table border=\"1\" class=\"dataframe\">\n",
              "  <thead>\n",
              "    <tr style=\"text-align: right;\">\n",
              "      <th></th>\n",
              "      <th>department_id</th>\n",
              "    </tr>\n",
              "  </thead>\n",
              "  <tbody>\n",
              "    <tr>\n",
              "      <th>count</th>\n",
              "      <td>21.000000</td>\n",
              "    </tr>\n",
              "    <tr>\n",
              "      <th>mean</th>\n",
              "      <td>11.000000</td>\n",
              "    </tr>\n",
              "    <tr>\n",
              "      <th>std</th>\n",
              "      <td>6.204837</td>\n",
              "    </tr>\n",
              "    <tr>\n",
              "      <th>min</th>\n",
              "      <td>1.000000</td>\n",
              "    </tr>\n",
              "    <tr>\n",
              "      <th>25%</th>\n",
              "      <td>6.000000</td>\n",
              "    </tr>\n",
              "    <tr>\n",
              "      <th>50%</th>\n",
              "      <td>11.000000</td>\n",
              "    </tr>\n",
              "    <tr>\n",
              "      <th>75%</th>\n",
              "      <td>16.000000</td>\n",
              "    </tr>\n",
              "    <tr>\n",
              "      <th>max</th>\n",
              "      <td>21.000000</td>\n",
              "    </tr>\n",
              "  </tbody>\n",
              "</table>\n",
              "</div>"
            ],
            "text/plain": [
              "       department_id\n",
              "count      21.000000\n",
              "mean       11.000000\n",
              "std         6.204837\n",
              "min         1.000000\n",
              "25%         6.000000\n",
              "50%        11.000000\n",
              "75%        16.000000\n",
              "max        21.000000"
            ]
          },
          "metadata": {
            "tags": []
          },
          "execution_count": 15
        }
      ]
    },
    {
      "metadata": {
        "id": "oGK7oqNjWg5D",
        "colab_type": "code",
        "colab": {
          "autoexec": {
            "startup": false,
            "wait_interval": 0
          },
          "output_extras": [
            {}
          ],
          "base_uri": "https://localhost:8080/",
          "height": 708
        },
        "outputId": "5979bff0-e57e-4f24-8082-43c0bacbe628",
        "executionInfo": {
          "status": "ok",
          "timestamp": 1521349657488,
          "user_tz": 240,
          "elapsed": 325,
          "user": {
            "displayName": "",
            "photoUrl": "",
            "userId": ""
          }
        }
      },
      "cell_type": "code",
      "source": [
        "departments_df"
      ],
      "execution_count": 0,
      "outputs": [
        {
          "output_type": "execute_result",
          "data": {
            "text/html": [
              "<div>\n",
              "<style scoped>\n",
              "    .dataframe tbody tr th:only-of-type {\n",
              "        vertical-align: middle;\n",
              "    }\n",
              "\n",
              "    .dataframe tbody tr th {\n",
              "        vertical-align: top;\n",
              "    }\n",
              "\n",
              "    .dataframe thead th {\n",
              "        text-align: right;\n",
              "    }\n",
              "</style>\n",
              "<table border=\"1\" class=\"dataframe\">\n",
              "  <thead>\n",
              "    <tr style=\"text-align: right;\">\n",
              "      <th></th>\n",
              "      <th>department_id</th>\n",
              "      <th>department</th>\n",
              "    </tr>\n",
              "  </thead>\n",
              "  <tbody>\n",
              "    <tr>\n",
              "      <th>0</th>\n",
              "      <td>1</td>\n",
              "      <td>frozen</td>\n",
              "    </tr>\n",
              "    <tr>\n",
              "      <th>1</th>\n",
              "      <td>2</td>\n",
              "      <td>other</td>\n",
              "    </tr>\n",
              "    <tr>\n",
              "      <th>2</th>\n",
              "      <td>3</td>\n",
              "      <td>bakery</td>\n",
              "    </tr>\n",
              "    <tr>\n",
              "      <th>3</th>\n",
              "      <td>4</td>\n",
              "      <td>produce</td>\n",
              "    </tr>\n",
              "    <tr>\n",
              "      <th>4</th>\n",
              "      <td>5</td>\n",
              "      <td>alcohol</td>\n",
              "    </tr>\n",
              "    <tr>\n",
              "      <th>5</th>\n",
              "      <td>6</td>\n",
              "      <td>international</td>\n",
              "    </tr>\n",
              "    <tr>\n",
              "      <th>6</th>\n",
              "      <td>7</td>\n",
              "      <td>beverages</td>\n",
              "    </tr>\n",
              "    <tr>\n",
              "      <th>7</th>\n",
              "      <td>8</td>\n",
              "      <td>pets</td>\n",
              "    </tr>\n",
              "    <tr>\n",
              "      <th>8</th>\n",
              "      <td>9</td>\n",
              "      <td>dry goods pasta</td>\n",
              "    </tr>\n",
              "    <tr>\n",
              "      <th>9</th>\n",
              "      <td>10</td>\n",
              "      <td>bulk</td>\n",
              "    </tr>\n",
              "    <tr>\n",
              "      <th>10</th>\n",
              "      <td>11</td>\n",
              "      <td>personal care</td>\n",
              "    </tr>\n",
              "    <tr>\n",
              "      <th>11</th>\n",
              "      <td>12</td>\n",
              "      <td>meat seafood</td>\n",
              "    </tr>\n",
              "    <tr>\n",
              "      <th>12</th>\n",
              "      <td>13</td>\n",
              "      <td>pantry</td>\n",
              "    </tr>\n",
              "    <tr>\n",
              "      <th>13</th>\n",
              "      <td>14</td>\n",
              "      <td>breakfast</td>\n",
              "    </tr>\n",
              "    <tr>\n",
              "      <th>14</th>\n",
              "      <td>15</td>\n",
              "      <td>canned goods</td>\n",
              "    </tr>\n",
              "    <tr>\n",
              "      <th>15</th>\n",
              "      <td>16</td>\n",
              "      <td>dairy eggs</td>\n",
              "    </tr>\n",
              "    <tr>\n",
              "      <th>16</th>\n",
              "      <td>17</td>\n",
              "      <td>household</td>\n",
              "    </tr>\n",
              "    <tr>\n",
              "      <th>17</th>\n",
              "      <td>18</td>\n",
              "      <td>babies</td>\n",
              "    </tr>\n",
              "    <tr>\n",
              "      <th>18</th>\n",
              "      <td>19</td>\n",
              "      <td>snacks</td>\n",
              "    </tr>\n",
              "    <tr>\n",
              "      <th>19</th>\n",
              "      <td>20</td>\n",
              "      <td>deli</td>\n",
              "    </tr>\n",
              "    <tr>\n",
              "      <th>20</th>\n",
              "      <td>21</td>\n",
              "      <td>missing</td>\n",
              "    </tr>\n",
              "  </tbody>\n",
              "</table>\n",
              "</div>"
            ],
            "text/plain": [
              "    department_id       department\n",
              "0               1           frozen\n",
              "1               2            other\n",
              "2               3           bakery\n",
              "3               4          produce\n",
              "4               5          alcohol\n",
              "5               6    international\n",
              "6               7        beverages\n",
              "7               8             pets\n",
              "8               9  dry goods pasta\n",
              "9              10             bulk\n",
              "10             11    personal care\n",
              "11             12     meat seafood\n",
              "12             13           pantry\n",
              "13             14        breakfast\n",
              "14             15     canned goods\n",
              "15             16       dairy eggs\n",
              "16             17        household\n",
              "17             18           babies\n",
              "18             19           snacks\n",
              "19             20             deli\n",
              "20             21          missing"
            ]
          },
          "metadata": {
            "tags": []
          },
          "execution_count": 16
        }
      ]
    },
    {
      "metadata": {
        "id": "R43OrMuAWg5P",
        "colab_type": "text"
      },
      "cell_type": "markdown",
      "source": [
        "Since products, aisles and departments data frames could be related amongst themselves using IDs as keys, we can merge them recursively and create a single data frame (pad_df for products, aisles and dept) for simplification as below:"
      ]
    },
    {
      "metadata": {
        "id": "tD32-uLCWg5Z",
        "colab_type": "code",
        "colab": {
          "autoexec": {
            "startup": false,
            "wait_interval": 0
          },
          "output_extras": [
            {
              "item_id": 1
            },
            {
              "item_id": 2
            }
          ],
          "base_uri": "https://localhost:8080/",
          "height": 376
        },
        "outputId": "82aa0a8d-8427-4d5d-af31-0fdf2f329338",
        "executionInfo": {
          "status": "ok",
          "timestamp": 1521350525449,
          "user_tz": 240,
          "elapsed": 350,
          "user": {
            "displayName": "Quant Quotient",
            "photoUrl": "https://lh3.googleusercontent.com/a/default-user=s128",
            "userId": "109188985106332259534"
          }
        }
      },
      "cell_type": "code",
      "source": [
        "pad_df = pd.merge(left=pd.merge(left=products_df, right=departments_df, how='left'), right=aisles_df, how='left')\n",
        "print(pad_df.describe())\n",
        "pad_df.head()"
      ],
      "execution_count": 4,
      "outputs": [
        {
          "output_type": "stream",
          "text": [
            "         product_id      aisle_id  department_id\n",
            "count  49688.000000  49688.000000   49688.000000\n",
            "mean   24844.500000     67.769582      11.728687\n",
            "std    14343.834425     38.316162       5.850410\n",
            "min        1.000000      1.000000       1.000000\n",
            "25%    12422.750000     35.000000       7.000000\n",
            "50%    24844.500000     69.000000      13.000000\n",
            "75%    37266.250000    100.000000      17.000000\n",
            "max    49688.000000    134.000000      21.000000\n"
          ],
          "name": "stdout"
        },
        {
          "output_type": "execute_result",
          "data": {
            "text/html": [
              "<div>\n",
              "<style scoped>\n",
              "    .dataframe tbody tr th:only-of-type {\n",
              "        vertical-align: middle;\n",
              "    }\n",
              "\n",
              "    .dataframe tbody tr th {\n",
              "        vertical-align: top;\n",
              "    }\n",
              "\n",
              "    .dataframe thead th {\n",
              "        text-align: right;\n",
              "    }\n",
              "</style>\n",
              "<table border=\"1\" class=\"dataframe\">\n",
              "  <thead>\n",
              "    <tr style=\"text-align: right;\">\n",
              "      <th></th>\n",
              "      <th>product_id</th>\n",
              "      <th>product_name</th>\n",
              "      <th>aisle_id</th>\n",
              "      <th>department_id</th>\n",
              "      <th>department</th>\n",
              "      <th>aisle</th>\n",
              "    </tr>\n",
              "  </thead>\n",
              "  <tbody>\n",
              "    <tr>\n",
              "      <th>0</th>\n",
              "      <td>1</td>\n",
              "      <td>Chocolate Sandwich Cookies</td>\n",
              "      <td>61</td>\n",
              "      <td>19</td>\n",
              "      <td>snacks</td>\n",
              "      <td>cookies cakes</td>\n",
              "    </tr>\n",
              "    <tr>\n",
              "      <th>1</th>\n",
              "      <td>2</td>\n",
              "      <td>All-Seasons Salt</td>\n",
              "      <td>104</td>\n",
              "      <td>13</td>\n",
              "      <td>pantry</td>\n",
              "      <td>spices seasonings</td>\n",
              "    </tr>\n",
              "    <tr>\n",
              "      <th>2</th>\n",
              "      <td>3</td>\n",
              "      <td>Robust Golden Unsweetened Oolong Tea</td>\n",
              "      <td>94</td>\n",
              "      <td>7</td>\n",
              "      <td>beverages</td>\n",
              "      <td>tea</td>\n",
              "    </tr>\n",
              "    <tr>\n",
              "      <th>3</th>\n",
              "      <td>4</td>\n",
              "      <td>Smart Ones Classic Favorites Mini Rigatoni Wit...</td>\n",
              "      <td>38</td>\n",
              "      <td>1</td>\n",
              "      <td>frozen</td>\n",
              "      <td>frozen meals</td>\n",
              "    </tr>\n",
              "    <tr>\n",
              "      <th>4</th>\n",
              "      <td>5</td>\n",
              "      <td>Green Chile Anytime Sauce</td>\n",
              "      <td>5</td>\n",
              "      <td>13</td>\n",
              "      <td>pantry</td>\n",
              "      <td>marinades meat preparation</td>\n",
              "    </tr>\n",
              "  </tbody>\n",
              "</table>\n",
              "</div>"
            ],
            "text/plain": [
              "   product_id                                       product_name  aisle_id  \\\n",
              "0           1                         Chocolate Sandwich Cookies        61   \n",
              "1           2                                   All-Seasons Salt       104   \n",
              "2           3               Robust Golden Unsweetened Oolong Tea        94   \n",
              "3           4  Smart Ones Classic Favorites Mini Rigatoni Wit...        38   \n",
              "4           5                          Green Chile Anytime Sauce         5   \n",
              "\n",
              "   department_id department                       aisle  \n",
              "0             19     snacks               cookies cakes  \n",
              "1             13     pantry           spices seasonings  \n",
              "2              7  beverages                         tea  \n",
              "3              1     frozen                frozen meals  \n",
              "4             13     pantry  marinades meat preparation  "
            ]
          },
          "metadata": {
            "tags": []
          },
          "execution_count": 4
        }
      ]
    },
    {
      "metadata": {
        "id": "jfsDtkrJWg5n",
        "colab_type": "text"
      },
      "cell_type": "markdown",
      "source": [
        "<a id='step2'></a>\n",
        "## Step 2: Exploratory Vizualizations"
      ]
    },
    {
      "metadata": {
        "id": "Cr0edkS8Wg5z",
        "colab_type": "code",
        "colab": {
          "autoexec": {
            "startup": false,
            "wait_interval": 0
          },
          "output_extras": [
            {},
            {}
          ],
          "base_uri": "https://localhost:8080/",
          "height": 271
        },
        "outputId": "75b20492-cf39-4572-c58f-9a06b4c466fd",
        "executionInfo": {
          "status": "error",
          "timestamp": 1521347132276,
          "user_tz": 240,
          "elapsed": 415,
          "user": {
            "displayName": "Quant Quotient",
            "photoUrl": "https://lh3.googleusercontent.com/a/default-user=s128",
            "userId": "109188985106332259534"
          }
        }
      },
      "cell_type": "code",
      "source": [
        "\"\"\"\n",
        "plt.figure(figsize=(12,8))\n",
        "sns.barplot(cnt_srs.index, cnt_srs.values, alpha=0.8)#, color=color[2])\n",
        "plt.ylabel('Number of Occurrences', fontsize=12)\n",
        "plt.xlabel('Maximum order number', fontsize=12)\n",
        "plt.xticks(rotation='vertical')\n",
        "plt.show()\n",
        "\"\"\""
      ],
      "execution_count": 0,
      "outputs": [
        {
          "output_type": "error",
          "ename": "NameError",
          "evalue": "ignored",
          "traceback": [
            "\u001b[0;31m---------------------------------------------------------------------------\u001b[0m",
            "\u001b[0;31mNameError\u001b[0m                                 Traceback (most recent call last)",
            "\u001b[0;32m<ipython-input-18-1a2e0a6ec8f6>\u001b[0m in \u001b[0;36m<module>\u001b[0;34m()\u001b[0m\n\u001b[1;32m      1\u001b[0m \u001b[0mplt\u001b[0m\u001b[0;34m.\u001b[0m\u001b[0mfigure\u001b[0m\u001b[0;34m(\u001b[0m\u001b[0mfigsize\u001b[0m\u001b[0;34m=\u001b[0m\u001b[0;34m(\u001b[0m\u001b[0;36m12\u001b[0m\u001b[0;34m,\u001b[0m\u001b[0;36m8\u001b[0m\u001b[0;34m)\u001b[0m\u001b[0;34m)\u001b[0m\u001b[0;34m\u001b[0m\u001b[0m\n\u001b[0;32m----> 2\u001b[0;31m \u001b[0msns\u001b[0m\u001b[0;34m.\u001b[0m\u001b[0mbarplot\u001b[0m\u001b[0;34m(\u001b[0m\u001b[0mcnt_srs\u001b[0m\u001b[0;34m.\u001b[0m\u001b[0mindex\u001b[0m\u001b[0;34m,\u001b[0m \u001b[0mcnt_srs\u001b[0m\u001b[0;34m.\u001b[0m\u001b[0mvalues\u001b[0m\u001b[0;34m,\u001b[0m \u001b[0malpha\u001b[0m\u001b[0;34m=\u001b[0m\u001b[0;36m0.8\u001b[0m\u001b[0;34m)\u001b[0m\u001b[0;31m#, color=color[2])\u001b[0m\u001b[0;34m\u001b[0m\u001b[0m\n\u001b[0m\u001b[1;32m      3\u001b[0m \u001b[0mplt\u001b[0m\u001b[0;34m.\u001b[0m\u001b[0mylabel\u001b[0m\u001b[0;34m(\u001b[0m\u001b[0;34m'Number of Occurrences'\u001b[0m\u001b[0;34m,\u001b[0m \u001b[0mfontsize\u001b[0m\u001b[0;34m=\u001b[0m\u001b[0;36m12\u001b[0m\u001b[0;34m)\u001b[0m\u001b[0;34m\u001b[0m\u001b[0m\n\u001b[1;32m      4\u001b[0m \u001b[0mplt\u001b[0m\u001b[0;34m.\u001b[0m\u001b[0mxlabel\u001b[0m\u001b[0;34m(\u001b[0m\u001b[0;34m'Maximum order number'\u001b[0m\u001b[0;34m,\u001b[0m \u001b[0mfontsize\u001b[0m\u001b[0;34m=\u001b[0m\u001b[0;36m12\u001b[0m\u001b[0;34m)\u001b[0m\u001b[0;34m\u001b[0m\u001b[0m\n\u001b[1;32m      5\u001b[0m \u001b[0mplt\u001b[0m\u001b[0;34m.\u001b[0m\u001b[0mxticks\u001b[0m\u001b[0;34m(\u001b[0m\u001b[0mrotation\u001b[0m\u001b[0;34m=\u001b[0m\u001b[0;34m'vertical'\u001b[0m\u001b[0;34m)\u001b[0m\u001b[0;34m\u001b[0m\u001b[0m\n",
            "\u001b[0;31mNameError\u001b[0m: name 'cnt_srs' is not defined"
          ]
        },
        {
          "output_type": "display_data",
          "data": {
            "text/plain": [
              "<matplotlib.figure.Figure at 0x7f0cdd10f3c8>"
            ]
          },
          "metadata": {
            "tags": []
          }
        }
      ]
    },
    {
      "metadata": {
        "id": "Sh-1IadeWg5_",
        "colab_type": "text"
      },
      "cell_type": "markdown",
      "source": [
        "---\n",
        "<a id='step3'></a>\n",
        "## Step 3: Data Preprocessing\n",
        "\n",
        "\n",
        "### Pre-process the Data\n",
        "\n",
        "Starting with sorting the values based on user_id and order_number for the user."
      ]
    },
    {
      "metadata": {
        "id": "Ecb-FoywWg6F",
        "colab_type": "code",
        "colab": {
          "autoexec": {
            "startup": false,
            "wait_interval": 0
          },
          "output_extras": [
            {
              "item_id": 1
            }
          ],
          "base_uri": "https://localhost:8080/",
          "height": 206
        },
        "outputId": "0a54d06d-a784-4dd1-d72e-b16388f19c92",
        "executionInfo": {
          "status": "ok",
          "timestamp": 1521350527317,
          "user_tz": 240,
          "elapsed": 1623,
          "user": {
            "displayName": "Quant Quotient",
            "photoUrl": "https://lh3.googleusercontent.com/a/default-user=s128",
            "userId": "109188985106332259534"
          }
        }
      },
      "cell_type": "code",
      "source": [
        "orders_df.sort_values(by=['user_id', 'order_number'], inplace=True)\n",
        "orders_df.head()"
      ],
      "execution_count": 5,
      "outputs": [
        {
          "output_type": "execute_result",
          "data": {
            "text/html": [
              "<div>\n",
              "<style scoped>\n",
              "    .dataframe tbody tr th:only-of-type {\n",
              "        vertical-align: middle;\n",
              "    }\n",
              "\n",
              "    .dataframe tbody tr th {\n",
              "        vertical-align: top;\n",
              "    }\n",
              "\n",
              "    .dataframe thead th {\n",
              "        text-align: right;\n",
              "    }\n",
              "</style>\n",
              "<table border=\"1\" class=\"dataframe\">\n",
              "  <thead>\n",
              "    <tr style=\"text-align: right;\">\n",
              "      <th></th>\n",
              "      <th>order_id</th>\n",
              "      <th>user_id</th>\n",
              "      <th>eval_set</th>\n",
              "      <th>order_number</th>\n",
              "      <th>order_dow</th>\n",
              "      <th>order_hour_of_day</th>\n",
              "      <th>days_since_prior_order</th>\n",
              "    </tr>\n",
              "  </thead>\n",
              "  <tbody>\n",
              "    <tr>\n",
              "      <th>0</th>\n",
              "      <td>2539329</td>\n",
              "      <td>1</td>\n",
              "      <td>prior</td>\n",
              "      <td>1</td>\n",
              "      <td>2</td>\n",
              "      <td>8</td>\n",
              "      <td>NaN</td>\n",
              "    </tr>\n",
              "    <tr>\n",
              "      <th>1</th>\n",
              "      <td>2398795</td>\n",
              "      <td>1</td>\n",
              "      <td>prior</td>\n",
              "      <td>2</td>\n",
              "      <td>3</td>\n",
              "      <td>7</td>\n",
              "      <td>15.0</td>\n",
              "    </tr>\n",
              "    <tr>\n",
              "      <th>2</th>\n",
              "      <td>473747</td>\n",
              "      <td>1</td>\n",
              "      <td>prior</td>\n",
              "      <td>3</td>\n",
              "      <td>3</td>\n",
              "      <td>12</td>\n",
              "      <td>21.0</td>\n",
              "    </tr>\n",
              "    <tr>\n",
              "      <th>3</th>\n",
              "      <td>2254736</td>\n",
              "      <td>1</td>\n",
              "      <td>prior</td>\n",
              "      <td>4</td>\n",
              "      <td>4</td>\n",
              "      <td>7</td>\n",
              "      <td>29.0</td>\n",
              "    </tr>\n",
              "    <tr>\n",
              "      <th>4</th>\n",
              "      <td>431534</td>\n",
              "      <td>1</td>\n",
              "      <td>prior</td>\n",
              "      <td>5</td>\n",
              "      <td>4</td>\n",
              "      <td>15</td>\n",
              "      <td>28.0</td>\n",
              "    </tr>\n",
              "  </tbody>\n",
              "</table>\n",
              "</div>"
            ],
            "text/plain": [
              "   order_id  user_id eval_set  order_number  order_dow  order_hour_of_day  \\\n",
              "0   2539329        1    prior             1          2                  8   \n",
              "1   2398795        1    prior             2          3                  7   \n",
              "2    473747        1    prior             3          3                 12   \n",
              "3   2254736        1    prior             4          4                  7   \n",
              "4    431534        1    prior             5          4                 15   \n",
              "\n",
              "   days_since_prior_order  \n",
              "0                     NaN  \n",
              "1                    15.0  \n",
              "2                    21.0  \n",
              "3                    29.0  \n",
              "4                    28.0  "
            ]
          },
          "metadata": {
            "tags": []
          },
          "execution_count": 5
        }
      ]
    },
    {
      "metadata": {
        "id": "HfgVR328Wg6O",
        "colab_type": "code",
        "colab": {
          "autoexec": {
            "startup": false,
            "wait_interval": 0
          },
          "output_extras": [
            {
              "item_id": 1
            }
          ],
          "base_uri": "https://localhost:8080/",
          "height": 206
        },
        "outputId": "0ff46d30-10cc-4596-c920-f43a933c6ecb",
        "executionInfo": {
          "status": "ok",
          "timestamp": 1521350546699,
          "user_tz": 240,
          "elapsed": 342,
          "user": {
            "displayName": "Quant Quotient",
            "photoUrl": "https://lh3.googleusercontent.com/a/default-user=s128",
            "userId": "109188985106332259534"
          }
        }
      },
      "cell_type": "code",
      "source": [
        "#Replace NaN with mean\n",
        "orders_df.days_since_prior_order.fillna(orders_df.days_since_prior_order.mean(), inplace=True)\n",
        "orders_df.head()"
      ],
      "execution_count": 6,
      "outputs": [
        {
          "output_type": "execute_result",
          "data": {
            "text/html": [
              "<div>\n",
              "<style scoped>\n",
              "    .dataframe tbody tr th:only-of-type {\n",
              "        vertical-align: middle;\n",
              "    }\n",
              "\n",
              "    .dataframe tbody tr th {\n",
              "        vertical-align: top;\n",
              "    }\n",
              "\n",
              "    .dataframe thead th {\n",
              "        text-align: right;\n",
              "    }\n",
              "</style>\n",
              "<table border=\"1\" class=\"dataframe\">\n",
              "  <thead>\n",
              "    <tr style=\"text-align: right;\">\n",
              "      <th></th>\n",
              "      <th>order_id</th>\n",
              "      <th>user_id</th>\n",
              "      <th>eval_set</th>\n",
              "      <th>order_number</th>\n",
              "      <th>order_dow</th>\n",
              "      <th>order_hour_of_day</th>\n",
              "      <th>days_since_prior_order</th>\n",
              "    </tr>\n",
              "  </thead>\n",
              "  <tbody>\n",
              "    <tr>\n",
              "      <th>0</th>\n",
              "      <td>2539329</td>\n",
              "      <td>1</td>\n",
              "      <td>prior</td>\n",
              "      <td>1</td>\n",
              "      <td>2</td>\n",
              "      <td>8</td>\n",
              "      <td>11.114836</td>\n",
              "    </tr>\n",
              "    <tr>\n",
              "      <th>1</th>\n",
              "      <td>2398795</td>\n",
              "      <td>1</td>\n",
              "      <td>prior</td>\n",
              "      <td>2</td>\n",
              "      <td>3</td>\n",
              "      <td>7</td>\n",
              "      <td>15.000000</td>\n",
              "    </tr>\n",
              "    <tr>\n",
              "      <th>2</th>\n",
              "      <td>473747</td>\n",
              "      <td>1</td>\n",
              "      <td>prior</td>\n",
              "      <td>3</td>\n",
              "      <td>3</td>\n",
              "      <td>12</td>\n",
              "      <td>21.000000</td>\n",
              "    </tr>\n",
              "    <tr>\n",
              "      <th>3</th>\n",
              "      <td>2254736</td>\n",
              "      <td>1</td>\n",
              "      <td>prior</td>\n",
              "      <td>4</td>\n",
              "      <td>4</td>\n",
              "      <td>7</td>\n",
              "      <td>29.000000</td>\n",
              "    </tr>\n",
              "    <tr>\n",
              "      <th>4</th>\n",
              "      <td>431534</td>\n",
              "      <td>1</td>\n",
              "      <td>prior</td>\n",
              "      <td>5</td>\n",
              "      <td>4</td>\n",
              "      <td>15</td>\n",
              "      <td>28.000000</td>\n",
              "    </tr>\n",
              "  </tbody>\n",
              "</table>\n",
              "</div>"
            ],
            "text/plain": [
              "   order_id  user_id eval_set  order_number  order_dow  order_hour_of_day  \\\n",
              "0   2539329        1    prior             1          2                  8   \n",
              "1   2398795        1    prior             2          3                  7   \n",
              "2    473747        1    prior             3          3                 12   \n",
              "3   2254736        1    prior             4          4                  7   \n",
              "4    431534        1    prior             5          4                 15   \n",
              "\n",
              "   days_since_prior_order  \n",
              "0               11.114836  \n",
              "1               15.000000  \n",
              "2               21.000000  \n",
              "3               29.000000  \n",
              "4               28.000000  "
            ]
          },
          "metadata": {
            "tags": []
          },
          "execution_count": 6
        }
      ]
    },
    {
      "metadata": {
        "id": "37-1His2Wg6W",
        "colab_type": "text"
      },
      "cell_type": "markdown",
      "source": [
        "During exploration we discovered that there is one Department and one Aisle labeled \"Missing\"\n",
        "Let's explore that more.."
      ]
    },
    {
      "metadata": {
        "id": "W7AWfWH8Wg6Y",
        "colab_type": "code",
        "colab": {
          "autoexec": {
            "startup": false,
            "wait_interval": 0
          },
          "output_extras": [
            {
              "item_id": 1
            },
            {
              "item_id": 2
            }
          ],
          "base_uri": "https://localhost:8080/",
          "height": 301
        },
        "outputId": "6fa9711c-d20b-4a9f-e787-f59732e71e54",
        "executionInfo": {
          "status": "ok",
          "timestamp": 1521350549998,
          "user_tz": 240,
          "elapsed": 378,
          "user": {
            "displayName": "Quant Quotient",
            "photoUrl": "https://lh3.googleusercontent.com/a/default-user=s128",
            "userId": "109188985106332259534"
          }
        }
      },
      "cell_type": "code",
      "source": [
        "print(departments_df[departments_df.department == 'missing'])\n",
        "missing_prod_df = products_df[products_df.department_id == 21].reset_index()\n",
        "print (len(missing_prod_df), \"products items are associated with department='missing'\")\n",
        "\n",
        "#checking for any missing labled aisles\n",
        "print(aisles_df[aisles_df.aisle == 'missing'])\n",
        "\n",
        "missing_prod_df.head()"
      ],
      "execution_count": 7,
      "outputs": [
        {
          "output_type": "stream",
          "text": [
            "    department_id department\n",
            "20             21    missing\n",
            "1258 products items are associated with department='missing'\n",
            "    aisle_id    aisle\n",
            "99       100  missing\n"
          ],
          "name": "stdout"
        },
        {
          "output_type": "execute_result",
          "data": {
            "text/html": [
              "<div>\n",
              "<style scoped>\n",
              "    .dataframe tbody tr th:only-of-type {\n",
              "        vertical-align: middle;\n",
              "    }\n",
              "\n",
              "    .dataframe tbody tr th {\n",
              "        vertical-align: top;\n",
              "    }\n",
              "\n",
              "    .dataframe thead th {\n",
              "        text-align: right;\n",
              "    }\n",
              "</style>\n",
              "<table border=\"1\" class=\"dataframe\">\n",
              "  <thead>\n",
              "    <tr style=\"text-align: right;\">\n",
              "      <th></th>\n",
              "      <th>index</th>\n",
              "      <th>product_id</th>\n",
              "      <th>product_name</th>\n",
              "      <th>aisle_id</th>\n",
              "      <th>department_id</th>\n",
              "    </tr>\n",
              "  </thead>\n",
              "  <tbody>\n",
              "    <tr>\n",
              "      <th>0</th>\n",
              "      <td>37</td>\n",
              "      <td>38</td>\n",
              "      <td>Ultra Antibacterial Dish Liquid</td>\n",
              "      <td>100</td>\n",
              "      <td>21</td>\n",
              "    </tr>\n",
              "    <tr>\n",
              "      <th>1</th>\n",
              "      <td>71</td>\n",
              "      <td>72</td>\n",
              "      <td>Organic Honeycrisp Apples</td>\n",
              "      <td>100</td>\n",
              "      <td>21</td>\n",
              "    </tr>\n",
              "    <tr>\n",
              "      <th>2</th>\n",
              "      <td>109</td>\n",
              "      <td>110</td>\n",
              "      <td>Uncured Turkey Bologna</td>\n",
              "      <td>100</td>\n",
              "      <td>21</td>\n",
              "    </tr>\n",
              "    <tr>\n",
              "      <th>3</th>\n",
              "      <td>296</td>\n",
              "      <td>297</td>\n",
              "      <td>Write Bros Ball Point Pens, Cap-Pen, Medium (1...</td>\n",
              "      <td>100</td>\n",
              "      <td>21</td>\n",
              "    </tr>\n",
              "    <tr>\n",
              "      <th>4</th>\n",
              "      <td>416</td>\n",
              "      <td>417</td>\n",
              "      <td>Classics Baby Binks Easter Chocolate Bunny</td>\n",
              "      <td>100</td>\n",
              "      <td>21</td>\n",
              "    </tr>\n",
              "  </tbody>\n",
              "</table>\n",
              "</div>"
            ],
            "text/plain": [
              "   index  product_id                                       product_name  \\\n",
              "0     37          38                    Ultra Antibacterial Dish Liquid   \n",
              "1     71          72                          Organic Honeycrisp Apples   \n",
              "2    109         110                             Uncured Turkey Bologna   \n",
              "3    296         297  Write Bros Ball Point Pens, Cap-Pen, Medium (1...   \n",
              "4    416         417         Classics Baby Binks Easter Chocolate Bunny   \n",
              "\n",
              "   aisle_id  department_id  \n",
              "0       100             21  \n",
              "1       100             21  \n",
              "2       100             21  \n",
              "3       100             21  \n",
              "4       100             21  "
            ]
          },
          "metadata": {
            "tags": []
          },
          "execution_count": 7
        }
      ]
    },
    {
      "metadata": {
        "id": "WwgI-T7wWg6k",
        "colab_type": "text"
      },
      "cell_type": "markdown",
      "source": [
        "Since departments and aisles are categorical variables, we chose to keep the missing values for the given products and save them in a separate data structure missing_prod_df.\n",
        "\n",
        "Next we'll try to merge and consolidate different data sets into a single data structure to be ready for fitting a model."
      ]
    },
    {
      "metadata": {
        "id": "fz3pbPskYDs7",
        "colab_type": "code",
        "colab": {
          "autoexec": {
            "startup": false,
            "wait_interval": 0
          },
          "output_extras": [
            {
              "item_id": 1
            },
            {
              "item_id": 2
            }
          ],
          "base_uri": "https://localhost:8080/",
          "height": 679
        },
        "outputId": "a010d1aa-3626-4941-81c4-bb918b03de9a",
        "executionInfo": {
          "status": "ok",
          "timestamp": 1521350622128,
          "user_tz": 240,
          "elapsed": 3794,
          "user": {
            "displayName": "Quant Quotient",
            "photoUrl": "https://lh3.googleusercontent.com/a/default-user=s128",
            "userId": "109188985106332259534"
          }
        }
      },
      "cell_type": "code",
      "source": [
        "orders_train_df = pd.merge(orders_df, order_products_train_df, on='order_id')\n",
        "print(orders_df.describe())\n",
        "orders_train_df.describe()"
      ],
      "execution_count": 9,
      "outputs": [
        {
          "output_type": "stream",
          "text": [
            "           order_id       user_id  order_number     order_dow  \\\n",
            "count  3.421083e+06  3.421083e+06  3.421083e+06  3.421083e+06   \n",
            "mean   1.710542e+06  1.029782e+05  1.715486e+01  2.776219e+00   \n",
            "std    9.875817e+05  5.953372e+04  1.773316e+01  2.046829e+00   \n",
            "min    1.000000e+00  1.000000e+00  1.000000e+00  0.000000e+00   \n",
            "25%    8.552715e+05  5.139400e+04  5.000000e+00  1.000000e+00   \n",
            "50%    1.710542e+06  1.026890e+05  1.100000e+01  3.000000e+00   \n",
            "75%    2.565812e+06  1.543850e+05  2.300000e+01  5.000000e+00   \n",
            "max    3.421083e+06  2.062090e+05  1.000000e+02  6.000000e+00   \n",
            "\n",
            "       order_hour_of_day  days_since_prior_order  \n",
            "count       3.421083e+06            3.421083e+06  \n",
            "mean        1.345202e+01            1.111484e+01  \n",
            "std         4.226088e+00            8.924952e+00  \n",
            "min         0.000000e+00            0.000000e+00  \n",
            "25%         1.000000e+01            5.000000e+00  \n",
            "50%         1.300000e+01            8.000000e+00  \n",
            "75%         1.600000e+01            1.500000e+01  \n",
            "max         2.300000e+01            3.000000e+01  \n"
          ],
          "name": "stdout"
        },
        {
          "output_type": "execute_result",
          "data": {
            "text/html": [
              "<div>\n",
              "<style scoped>\n",
              "    .dataframe tbody tr th:only-of-type {\n",
              "        vertical-align: middle;\n",
              "    }\n",
              "\n",
              "    .dataframe tbody tr th {\n",
              "        vertical-align: top;\n",
              "    }\n",
              "\n",
              "    .dataframe thead th {\n",
              "        text-align: right;\n",
              "    }\n",
              "</style>\n",
              "<table border=\"1\" class=\"dataframe\">\n",
              "  <thead>\n",
              "    <tr style=\"text-align: right;\">\n",
              "      <th></th>\n",
              "      <th>order_id</th>\n",
              "      <th>user_id</th>\n",
              "      <th>order_number</th>\n",
              "      <th>order_dow</th>\n",
              "      <th>order_hour_of_day</th>\n",
              "      <th>days_since_prior_order</th>\n",
              "      <th>product_id</th>\n",
              "      <th>add_to_cart_order</th>\n",
              "      <th>reordered</th>\n",
              "    </tr>\n",
              "  </thead>\n",
              "  <tbody>\n",
              "    <tr>\n",
              "      <th>count</th>\n",
              "      <td>1.384617e+06</td>\n",
              "      <td>1.384617e+06</td>\n",
              "      <td>1.384617e+06</td>\n",
              "      <td>1.384617e+06</td>\n",
              "      <td>1.384617e+06</td>\n",
              "      <td>1.384617e+06</td>\n",
              "      <td>1.384617e+06</td>\n",
              "      <td>1.384617e+06</td>\n",
              "      <td>1.384617e+06</td>\n",
              "    </tr>\n",
              "    <tr>\n",
              "      <th>mean</th>\n",
              "      <td>1.706298e+06</td>\n",
              "      <td>1.031128e+05</td>\n",
              "      <td>1.709141e+01</td>\n",
              "      <td>2.701392e+00</td>\n",
              "      <td>1.357759e+01</td>\n",
              "      <td>1.706613e+01</td>\n",
              "      <td>2.555624e+04</td>\n",
              "      <td>8.758044e+00</td>\n",
              "      <td>5.985944e-01</td>\n",
              "    </tr>\n",
              "    <tr>\n",
              "      <th>std</th>\n",
              "      <td>9.897326e+05</td>\n",
              "      <td>5.948715e+04</td>\n",
              "      <td>1.661404e+01</td>\n",
              "      <td>2.167646e+00</td>\n",
              "      <td>4.238458e+00</td>\n",
              "      <td>1.042642e+01</td>\n",
              "      <td>1.412127e+04</td>\n",
              "      <td>7.423936e+00</td>\n",
              "      <td>4.901829e-01</td>\n",
              "    </tr>\n",
              "    <tr>\n",
              "      <th>min</th>\n",
              "      <td>1.000000e+00</td>\n",
              "      <td>1.000000e+00</td>\n",
              "      <td>4.000000e+00</td>\n",
              "      <td>0.000000e+00</td>\n",
              "      <td>0.000000e+00</td>\n",
              "      <td>0.000000e+00</td>\n",
              "      <td>1.000000e+00</td>\n",
              "      <td>1.000000e+00</td>\n",
              "      <td>0.000000e+00</td>\n",
              "    </tr>\n",
              "    <tr>\n",
              "      <th>25%</th>\n",
              "      <td>8.433700e+05</td>\n",
              "      <td>5.173200e+04</td>\n",
              "      <td>6.000000e+00</td>\n",
              "      <td>1.000000e+00</td>\n",
              "      <td>1.000000e+01</td>\n",
              "      <td>7.000000e+00</td>\n",
              "      <td>1.338000e+04</td>\n",
              "      <td>3.000000e+00</td>\n",
              "      <td>0.000000e+00</td>\n",
              "    </tr>\n",
              "    <tr>\n",
              "      <th>50%</th>\n",
              "      <td>1.701880e+06</td>\n",
              "      <td>1.029330e+05</td>\n",
              "      <td>1.100000e+01</td>\n",
              "      <td>3.000000e+00</td>\n",
              "      <td>1.400000e+01</td>\n",
              "      <td>1.500000e+01</td>\n",
              "      <td>2.529800e+04</td>\n",
              "      <td>7.000000e+00</td>\n",
              "      <td>1.000000e+00</td>\n",
              "    </tr>\n",
              "    <tr>\n",
              "      <th>75%</th>\n",
              "      <td>2.568023e+06</td>\n",
              "      <td>1.549590e+05</td>\n",
              "      <td>2.100000e+01</td>\n",
              "      <td>5.000000e+00</td>\n",
              "      <td>1.700000e+01</td>\n",
              "      <td>3.000000e+01</td>\n",
              "      <td>3.794000e+04</td>\n",
              "      <td>1.200000e+01</td>\n",
              "      <td>1.000000e+00</td>\n",
              "    </tr>\n",
              "    <tr>\n",
              "      <th>max</th>\n",
              "      <td>3.421070e+06</td>\n",
              "      <td>2.062090e+05</td>\n",
              "      <td>1.000000e+02</td>\n",
              "      <td>6.000000e+00</td>\n",
              "      <td>2.300000e+01</td>\n",
              "      <td>3.000000e+01</td>\n",
              "      <td>4.968800e+04</td>\n",
              "      <td>8.000000e+01</td>\n",
              "      <td>1.000000e+00</td>\n",
              "    </tr>\n",
              "  </tbody>\n",
              "</table>\n",
              "</div>"
            ],
            "text/plain": [
              "           order_id       user_id  order_number     order_dow  \\\n",
              "count  1.384617e+06  1.384617e+06  1.384617e+06  1.384617e+06   \n",
              "mean   1.706298e+06  1.031128e+05  1.709141e+01  2.701392e+00   \n",
              "std    9.897326e+05  5.948715e+04  1.661404e+01  2.167646e+00   \n",
              "min    1.000000e+00  1.000000e+00  4.000000e+00  0.000000e+00   \n",
              "25%    8.433700e+05  5.173200e+04  6.000000e+00  1.000000e+00   \n",
              "50%    1.701880e+06  1.029330e+05  1.100000e+01  3.000000e+00   \n",
              "75%    2.568023e+06  1.549590e+05  2.100000e+01  5.000000e+00   \n",
              "max    3.421070e+06  2.062090e+05  1.000000e+02  6.000000e+00   \n",
              "\n",
              "       order_hour_of_day  days_since_prior_order    product_id  \\\n",
              "count       1.384617e+06            1.384617e+06  1.384617e+06   \n",
              "mean        1.357759e+01            1.706613e+01  2.555624e+04   \n",
              "std         4.238458e+00            1.042642e+01  1.412127e+04   \n",
              "min         0.000000e+00            0.000000e+00  1.000000e+00   \n",
              "25%         1.000000e+01            7.000000e+00  1.338000e+04   \n",
              "50%         1.400000e+01            1.500000e+01  2.529800e+04   \n",
              "75%         1.700000e+01            3.000000e+01  3.794000e+04   \n",
              "max         2.300000e+01            3.000000e+01  4.968800e+04   \n",
              "\n",
              "       add_to_cart_order     reordered  \n",
              "count       1.384617e+06  1.384617e+06  \n",
              "mean        8.758044e+00  5.985944e-01  \n",
              "std         7.423936e+00  4.901829e-01  \n",
              "min         1.000000e+00  0.000000e+00  \n",
              "25%         3.000000e+00  0.000000e+00  \n",
              "50%         7.000000e+00  1.000000e+00  \n",
              "75%         1.200000e+01  1.000000e+00  \n",
              "max         8.000000e+01  1.000000e+00  "
            ]
          },
          "metadata": {
            "tags": []
          },
          "execution_count": 9
        }
      ]
    },
    {
      "metadata": {
        "id": "E57h33OZZfRx",
        "colab_type": "code",
        "colab": {
          "autoexec": {
            "startup": false,
            "wait_interval": 0
          },
          "output_extras": [
            {
              "item_id": 1
            }
          ],
          "base_uri": "https://localhost:8080/",
          "height": 320
        },
        "outputId": "e5870d09-c76b-4a3f-bf42-5638afedb056",
        "executionInfo": {
          "status": "ok",
          "timestamp": 1521350765734,
          "user_tz": 240,
          "elapsed": 2168,
          "user": {
            "displayName": "Quant Quotient",
            "photoUrl": "https://lh3.googleusercontent.com/a/default-user=s128",
            "userId": "109188985106332259534"
          }
        }
      },
      "cell_type": "code",
      "source": [
        "orders_train_pad_df = pd.merge(orders_train_df, pad_df, on='product_id')\n",
        "del orders_train_df\n",
        "del order_products_train_df\n",
        "orders_train_pad_df.describe()\n"
      ],
      "execution_count": 10,
      "outputs": [
        {
          "output_type": "execute_result",
          "data": {
            "text/html": [
              "<div>\n",
              "<style scoped>\n",
              "    .dataframe tbody tr th:only-of-type {\n",
              "        vertical-align: middle;\n",
              "    }\n",
              "\n",
              "    .dataframe tbody tr th {\n",
              "        vertical-align: top;\n",
              "    }\n",
              "\n",
              "    .dataframe thead th {\n",
              "        text-align: right;\n",
              "    }\n",
              "</style>\n",
              "<table border=\"1\" class=\"dataframe\">\n",
              "  <thead>\n",
              "    <tr style=\"text-align: right;\">\n",
              "      <th></th>\n",
              "      <th>order_id</th>\n",
              "      <th>user_id</th>\n",
              "      <th>order_number</th>\n",
              "      <th>order_dow</th>\n",
              "      <th>order_hour_of_day</th>\n",
              "      <th>days_since_prior_order</th>\n",
              "      <th>product_id</th>\n",
              "      <th>add_to_cart_order</th>\n",
              "      <th>reordered</th>\n",
              "      <th>aisle_id</th>\n",
              "      <th>department_id</th>\n",
              "    </tr>\n",
              "  </thead>\n",
              "  <tbody>\n",
              "    <tr>\n",
              "      <th>count</th>\n",
              "      <td>1.384617e+06</td>\n",
              "      <td>1.384617e+06</td>\n",
              "      <td>1.384617e+06</td>\n",
              "      <td>1.384617e+06</td>\n",
              "      <td>1.384617e+06</td>\n",
              "      <td>1.384617e+06</td>\n",
              "      <td>1.384617e+06</td>\n",
              "      <td>1.384617e+06</td>\n",
              "      <td>1.384617e+06</td>\n",
              "      <td>1.384617e+06</td>\n",
              "      <td>1.384617e+06</td>\n",
              "    </tr>\n",
              "    <tr>\n",
              "      <th>mean</th>\n",
              "      <td>1.706298e+06</td>\n",
              "      <td>1.031128e+05</td>\n",
              "      <td>1.709141e+01</td>\n",
              "      <td>2.701392e+00</td>\n",
              "      <td>1.357759e+01</td>\n",
              "      <td>1.706613e+01</td>\n",
              "      <td>2.555624e+04</td>\n",
              "      <td>8.758044e+00</td>\n",
              "      <td>5.985944e-01</td>\n",
              "      <td>7.130423e+01</td>\n",
              "      <td>9.839777e+00</td>\n",
              "    </tr>\n",
              "    <tr>\n",
              "      <th>std</th>\n",
              "      <td>9.897326e+05</td>\n",
              "      <td>5.948715e+04</td>\n",
              "      <td>1.661404e+01</td>\n",
              "      <td>2.167646e+00</td>\n",
              "      <td>4.238458e+00</td>\n",
              "      <td>1.042642e+01</td>\n",
              "      <td>1.412127e+04</td>\n",
              "      <td>7.423936e+00</td>\n",
              "      <td>4.901829e-01</td>\n",
              "      <td>3.810409e+01</td>\n",
              "      <td>6.292830e+00</td>\n",
              "    </tr>\n",
              "    <tr>\n",
              "      <th>min</th>\n",
              "      <td>1.000000e+00</td>\n",
              "      <td>1.000000e+00</td>\n",
              "      <td>4.000000e+00</td>\n",
              "      <td>0.000000e+00</td>\n",
              "      <td>0.000000e+00</td>\n",
              "      <td>0.000000e+00</td>\n",
              "      <td>1.000000e+00</td>\n",
              "      <td>1.000000e+00</td>\n",
              "      <td>0.000000e+00</td>\n",
              "      <td>1.000000e+00</td>\n",
              "      <td>1.000000e+00</td>\n",
              "    </tr>\n",
              "    <tr>\n",
              "      <th>25%</th>\n",
              "      <td>8.433700e+05</td>\n",
              "      <td>5.173200e+04</td>\n",
              "      <td>6.000000e+00</td>\n",
              "      <td>1.000000e+00</td>\n",
              "      <td>1.000000e+01</td>\n",
              "      <td>7.000000e+00</td>\n",
              "      <td>1.338000e+04</td>\n",
              "      <td>3.000000e+00</td>\n",
              "      <td>0.000000e+00</td>\n",
              "      <td>3.100000e+01</td>\n",
              "      <td>4.000000e+00</td>\n",
              "    </tr>\n",
              "    <tr>\n",
              "      <th>50%</th>\n",
              "      <td>1.701880e+06</td>\n",
              "      <td>1.029330e+05</td>\n",
              "      <td>1.100000e+01</td>\n",
              "      <td>3.000000e+00</td>\n",
              "      <td>1.400000e+01</td>\n",
              "      <td>1.500000e+01</td>\n",
              "      <td>2.529800e+04</td>\n",
              "      <td>7.000000e+00</td>\n",
              "      <td>1.000000e+00</td>\n",
              "      <td>8.300000e+01</td>\n",
              "      <td>8.000000e+00</td>\n",
              "    </tr>\n",
              "    <tr>\n",
              "      <th>75%</th>\n",
              "      <td>2.568023e+06</td>\n",
              "      <td>1.549590e+05</td>\n",
              "      <td>2.100000e+01</td>\n",
              "      <td>5.000000e+00</td>\n",
              "      <td>1.700000e+01</td>\n",
              "      <td>3.000000e+01</td>\n",
              "      <td>3.794000e+04</td>\n",
              "      <td>1.200000e+01</td>\n",
              "      <td>1.000000e+00</td>\n",
              "      <td>1.070000e+02</td>\n",
              "      <td>1.600000e+01</td>\n",
              "    </tr>\n",
              "    <tr>\n",
              "      <th>max</th>\n",
              "      <td>3.421070e+06</td>\n",
              "      <td>2.062090e+05</td>\n",
              "      <td>1.000000e+02</td>\n",
              "      <td>6.000000e+00</td>\n",
              "      <td>2.300000e+01</td>\n",
              "      <td>3.000000e+01</td>\n",
              "      <td>4.968800e+04</td>\n",
              "      <td>8.000000e+01</td>\n",
              "      <td>1.000000e+00</td>\n",
              "      <td>1.340000e+02</td>\n",
              "      <td>2.100000e+01</td>\n",
              "    </tr>\n",
              "  </tbody>\n",
              "</table>\n",
              "</div>"
            ],
            "text/plain": [
              "           order_id       user_id  order_number     order_dow  \\\n",
              "count  1.384617e+06  1.384617e+06  1.384617e+06  1.384617e+06   \n",
              "mean   1.706298e+06  1.031128e+05  1.709141e+01  2.701392e+00   \n",
              "std    9.897326e+05  5.948715e+04  1.661404e+01  2.167646e+00   \n",
              "min    1.000000e+00  1.000000e+00  4.000000e+00  0.000000e+00   \n",
              "25%    8.433700e+05  5.173200e+04  6.000000e+00  1.000000e+00   \n",
              "50%    1.701880e+06  1.029330e+05  1.100000e+01  3.000000e+00   \n",
              "75%    2.568023e+06  1.549590e+05  2.100000e+01  5.000000e+00   \n",
              "max    3.421070e+06  2.062090e+05  1.000000e+02  6.000000e+00   \n",
              "\n",
              "       order_hour_of_day  days_since_prior_order    product_id  \\\n",
              "count       1.384617e+06            1.384617e+06  1.384617e+06   \n",
              "mean        1.357759e+01            1.706613e+01  2.555624e+04   \n",
              "std         4.238458e+00            1.042642e+01  1.412127e+04   \n",
              "min         0.000000e+00            0.000000e+00  1.000000e+00   \n",
              "25%         1.000000e+01            7.000000e+00  1.338000e+04   \n",
              "50%         1.400000e+01            1.500000e+01  2.529800e+04   \n",
              "75%         1.700000e+01            3.000000e+01  3.794000e+04   \n",
              "max         2.300000e+01            3.000000e+01  4.968800e+04   \n",
              "\n",
              "       add_to_cart_order     reordered      aisle_id  department_id  \n",
              "count       1.384617e+06  1.384617e+06  1.384617e+06   1.384617e+06  \n",
              "mean        8.758044e+00  5.985944e-01  7.130423e+01   9.839777e+00  \n",
              "std         7.423936e+00  4.901829e-01  3.810409e+01   6.292830e+00  \n",
              "min         1.000000e+00  0.000000e+00  1.000000e+00   1.000000e+00  \n",
              "25%         3.000000e+00  0.000000e+00  3.100000e+01   4.000000e+00  \n",
              "50%         7.000000e+00  1.000000e+00  8.300000e+01   8.000000e+00  \n",
              "75%         1.200000e+01  1.000000e+00  1.070000e+02   1.600000e+01  \n",
              "max         8.000000e+01  1.000000e+00  1.340000e+02   2.100000e+01  "
            ]
          },
          "metadata": {
            "tags": []
          },
          "execution_count": 10
        }
      ]
    },
    {
      "metadata": {
        "id": "TZDYLoisXJvt",
        "colab_type": "code",
        "colab": {
          "autoexec": {
            "startup": false,
            "wait_interval": 0
          }
        }
      },
      "cell_type": "code",
      "source": [
        "order_prior_df = pd.merge(order_products_prior_df, orders_df, on='order_id', how='left')"
      ],
      "execution_count": 0,
      "outputs": []
    },
    {
      "metadata": {
        "id": "T766OqokXVeB",
        "colab_type": "code",
        "colab": {
          "autoexec": {
            "startup": false,
            "wait_interval": 0
          }
        }
      },
      "cell_type": "code",
      "source": [
        "orders_prior_pad_df = pd.merge(order_prior_df, pad_df, on='product_id')\n",
        "#del order_prior_df"
      ],
      "execution_count": 0,
      "outputs": []
    },
    {
      "metadata": {
        "id": "gRmcJWRNbFG3",
        "colab_type": "code",
        "colab": {
          "autoexec": {
            "startup": false,
            "wait_interval": 0
          }
        }
      },
      "cell_type": "code",
      "source": [
        "del order_prior_df\n",
        "del order_products_prior_df\n",
        "orders_prior_pad_df.describe()"
      ],
      "execution_count": 0,
      "outputs": []
    },
    {
      "metadata": {
        "id": "kzxFzRbwQ7FE",
        "colab_type": "text"
      },
      "cell_type": "markdown",
      "source": [
        ""
      ]
    },
    {
      "metadata": {
        "id": "yCABiC0bVR9D",
        "colab_type": "code",
        "colab": {
          "autoexec": {
            "startup": false,
            "wait_interval": 0
          }
        }
      },
      "cell_type": "code",
      "source": [
        "dfFullInfo = pd.concat([orders_prior_pad_df, orders_train_pad_df])\n",
        "\n",
        "del orders_prior_pad_df\n",
        "del orders_train_pad_df\n",
        "\n",
        "dfFullInfo.head()"
      ],
      "execution_count": 0,
      "outputs": []
    },
    {
      "metadata": {
        "id": "OYaezh9KeIin",
        "colab_type": "code",
        "colab": {
          "autoexec": {
            "startup": false,
            "wait_interval": 0
          }
        }
      },
      "cell_type": "code",
      "source": [
        "dfFullInfo.sort_values(['user_id','order_number','eval_set'],inplace=True)"
      ],
      "execution_count": 0,
      "outputs": []
    },
    {
      "metadata": {
        "id": "Jso-QNhzeOL2",
        "colab_type": "code",
        "colab": {
          "autoexec": {
            "startup": false,
            "wait_interval": 0
          }
        }
      },
      "cell_type": "code",
      "source": [
        "columns = ['user_id','order_number','order_id','product_id','product_name','reordered',\n",
        "           'department_id','department','aisle_id','aisle','add_to_cart_order',\n",
        "           'days_since_prior_order','order_dow','order_hour_of_day','eval_set']\n",
        "dfFullInfo = dfFullInfo[columns]\n",
        "dfFullInfo.head()"
      ],
      "execution_count": 0,
      "outputs": []
    },
    {
      "metadata": {
        "id": "-8p89463eWJh",
        "colab_type": "code",
        "colab": {
          "autoexec": {
            "startup": false,
            "wait_interval": 0
          }
        }
      },
      "cell_type": "code",
      "source": [
        "##### Look at distribution of order timing throughout the day #####\n",
        "order_hour_of_day_range = np.amax(dfFullInfo['order_hour_of_day']) - np.amin(dfFullInfo['order_hour_of_day']) + 1\n",
        "\n",
        "dfFullInfo.hist(column='order_hour_of_day',bins=2*order_hour_of_day_range-1,\n",
        "                figsize=(12,7),color='blue', histtype='bar')\n",
        "\n",
        "plt.xlabel('Hour of Day',fontsize=15)\n",
        "plt.ylabel('Number of Orders',fontsize=15)"
      ],
      "execution_count": 0,
      "outputs": []
    },
    {
      "metadata": {
        "id": "sGeFg8saeX23",
        "colab_type": "code",
        "colab": {
          "autoexec": {
            "startup": false,
            "wait_interval": 0
          }
        }
      },
      "cell_type": "code",
      "source": [
        "##### Look at distribution of order timing throughout the week #####\n",
        "order_dow_range = np.amax(dfFullInfo['order_dow']) - np.amin(dfFullInfo['order_dow']) + 1\n",
        "dfFullInfo.hist(column='order_dow',bins=2*order_dow_range-1,\n",
        "                figsize=(12,7),color='blue', histtype='bar')\n",
        "\n",
        "plt.xlabel('Day of Week',fontsize=15)\n",
        "plt.ylabel('Number of Orders',fontsize=15)"
      ],
      "execution_count": 0,
      "outputs": []
    },
    {
      "metadata": {
        "id": "H-OlnX8ZeZr4",
        "colab_type": "code",
        "colab": {
          "autoexec": {
            "startup": false,
            "wait_interval": 0
          }
        }
      },
      "cell_type": "code",
      "source": [
        "##### Look at how many prior orders we have #####\n",
        "order_number_range = np.amax(dfFullInfo['order_number']) - np.amin(dfFullInfo['order_number']) + 1\n",
        "dfFullInfo[dfFullInfo['eval_set']=='prior'].groupby('order_number').agg(len).plot(figsize=(12,7),color='blue',\n",
        "                                                                               legend=False,grid=True,\n",
        "                                                                               xticks=range(0,order_number_range+1,10))\n",
        "\n",
        "plt.xlabel('Order Number',fontsize=15)\n",
        "plt.ylabel('Count',fontsize=15)"
      ],
      "execution_count": 0,
      "outputs": []
    },
    {
      "metadata": {
        "id": "WJuufE3zecW_",
        "colab_type": "code",
        "colab": {
          "autoexec": {
            "startup": false,
            "wait_interval": 0
          }
        }
      },
      "cell_type": "code",
      "source": [
        "##### Look at relationship between reordering of a product and its position in the cart #####\n",
        "add_to_cart_order_range = np.amax(dfFullInfo['add_to_cart_order']) - np.amin(dfFullInfo['add_to_cart_order']) + 1\n",
        "dfFullInfo[dfFullInfo['reordered']==1].groupby('add_to_cart_order').agg(len).plot(figsize=(12,7),color='blue',\n",
        "                                                                               legend=False,grid=True,\n",
        "                                                                               xticks=range(0,add_to_cart_order_range+1,10))\n",
        "\n",
        "plt.xlabel('Add to Cart Order',fontsize=15)\n",
        "plt.ylabel('Count of Reordered',fontsize=15)"
      ],
      "execution_count": 0,
      "outputs": []
    },
    {
      "metadata": {
        "id": "obFNXynnegHR",
        "colab_type": "code",
        "colab": {
          "autoexec": {
            "startup": false,
            "wait_interval": 0
          }
        }
      },
      "cell_type": "code",
      "source": [
        "##### Look at distribution of reordered and non-reordered entries in dataset #####\n",
        "dfFullInfo.hist(column='reordered', figsize=(12,7), histtype='bar', bins=[-0.1,0.1,0.9,1.1], grid=False)\n",
        "\n",
        "plt.xlabel('Reordered',fontsize=15)\n",
        "plt.ylabel('Count',fontsize=15)\n",
        "plt.xticks([0,1])"
      ],
      "execution_count": 0,
      "outputs": []
    },
    {
      "metadata": {
        "id": "t2tChMUHei3y",
        "colab_type": "code",
        "colab": {
          "autoexec": {
            "startup": false,
            "wait_interval": 0
          }
        }
      },
      "cell_type": "code",
      "source": [
        "##### Separate Features and Targets #####\n",
        "dfFeatures = dfFullInfo[['user_id', 'order_number', 'days_since_prior_order', 'order_dow', 'order_hour_of_day', 'product_id', 'eval_set']]\n",
        "dfTarget = dfFullInfo[['reordered', 'eval_set']]"
      ],
      "execution_count": 0,
      "outputs": []
    },
    {
      "metadata": {
        "id": "aT8-WyMgejYT",
        "colab_type": "code",
        "colab": {
          "autoexec": {
            "startup": false,
            "wait_interval": 0
          }
        }
      },
      "cell_type": "code",
      "source": [
        "##### Use Prior orderes to train models, and train orders for model testing and evaluation #####\n",
        "Xtrain = dfFeatures.loc[dfFeatures.eval_set=='prior',:]\n",
        "ytrain = dfTarget.loc[dfTarget.eval_set=='prior',:]\n",
        "Xtest = dfFeatures.loc[dfFeatures.eval_set=='train',:]\n",
        "ytest = dfTarget.loc[dfTarget.eval_set=='train',:]\n",
        "\n",
        "##### Now drop eval_set from DataFrames (no longer need them) #####\n",
        "droplist = [Xtrain,ytrain,Xtest,ytest]\n",
        "for x in droplist:\n",
        "    x.drop('eval_set',axis=1,inplace=True)"
      ],
      "execution_count": 0,
      "outputs": []
    },
    {
      "metadata": {
        "id": "_QTKe6p5ensY",
        "colab_type": "code",
        "colab": {
          "autoexec": {
            "startup": false,
            "wait_interval": 0
          }
        }
      },
      "cell_type": "code",
      "source": [
        "print(Xtrain.shape,ytrain.shape)"
      ],
      "execution_count": 0,
      "outputs": []
    },
    {
      "metadata": {
        "id": "sGPpXskgeokt",
        "colab_type": "code",
        "colab": {
          "autoexec": {
            "startup": false,
            "wait_interval": 0
          }
        }
      },
      "cell_type": "code",
      "source": [
        "##### Try Gaussian Naive Bayes (GNB) #####\n",
        "\n",
        "from sklearn.naive_bayes import GaussianNB\n",
        "from sklearn.metrics import f1_score\n",
        "\n",
        "GNB = GaussianNB()\n",
        "GNB.fit(Xtrain.iloc[0:5000000,:], np.ravel(ytrain.iloc[0:5000000,:]))\n",
        "Predictions = GNB.predict(Xtest)\n",
        "\n",
        "score = f1_score(np.ravel(ytest),Predictions)\n",
        "print(\"F1 Score: %.4f\"%score)"
      ],
      "execution_count": 0,
      "outputs": []
    },
    {
      "metadata": {
        "id": "lzxGVoXSeqzy",
        "colab_type": "code",
        "colab": {
          "autoexec": {
            "startup": false,
            "wait_interval": 0
          }
        }
      },
      "cell_type": "code",
      "source": [
        "##### Try Support Vector Classifier (SVC) with GridSearch and 5-fold Crossvalidation #####\n",
        "from sklearn.svm import SVC\n",
        "\n",
        "#Use a smaller subset of the dataset for this model for feasible runtimes (score doesn't vary too much beyond 8000-10000entries)\n",
        "x = 15000   \n",
        "\n",
        "SVC_model = SVC(random_state=47)\n",
        "\n",
        "params = {'kernel': ['rbf'],\n",
        "         'shrinking': [True, False]}\n",
        "\n",
        "grid = GridSearchCV(SVC_model, params, verbose=1, cv=5)\n",
        "\n",
        "print(\"Fitting Model\")\n",
        "grid.fit(Xtrain.iloc[0:x,:], np.ravel(ytrain.iloc[0:x,:]))\n",
        "#SVC_model.fit(Xtrain.iloc[0:x,:], np.ravel(ytrain.iloc[0:x,:]))\n",
        "print(\"Fitted, Predicting\")\n",
        "Predictions = grid.predict(Xtest.iloc[0:x,:])\n",
        "#Predictions = SVC_model.predict(Xtest.iloc[0:x,:])\n",
        "score = f1_score(ytest.iloc[0:x,:],Predictions)\n",
        "print(\"F1 Score: %.4f\"%score)\n",
        "print(grid.best_params_)"
      ],
      "execution_count": 0,
      "outputs": []
    },
    {
      "metadata": {
        "id": "N-IRiTAlesdS",
        "colab_type": "code",
        "colab": {
          "autoexec": {
            "startup": false,
            "wait_interval": 0
          }
        }
      },
      "cell_type": "code",
      "source": [
        "##### Try K-Nearest-Neighbors (KNN) with GridSearch and 5-fold Crossvalidation #####\n",
        "from sklearn.neighbors import KNeighborsClassifier\n",
        "\n",
        "params = {'n_neighbors': range(10,15),\n",
        "         'weights': ['uniform','distance'],\n",
        "         'p': range(1,4)}\n",
        "\n",
        "neigh = KNeighborsClassifier()\n",
        "\n",
        "grid = GridSearchCV(neigh, params, verbose=1, cv=5)\n",
        "print(\"Fitting Model\")\n",
        "grid.fit(Xtrain.iloc[0:x,:], np.ravel(ytrain.iloc[0:x,:]))\n",
        "print(\"Fitted, Predicting\")\n",
        "Predictions = grid.predict(Xtest.iloc[0:x,:])\n",
        "score = f1_score(ytest.iloc[0:x,:],Predictions)\n",
        "print(\"F1 Score: %.4f\"%score)\n",
        "print(grid.best_params_)"
      ],
      "execution_count": 0,
      "outputs": []
    },
    {
      "metadata": {
        "id": "YMH1yHJHewGy",
        "colab_type": "code",
        "colab": {
          "autoexec": {
            "startup": false,
            "wait_interval": 0
          }
        }
      },
      "cell_type": "code",
      "source": [
        "##### Sweep Subset Size and show progression of F1 Score and Mean Fit Time #####\n",
        "\n",
        "SVC_model = []\n",
        "Predictions = []\n",
        "score = []\n",
        "fit_times = []\n",
        "xRange = range(1000,16000,1000)\n",
        "i = 0\n",
        "params = {'kernel': ['rbf'],\n",
        "          'shrinking': [True]}\n",
        "\n",
        "for x in xRange:\n",
        "    SVC_model.append(GridSearchCV(SVC(random_state=47),params,cv=5,verbose=1))\n",
        "    print(\"Fitting Model %d with %d samples\"%(i,x))\n",
        "    SVC_model[i].fit(Xtrain.iloc[0:x,:], np.ravel(ytrain.iloc[0:x,:]))\n",
        "    fit_times.append(SVC_model[i].cv_results_['mean_fit_time'])\n",
        "    print(\"Fitted, Predicting\")\n",
        "    Predictions.append(SVC_model[i].predict(Xtest.iloc[0:x,:]))\n",
        "    score.append(f1_score(ytest.iloc[0:x,:],Predictions[i]))\n",
        "    print(\"F1 Score: %.4f\"%score[i])\n",
        "    i+=1"
      ],
      "execution_count": 0,
      "outputs": []
    },
    {
      "metadata": {
        "id": "Jd7oTHiJeyKU",
        "colab_type": "code",
        "colab": {
          "autoexec": {
            "startup": false,
            "wait_interval": 0
          }
        }
      },
      "cell_type": "code",
      "source": [
        "##### Visualize F1 Score and Mean Fit Time Progression #####\n",
        "fig, ax1 = plt.subplots(figsize=(12,7))\n",
        "ax1.plot(xRange, score, 'b-')\n",
        "ax1.set_xlabel('Number of Training Samples', fontsize = 15)\n",
        "ax1.set_ylabel('F1 Score', color='b', fontsize = 15)\n",
        "ax1.tick_params('y', colors='b')\n",
        "ax1.grid()\n",
        "\n",
        "ax2 = ax1.twinx()\n",
        "ax2.plot(xRange, fit_times, 'r-')\n",
        "ax2.set_ylabel('Mean Fit Time (s)', color='r', fontsize = 15)\n",
        "ax2.tick_params('y', colors='r')\n",
        "fig.tight_layout()"
      ],
      "execution_count": 0,
      "outputs": []
    },
    {
      "metadata": {
        "id": "xEhOO5lzWg6x",
        "colab_type": "text"
      },
      "cell_type": "markdown",
      "source": [
        "---\n",
        "<a id='step4'></a>\n",
        "## Step 4: Benchmarks"
      ]
    },
    {
      "metadata": {
        "id": "2d9je6rOWg6y",
        "colab_type": "text"
      },
      "cell_type": "markdown",
      "source": [
        "---\n",
        "<a id='step5'></a>\n",
        "## Step 5: Algorithm and Techniques\n",
        "\n",
        "PCA?"
      ]
    },
    {
      "metadata": {
        "id": "Rchy5x5dWg6z",
        "colab_type": "text"
      },
      "cell_type": "markdown",
      "source": [
        "---\n",
        "<a id='step6'></a>\n",
        "## Step 6: Model Refinements\n"
      ]
    },
    {
      "metadata": {
        "id": "lM1tOj_fWg61",
        "colab_type": "text"
      },
      "cell_type": "markdown",
      "source": [
        "---\n",
        "<a id='step7'></a>\n",
        "## Step 7: Model Evaluation and Validation\n"
      ]
    }
  ]
}