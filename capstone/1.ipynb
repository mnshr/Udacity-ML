{
  "nbformat": 4,
  "nbformat_minor": 0,
  "metadata": {
    "colab": {
      "name": "1.ipynb",
      "version": "0.3.2",
      "views": {},
      "default_view": {},
      "provenance": [
        {
          "file_id": "1QM0iU7NHnVWztPA5okmwzfxARLyBW_AC",
          "timestamp": 1521350196657
        }
      ],
      "collapsed_sections": [],
      "toc_visible": true
    },
    "kernelspec": {
      "display_name": "Python 3",
      "language": "python",
      "name": "python3"
    },
    "accelerator": "GPU"
  },
  "cells": [
    {
      "metadata": {
        "id": "MLMQPP-YWg1g",
        "colab_type": "text"
      },
      "cell_type": "markdown",
      "source": [
        "# Machine Learning Nanodegree\n",
        "\n",
        "## Capstone Project: Instacart Market Basket Analysis\n",
        "\n",
        "### Notebook for Exploratory Data Analysis\n",
        "** Which products will an Instacart consumer purchase again? **\n",
        "\n",
        "The dataset for this challenge is a relational set of files describing customers' orders over time. The goal of the competition is to predict which products will be in a user's next order. The dataset is anonymized and contains a sample of over 3 million grocery orders from more than 200,000 Instacart users. For each user, we provide between 4 and 100 of their orders, with the sequence of products purchased in each order. We also provide the week and hour of day the order was placed, and a relative measure of time between orders. For more information, see the blog post accompanying its public release."
      ]
    },
    {
      "metadata": {
        "id": "EfBQxQdnWg1p",
        "colab_type": "code",
        "colab": {
          "autoexec": {
            "startup": false,
            "wait_interval": 0
          }
        }
      },
      "cell_type": "code",
      "source": [
        "### Import libraries XXXXXXXXXXXXXXXXXXXX\n",
        "import os\n",
        "import numpy as np\n",
        "import pandas as pd\n",
        "import matplotlib.pyplot as plt\n",
        "import seaborn as sns\n",
        "import gc\n",
        "\n",
        "%matplotlib inline"
      ],
      "execution_count": 0,
      "outputs": []
    },
    {
      "metadata": {
        "id": "NeeyF6HDGn-A",
        "colab_type": "text"
      },
      "cell_type": "markdown",
      "source": [
        "**Code for setting up Google Colaboratory**"
      ]
    },
    {
      "metadata": {
        "id": "hlYrjCs_XNoT",
        "colab_type": "code",
        "colab": {
          "autoexec": {
            "startup": false,
            "wait_interval": 0
          }
        }
      },
      "cell_type": "code",
      "source": [
        "!pip install -U -q PyDrive\n",
        "\n",
        "from pydrive.auth import GoogleAuth\n",
        "from pydrive.drive import GoogleDrive\n",
        "from google.colab import auth\n",
        "from oauth2client.client import GoogleCredentials\n",
        "\n",
        "# 1. Authenticate and create the PyDrive client.\n",
        "auth.authenticate_user()\n",
        "gauth = GoogleAuth()\n",
        "gauth.credentials = GoogleCredentials.get_application_default()\n",
        "drive = GoogleDrive(gauth)\n",
        "\n",
        "# 2. Load a file by ID and create local file.\n",
        "\n",
        "downloaded = drive.CreateFile({'id':'1L05r3qtAhmzFfNazo8xfKkKbWRwQhODZ'}) # replace fileid with Id of file you want to access\n",
        "downloaded.GetContentFile('order_products__train.csv') # now you can use export.csv \n",
        "\n",
        "downloaded = drive.CreateFile({'id':'14sI0oP8FXxfYd_0OmaAPfqPSrrRyvoIH'}) # replace fileid with Id of file you want to access\n",
        "downloaded.GetContentFile('order_products__prior.csv') # now you can use export.csv \n",
        "\n",
        "downloaded = drive.CreateFile({'id':'1dSIrVAQ5delsaDYbjdB7gzsxTCf792kf'}) # replace fileid with Id of file you want to access\n",
        "downloaded.GetContentFile('orders.csv') # now you can use export.csv \n",
        "\n",
        "downloaded = drive.CreateFile({'id':'1F4sDO7oTimeDNrI2FcaEkx9WnF7_n1y5'}) # replace fileid with Id of file you want to access\n",
        "downloaded.GetContentFile('products.csv') # now you can use export.csv \n",
        "\n",
        "downloaded = drive.CreateFile({'id':'1b122CO2v4on8ixfE-8Cc6g4RHcARiTvn'}) # replace fileid with Id of file you want to access\n",
        "downloaded.GetContentFile('aisles.csv') # now you can use export.csv \n",
        "\n",
        "downloaded = drive.CreateFile({'id':'1YNGRUqCG9slq8fPwjwAFb0WwuzBbJVE8'}) # replace fileid with Id of file you want to access\n",
        "downloaded.GetContentFile('departments.csv') # now you can use export.csv "
      ],
      "execution_count": 0,
      "outputs": []
    },
    {
      "metadata": {
        "id": "el6CaeK1Gskm",
        "colab_type": "text"
      },
      "cell_type": "markdown",
      "source": [
        "**Import the Instacart data**"
      ]
    },
    {
      "metadata": {
        "id": "DmN-Rq-CWg15",
        "colab_type": "code",
        "colab": {
          "autoexec": {
            "startup": false,
            "wait_interval": 0
          },
          "base_uri": "https://localhost:8080/",
          "height": 91
        },
        "outputId": "9655739e-e9ca-4579-b28f-041d85a7a39a",
        "executionInfo": {
          "status": "ok",
          "timestamp": 1523764264708,
          "user_tz": 240,
          "elapsed": 13150,
          "user": {
            "displayName": "Quant Quotient",
            "photoUrl": "https://lh3.googleusercontent.com/a/default-user=s128",
            "userId": "109188985106332259534"
          }
        }
      },
      "cell_type": "code",
      "source": [
        "gc.collect()\n",
        "### Import Instacart Data\n",
        "order_products_train_df = pd.read_csv(\"order_products__train.csv\")\n",
        "order_products_prior_df = pd.read_csv(\"order_products__prior.csv\")\n",
        "orders_df = pd.read_csv(\"orders.csv\")\n",
        "products_df = pd.read_csv(\"products.csv\")\n",
        "aisles_df = pd.read_csv(\"aisles.csv\")\n",
        "departments_df = pd.read_csv(\"departments.csv\")\n",
        "\n",
        "print('Total no. of orders: {}'.format(orders_df.shape[0]))\n",
        "print('Total no. of products: {}'.format(products_df.shape[0]))\n",
        "print('Total no. of aisles: {}'.format(aisles_df.shape[0]))\n",
        "print('Total no. of departments: {}'.format(departments_df.shape[0]))"
      ],
      "execution_count": 0,
      "outputs": [
        {
          "output_type": "stream",
          "text": [
            "Total no. of orders: 3421083\n",
            "Total no. of products: 49688\n",
            "Total no. of aisles: 134\n",
            "Total no. of departments: 21\n"
          ],
          "name": "stdout"
        }
      ]
    },
    {
      "metadata": {
        "id": "HxwrQ4wDWg2J",
        "colab_type": "text"
      },
      "cell_type": "markdown",
      "source": [
        "---\n",
        "<a id='step1'></a>\n",
        "## Data Exploration"
      ]
    },
    {
      "metadata": {
        "id": "VP2XJ0qqWg2N",
        "colab_type": "text"
      },
      "cell_type": "markdown",
      "source": [
        "### Orders\n",
        "orders_df tells about each order made by the a specific user (user_id) and each order is classifed as prior, train or test. \n",
        "There are more than 3.4 million orders, wih more than 3.2 million orders classified as 'prior', more than 130,000 as 'train' and 75000 as 'test'\n",
        "\n",
        "\n",
        "MNSHR"
      ]
    },
    {
      "metadata": {
        "id": "TcEB5Ze_a8SS",
        "colab_type": "code",
        "colab": {
          "autoexec": {
            "startup": false,
            "wait_interval": 0
          },
          "base_uri": "https://localhost:8080/",
          "height": 219
        },
        "outputId": "5e115204-8c93-49b4-c865-e5e9e7471550",
        "executionInfo": {
          "status": "ok",
          "timestamp": 1523764100266,
          "user_tz": 240,
          "elapsed": 3538,
          "user": {
            "displayName": "Quant Quotient",
            "photoUrl": "https://lh3.googleusercontent.com/a/default-user=s128",
            "userId": "109188985106332259534"
          }
        }
      },
      "cell_type": "code",
      "source": [
        "orders_df.groupby(\"eval_set\").order_id.aggregate({'total_orders':'nunique'}).reset_index()"
      ],
      "execution_count": 0,
      "outputs": [
        {
          "output_type": "stream",
          "text": [
            "/usr/local/lib/python3.6/dist-packages/ipykernel_launcher.py:1: FutureWarning: using a dict on a Series for aggregation\n",
            "is deprecated and will be removed in a future version\n",
            "  \"\"\"Entry point for launching an IPython kernel.\n"
          ],
          "name": "stderr"
        },
        {
          "output_type": "execute_result",
          "data": {
            "text/html": [
              "<div>\n",
              "<style scoped>\n",
              "    .dataframe tbody tr th:only-of-type {\n",
              "        vertical-align: middle;\n",
              "    }\n",
              "\n",
              "    .dataframe tbody tr th {\n",
              "        vertical-align: top;\n",
              "    }\n",
              "\n",
              "    .dataframe thead th {\n",
              "        text-align: right;\n",
              "    }\n",
              "</style>\n",
              "<table border=\"1\" class=\"dataframe\">\n",
              "  <thead>\n",
              "    <tr style=\"text-align: right;\">\n",
              "      <th></th>\n",
              "      <th>eval_set</th>\n",
              "      <th>total_orders</th>\n",
              "    </tr>\n",
              "  </thead>\n",
              "  <tbody>\n",
              "    <tr>\n",
              "      <th>0</th>\n",
              "      <td>prior</td>\n",
              "      <td>3214874</td>\n",
              "    </tr>\n",
              "    <tr>\n",
              "      <th>1</th>\n",
              "      <td>test</td>\n",
              "      <td>75000</td>\n",
              "    </tr>\n",
              "    <tr>\n",
              "      <th>2</th>\n",
              "      <td>train</td>\n",
              "      <td>131209</td>\n",
              "    </tr>\n",
              "  </tbody>\n",
              "</table>\n",
              "</div>"
            ],
            "text/plain": [
              "  eval_set  total_orders\n",
              "0    prior       3214874\n",
              "1     test         75000\n",
              "2    train        131209"
            ]
          },
          "metadata": {
            "tags": []
          },
          "execution_count": 5
        }
      ]
    },
    {
      "metadata": {
        "id": "0bindhTnWg2P",
        "colab_type": "code",
        "colab": {
          "autoexec": {
            "startup": false,
            "wait_interval": 0
          },
          "base_uri": "https://localhost:8080/",
          "height": 300
        },
        "outputId": "739bc238-a9d0-4bf6-9669-36f84be8fd57",
        "executionInfo": {
          "status": "ok",
          "timestamp": 1523764102302,
          "user_tz": 240,
          "elapsed": 1878,
          "user": {
            "displayName": "Quant Quotient",
            "photoUrl": "https://lh3.googleusercontent.com/a/default-user=s128",
            "userId": "109188985106332259534"
          }
        }
      },
      "cell_type": "code",
      "source": [
        "orders_df.describe()"
      ],
      "execution_count": 0,
      "outputs": [
        {
          "output_type": "execute_result",
          "data": {
            "text/html": [
              "<div>\n",
              "<style scoped>\n",
              "    .dataframe tbody tr th:only-of-type {\n",
              "        vertical-align: middle;\n",
              "    }\n",
              "\n",
              "    .dataframe tbody tr th {\n",
              "        vertical-align: top;\n",
              "    }\n",
              "\n",
              "    .dataframe thead th {\n",
              "        text-align: right;\n",
              "    }\n",
              "</style>\n",
              "<table border=\"1\" class=\"dataframe\">\n",
              "  <thead>\n",
              "    <tr style=\"text-align: right;\">\n",
              "      <th></th>\n",
              "      <th>order_id</th>\n",
              "      <th>user_id</th>\n",
              "      <th>order_number</th>\n",
              "      <th>order_dow</th>\n",
              "      <th>order_hour_of_day</th>\n",
              "      <th>days_since_prior_order</th>\n",
              "    </tr>\n",
              "  </thead>\n",
              "  <tbody>\n",
              "    <tr>\n",
              "      <th>count</th>\n",
              "      <td>3.421083e+06</td>\n",
              "      <td>3.421083e+06</td>\n",
              "      <td>3.421083e+06</td>\n",
              "      <td>3.421083e+06</td>\n",
              "      <td>3.421083e+06</td>\n",
              "      <td>3.214874e+06</td>\n",
              "    </tr>\n",
              "    <tr>\n",
              "      <th>mean</th>\n",
              "      <td>1.710542e+06</td>\n",
              "      <td>1.029782e+05</td>\n",
              "      <td>1.715486e+01</td>\n",
              "      <td>2.776219e+00</td>\n",
              "      <td>1.345202e+01</td>\n",
              "      <td>1.111484e+01</td>\n",
              "    </tr>\n",
              "    <tr>\n",
              "      <th>std</th>\n",
              "      <td>9.875817e+05</td>\n",
              "      <td>5.953372e+04</td>\n",
              "      <td>1.773316e+01</td>\n",
              "      <td>2.046829e+00</td>\n",
              "      <td>4.226088e+00</td>\n",
              "      <td>9.206737e+00</td>\n",
              "    </tr>\n",
              "    <tr>\n",
              "      <th>min</th>\n",
              "      <td>1.000000e+00</td>\n",
              "      <td>1.000000e+00</td>\n",
              "      <td>1.000000e+00</td>\n",
              "      <td>0.000000e+00</td>\n",
              "      <td>0.000000e+00</td>\n",
              "      <td>0.000000e+00</td>\n",
              "    </tr>\n",
              "    <tr>\n",
              "      <th>25%</th>\n",
              "      <td>8.552715e+05</td>\n",
              "      <td>5.139400e+04</td>\n",
              "      <td>5.000000e+00</td>\n",
              "      <td>1.000000e+00</td>\n",
              "      <td>1.000000e+01</td>\n",
              "      <td>4.000000e+00</td>\n",
              "    </tr>\n",
              "    <tr>\n",
              "      <th>50%</th>\n",
              "      <td>1.710542e+06</td>\n",
              "      <td>1.026890e+05</td>\n",
              "      <td>1.100000e+01</td>\n",
              "      <td>3.000000e+00</td>\n",
              "      <td>1.300000e+01</td>\n",
              "      <td>7.000000e+00</td>\n",
              "    </tr>\n",
              "    <tr>\n",
              "      <th>75%</th>\n",
              "      <td>2.565812e+06</td>\n",
              "      <td>1.543850e+05</td>\n",
              "      <td>2.300000e+01</td>\n",
              "      <td>5.000000e+00</td>\n",
              "      <td>1.600000e+01</td>\n",
              "      <td>1.500000e+01</td>\n",
              "    </tr>\n",
              "    <tr>\n",
              "      <th>max</th>\n",
              "      <td>3.421083e+06</td>\n",
              "      <td>2.062090e+05</td>\n",
              "      <td>1.000000e+02</td>\n",
              "      <td>6.000000e+00</td>\n",
              "      <td>2.300000e+01</td>\n",
              "      <td>3.000000e+01</td>\n",
              "    </tr>\n",
              "  </tbody>\n",
              "</table>\n",
              "</div>"
            ],
            "text/plain": [
              "           order_id       user_id  order_number     order_dow  \\\n",
              "count  3.421083e+06  3.421083e+06  3.421083e+06  3.421083e+06   \n",
              "mean   1.710542e+06  1.029782e+05  1.715486e+01  2.776219e+00   \n",
              "std    9.875817e+05  5.953372e+04  1.773316e+01  2.046829e+00   \n",
              "min    1.000000e+00  1.000000e+00  1.000000e+00  0.000000e+00   \n",
              "25%    8.552715e+05  5.139400e+04  5.000000e+00  1.000000e+00   \n",
              "50%    1.710542e+06  1.026890e+05  1.100000e+01  3.000000e+00   \n",
              "75%    2.565812e+06  1.543850e+05  2.300000e+01  5.000000e+00   \n",
              "max    3.421083e+06  2.062090e+05  1.000000e+02  6.000000e+00   \n",
              "\n",
              "       order_hour_of_day  days_since_prior_order  \n",
              "count       3.421083e+06            3.214874e+06  \n",
              "mean        1.345202e+01            1.111484e+01  \n",
              "std         4.226088e+00            9.206737e+00  \n",
              "min         0.000000e+00            0.000000e+00  \n",
              "25%         1.000000e+01            4.000000e+00  \n",
              "50%         1.300000e+01            7.000000e+00  \n",
              "75%         1.600000e+01            1.500000e+01  \n",
              "max         2.300000e+01            3.000000e+01  "
            ]
          },
          "metadata": {
            "tags": []
          },
          "execution_count": 6
        }
      ]
    },
    {
      "metadata": {
        "id": "Xy4U47gQWg2a",
        "colab_type": "code",
        "colab": {
          "autoexec": {
            "startup": false,
            "wait_interval": 0
          },
          "base_uri": "https://localhost:8080/",
          "height": 206
        },
        "outputId": "fcd961b8-203b-4e74-9aa8-0cd6746d99a1",
        "executionInfo": {
          "status": "ok",
          "timestamp": 1523764103080,
          "user_tz": 240,
          "elapsed": 400,
          "user": {
            "displayName": "Quant Quotient",
            "photoUrl": "https://lh3.googleusercontent.com/a/default-user=s128",
            "userId": "109188985106332259534"
          }
        }
      },
      "cell_type": "code",
      "source": [
        "orders_df.head()"
      ],
      "execution_count": 0,
      "outputs": [
        {
          "output_type": "execute_result",
          "data": {
            "text/html": [
              "<div>\n",
              "<style scoped>\n",
              "    .dataframe tbody tr th:only-of-type {\n",
              "        vertical-align: middle;\n",
              "    }\n",
              "\n",
              "    .dataframe tbody tr th {\n",
              "        vertical-align: top;\n",
              "    }\n",
              "\n",
              "    .dataframe thead th {\n",
              "        text-align: right;\n",
              "    }\n",
              "</style>\n",
              "<table border=\"1\" class=\"dataframe\">\n",
              "  <thead>\n",
              "    <tr style=\"text-align: right;\">\n",
              "      <th></th>\n",
              "      <th>order_id</th>\n",
              "      <th>user_id</th>\n",
              "      <th>eval_set</th>\n",
              "      <th>order_number</th>\n",
              "      <th>order_dow</th>\n",
              "      <th>order_hour_of_day</th>\n",
              "      <th>days_since_prior_order</th>\n",
              "    </tr>\n",
              "  </thead>\n",
              "  <tbody>\n",
              "    <tr>\n",
              "      <th>0</th>\n",
              "      <td>2539329</td>\n",
              "      <td>1</td>\n",
              "      <td>prior</td>\n",
              "      <td>1</td>\n",
              "      <td>2</td>\n",
              "      <td>8</td>\n",
              "      <td>NaN</td>\n",
              "    </tr>\n",
              "    <tr>\n",
              "      <th>1</th>\n",
              "      <td>2398795</td>\n",
              "      <td>1</td>\n",
              "      <td>prior</td>\n",
              "      <td>2</td>\n",
              "      <td>3</td>\n",
              "      <td>7</td>\n",
              "      <td>15.0</td>\n",
              "    </tr>\n",
              "    <tr>\n",
              "      <th>2</th>\n",
              "      <td>473747</td>\n",
              "      <td>1</td>\n",
              "      <td>prior</td>\n",
              "      <td>3</td>\n",
              "      <td>3</td>\n",
              "      <td>12</td>\n",
              "      <td>21.0</td>\n",
              "    </tr>\n",
              "    <tr>\n",
              "      <th>3</th>\n",
              "      <td>2254736</td>\n",
              "      <td>1</td>\n",
              "      <td>prior</td>\n",
              "      <td>4</td>\n",
              "      <td>4</td>\n",
              "      <td>7</td>\n",
              "      <td>29.0</td>\n",
              "    </tr>\n",
              "    <tr>\n",
              "      <th>4</th>\n",
              "      <td>431534</td>\n",
              "      <td>1</td>\n",
              "      <td>prior</td>\n",
              "      <td>5</td>\n",
              "      <td>4</td>\n",
              "      <td>15</td>\n",
              "      <td>28.0</td>\n",
              "    </tr>\n",
              "  </tbody>\n",
              "</table>\n",
              "</div>"
            ],
            "text/plain": [
              "   order_id  user_id eval_set  order_number  order_dow  order_hour_of_day  \\\n",
              "0   2539329        1    prior             1          2                  8   \n",
              "1   2398795        1    prior             2          3                  7   \n",
              "2    473747        1    prior             3          3                 12   \n",
              "3   2254736        1    prior             4          4                  7   \n",
              "4    431534        1    prior             5          4                 15   \n",
              "\n",
              "   days_since_prior_order  \n",
              "0                     NaN  \n",
              "1                    15.0  \n",
              "2                    21.0  \n",
              "3                    29.0  \n",
              "4                    28.0  "
            ]
          },
          "metadata": {
            "tags": []
          },
          "execution_count": 7
        }
      ]
    },
    {
      "metadata": {
        "id": "TicSXWfgcDe4",
        "colab_type": "text"
      },
      "cell_type": "markdown",
      "source": [
        "Looking at the number of unique users that can be counted in the order_df data set, there are more than 200,000 users who made more than 3.2 million orders in the past. We have 131209 users making same number of last order and classified as 'train' in orders_df and 75000 users' orders classified as 'test'"
      ]
    },
    {
      "metadata": {
        "id": "ouX2OgtxWg2l",
        "colab_type": "code",
        "colab": {
          "autoexec": {
            "startup": false,
            "wait_interval": 0
          },
          "base_uri": "https://localhost:8080/",
          "height": 166
        },
        "outputId": "63c1c3a0-1307-431f-9b48-02f89c2e012a",
        "executionInfo": {
          "status": "ok",
          "timestamp": 1523764104654,
          "user_tz": 240,
          "elapsed": 1182,
          "user": {
            "displayName": "Quant Quotient",
            "photoUrl": "https://lh3.googleusercontent.com/a/default-user=s128",
            "userId": "109188985106332259534"
          }
        }
      },
      "cell_type": "code",
      "source": [
        "order_cnt = orders_df.groupby(\"eval_set\").user_id.aggregate({'total_user':'nunique'}).reset_index()\n",
        "print(order_cnt)"
      ],
      "execution_count": 0,
      "outputs": [
        {
          "output_type": "stream",
          "text": [
            "/usr/local/lib/python3.6/dist-packages/ipykernel_launcher.py:1: FutureWarning: using a dict on a Series for aggregation\n",
            "is deprecated and will be removed in a future version\n",
            "  \"\"\"Entry point for launching an IPython kernel.\n"
          ],
          "name": "stderr"
        },
        {
          "output_type": "stream",
          "text": [
            "  eval_set  total_user\n",
            "0    prior      206209\n",
            "1     test       75000\n",
            "2    train      131209\n"
          ],
          "name": "stdout"
        }
      ]
    },
    {
      "metadata": {
        "id": "38Cbun-2Wg2z",
        "colab_type": "text"
      },
      "cell_type": "markdown",
      "source": [
        "These data frames (order__products_\\_[prior/train]_df specify which products were purchased in each order. order_products_prior_df contains previous order contents for all customers. \n",
        "\n",
        "'reordered' indicates that the customer has a previous order that contains the product. (Some orders will have no reordered items). We may predict an explicit 'None' value for orders with no reordered items. \n",
        "\n",
        "We have 206209 unique customers based on user_id in total, for 131209 the last purchase is provided and for 75000 we need to predict their next purchase. There are more than 3.4 million orders as mentioned in the data release blog post. For each user, 4 to 100 orders with sequence of products purchased is also provided. "
      ]
    },
    {
      "metadata": {
        "id": "WIc22fDJirJY",
        "colab_type": "text"
      },
      "cell_type": "markdown",
      "source": [
        "### Prior Products \n",
        "Taking a look at the order_product_prior_df, the describe function reveales that there are more than 32 million prior records consisting of all the products made by about 200,000 users for more than 3.2 million orders. The data set has a 'reordered' field to tell if the user reordered the given product. A value of 1 means that the product was reordered."
      ]
    },
    {
      "metadata": {
        "id": "CYnNwKglWg23",
        "colab_type": "code",
        "colab": {
          "autoexec": {
            "startup": false,
            "wait_interval": 0
          },
          "base_uri": "https://localhost:8080/",
          "height": 300
        },
        "outputId": "6a9aaad2-767e-4d36-850d-eaa7f93194e4",
        "executionInfo": {
          "status": "ok",
          "timestamp": 1523764114054,
          "user_tz": 240,
          "elapsed": 9272,
          "user": {
            "displayName": "Quant Quotient",
            "photoUrl": "https://lh3.googleusercontent.com/a/default-user=s128",
            "userId": "109188985106332259534"
          }
        }
      },
      "cell_type": "code",
      "source": [
        "order_products_prior_df.describe()"
      ],
      "execution_count": 0,
      "outputs": [
        {
          "output_type": "execute_result",
          "data": {
            "text/html": [
              "<div>\n",
              "<style scoped>\n",
              "    .dataframe tbody tr th:only-of-type {\n",
              "        vertical-align: middle;\n",
              "    }\n",
              "\n",
              "    .dataframe tbody tr th {\n",
              "        vertical-align: top;\n",
              "    }\n",
              "\n",
              "    .dataframe thead th {\n",
              "        text-align: right;\n",
              "    }\n",
              "</style>\n",
              "<table border=\"1\" class=\"dataframe\">\n",
              "  <thead>\n",
              "    <tr style=\"text-align: right;\">\n",
              "      <th></th>\n",
              "      <th>order_id</th>\n",
              "      <th>product_id</th>\n",
              "      <th>add_to_cart_order</th>\n",
              "      <th>reordered</th>\n",
              "    </tr>\n",
              "  </thead>\n",
              "  <tbody>\n",
              "    <tr>\n",
              "      <th>count</th>\n",
              "      <td>3.243449e+07</td>\n",
              "      <td>3.243449e+07</td>\n",
              "      <td>3.243449e+07</td>\n",
              "      <td>3.243449e+07</td>\n",
              "    </tr>\n",
              "    <tr>\n",
              "      <th>mean</th>\n",
              "      <td>1.710749e+06</td>\n",
              "      <td>2.557634e+04</td>\n",
              "      <td>8.351076e+00</td>\n",
              "      <td>5.896975e-01</td>\n",
              "    </tr>\n",
              "    <tr>\n",
              "      <th>std</th>\n",
              "      <td>9.873007e+05</td>\n",
              "      <td>1.409669e+04</td>\n",
              "      <td>7.126671e+00</td>\n",
              "      <td>4.918886e-01</td>\n",
              "    </tr>\n",
              "    <tr>\n",
              "      <th>min</th>\n",
              "      <td>2.000000e+00</td>\n",
              "      <td>1.000000e+00</td>\n",
              "      <td>1.000000e+00</td>\n",
              "      <td>0.000000e+00</td>\n",
              "    </tr>\n",
              "    <tr>\n",
              "      <th>25%</th>\n",
              "      <td>8.559430e+05</td>\n",
              "      <td>1.353000e+04</td>\n",
              "      <td>3.000000e+00</td>\n",
              "      <td>0.000000e+00</td>\n",
              "    </tr>\n",
              "    <tr>\n",
              "      <th>50%</th>\n",
              "      <td>1.711048e+06</td>\n",
              "      <td>2.525600e+04</td>\n",
              "      <td>6.000000e+00</td>\n",
              "      <td>1.000000e+00</td>\n",
              "    </tr>\n",
              "    <tr>\n",
              "      <th>75%</th>\n",
              "      <td>2.565514e+06</td>\n",
              "      <td>3.793500e+04</td>\n",
              "      <td>1.100000e+01</td>\n",
              "      <td>1.000000e+00</td>\n",
              "    </tr>\n",
              "    <tr>\n",
              "      <th>max</th>\n",
              "      <td>3.421083e+06</td>\n",
              "      <td>4.968800e+04</td>\n",
              "      <td>1.450000e+02</td>\n",
              "      <td>1.000000e+00</td>\n",
              "    </tr>\n",
              "  </tbody>\n",
              "</table>\n",
              "</div>"
            ],
            "text/plain": [
              "           order_id    product_id  add_to_cart_order     reordered\n",
              "count  3.243449e+07  3.243449e+07       3.243449e+07  3.243449e+07\n",
              "mean   1.710749e+06  2.557634e+04       8.351076e+00  5.896975e-01\n",
              "std    9.873007e+05  1.409669e+04       7.126671e+00  4.918886e-01\n",
              "min    2.000000e+00  1.000000e+00       1.000000e+00  0.000000e+00\n",
              "25%    8.559430e+05  1.353000e+04       3.000000e+00  0.000000e+00\n",
              "50%    1.711048e+06  2.525600e+04       6.000000e+00  1.000000e+00\n",
              "75%    2.565514e+06  3.793500e+04       1.100000e+01  1.000000e+00\n",
              "max    3.421083e+06  4.968800e+04       1.450000e+02  1.000000e+00"
            ]
          },
          "metadata": {
            "tags": []
          },
          "execution_count": 9
        }
      ]
    },
    {
      "metadata": {
        "id": "J4FFvfqSWg3G",
        "colab_type": "code",
        "colab": {
          "autoexec": {
            "startup": false,
            "wait_interval": 0
          },
          "base_uri": "https://localhost:8080/",
          "height": 206
        },
        "outputId": "d9792a1c-a2b3-4786-ed2b-e2e5b633e9a2",
        "executionInfo": {
          "status": "ok",
          "timestamp": 1523764114714,
          "user_tz": 240,
          "elapsed": 380,
          "user": {
            "displayName": "Quant Quotient",
            "photoUrl": "https://lh3.googleusercontent.com/a/default-user=s128",
            "userId": "109188985106332259534"
          }
        }
      },
      "cell_type": "code",
      "source": [
        "order_products_prior_df.head()"
      ],
      "execution_count": 0,
      "outputs": [
        {
          "output_type": "execute_result",
          "data": {
            "text/html": [
              "<div>\n",
              "<style scoped>\n",
              "    .dataframe tbody tr th:only-of-type {\n",
              "        vertical-align: middle;\n",
              "    }\n",
              "\n",
              "    .dataframe tbody tr th {\n",
              "        vertical-align: top;\n",
              "    }\n",
              "\n",
              "    .dataframe thead th {\n",
              "        text-align: right;\n",
              "    }\n",
              "</style>\n",
              "<table border=\"1\" class=\"dataframe\">\n",
              "  <thead>\n",
              "    <tr style=\"text-align: right;\">\n",
              "      <th></th>\n",
              "      <th>order_id</th>\n",
              "      <th>product_id</th>\n",
              "      <th>add_to_cart_order</th>\n",
              "      <th>reordered</th>\n",
              "    </tr>\n",
              "  </thead>\n",
              "  <tbody>\n",
              "    <tr>\n",
              "      <th>0</th>\n",
              "      <td>2</td>\n",
              "      <td>33120</td>\n",
              "      <td>1</td>\n",
              "      <td>1</td>\n",
              "    </tr>\n",
              "    <tr>\n",
              "      <th>1</th>\n",
              "      <td>2</td>\n",
              "      <td>28985</td>\n",
              "      <td>2</td>\n",
              "      <td>1</td>\n",
              "    </tr>\n",
              "    <tr>\n",
              "      <th>2</th>\n",
              "      <td>2</td>\n",
              "      <td>9327</td>\n",
              "      <td>3</td>\n",
              "      <td>0</td>\n",
              "    </tr>\n",
              "    <tr>\n",
              "      <th>3</th>\n",
              "      <td>2</td>\n",
              "      <td>45918</td>\n",
              "      <td>4</td>\n",
              "      <td>1</td>\n",
              "    </tr>\n",
              "    <tr>\n",
              "      <th>4</th>\n",
              "      <td>2</td>\n",
              "      <td>30035</td>\n",
              "      <td>5</td>\n",
              "      <td>0</td>\n",
              "    </tr>\n",
              "  </tbody>\n",
              "</table>\n",
              "</div>"
            ],
            "text/plain": [
              "   order_id  product_id  add_to_cart_order  reordered\n",
              "0         2       33120                  1          1\n",
              "1         2       28985                  2          1\n",
              "2         2        9327                  3          0\n",
              "3         2       45918                  4          1\n",
              "4         2       30035                  5          0"
            ]
          },
          "metadata": {
            "tags": []
          },
          "execution_count": 10
        }
      ]
    },
    {
      "metadata": {
        "id": "0QoifnqIjvr2",
        "colab_type": "text"
      },
      "cell_type": "markdown",
      "source": [
        "### Train Products\n",
        "\n",
        "As shown below there are about 1.3 million records in the order_products_train_df data set, with product_id to identify the product, order_id to tell, which order was the product a part of and a 'reordered' field to tell if the product was reordered, just as it does in case of Prior Producs data set."
      ]
    },
    {
      "metadata": {
        "id": "eA3yZY2WWg3Z",
        "colab_type": "code",
        "colab": {
          "autoexec": {
            "startup": false,
            "wait_interval": 0
          },
          "base_uri": "https://localhost:8080/",
          "height": 300
        },
        "outputId": "a882bbc6-de91-4224-e3ff-ec19fb4bef69",
        "executionInfo": {
          "status": "ok",
          "timestamp": 1523764115812,
          "user_tz": 240,
          "elapsed": 772,
          "user": {
            "displayName": "Quant Quotient",
            "photoUrl": "https://lh3.googleusercontent.com/a/default-user=s128",
            "userId": "109188985106332259534"
          }
        }
      },
      "cell_type": "code",
      "source": [
        "order_products_train_df.describe()"
      ],
      "execution_count": 0,
      "outputs": [
        {
          "output_type": "execute_result",
          "data": {
            "text/html": [
              "<div>\n",
              "<style scoped>\n",
              "    .dataframe tbody tr th:only-of-type {\n",
              "        vertical-align: middle;\n",
              "    }\n",
              "\n",
              "    .dataframe tbody tr th {\n",
              "        vertical-align: top;\n",
              "    }\n",
              "\n",
              "    .dataframe thead th {\n",
              "        text-align: right;\n",
              "    }\n",
              "</style>\n",
              "<table border=\"1\" class=\"dataframe\">\n",
              "  <thead>\n",
              "    <tr style=\"text-align: right;\">\n",
              "      <th></th>\n",
              "      <th>order_id</th>\n",
              "      <th>product_id</th>\n",
              "      <th>add_to_cart_order</th>\n",
              "      <th>reordered</th>\n",
              "    </tr>\n",
              "  </thead>\n",
              "  <tbody>\n",
              "    <tr>\n",
              "      <th>count</th>\n",
              "      <td>1.384617e+06</td>\n",
              "      <td>1.384617e+06</td>\n",
              "      <td>1.384617e+06</td>\n",
              "      <td>1.384617e+06</td>\n",
              "    </tr>\n",
              "    <tr>\n",
              "      <th>mean</th>\n",
              "      <td>1.706298e+06</td>\n",
              "      <td>2.555624e+04</td>\n",
              "      <td>8.758044e+00</td>\n",
              "      <td>5.985944e-01</td>\n",
              "    </tr>\n",
              "    <tr>\n",
              "      <th>std</th>\n",
              "      <td>9.897326e+05</td>\n",
              "      <td>1.412127e+04</td>\n",
              "      <td>7.423936e+00</td>\n",
              "      <td>4.901829e-01</td>\n",
              "    </tr>\n",
              "    <tr>\n",
              "      <th>min</th>\n",
              "      <td>1.000000e+00</td>\n",
              "      <td>1.000000e+00</td>\n",
              "      <td>1.000000e+00</td>\n",
              "      <td>0.000000e+00</td>\n",
              "    </tr>\n",
              "    <tr>\n",
              "      <th>25%</th>\n",
              "      <td>8.433700e+05</td>\n",
              "      <td>1.338000e+04</td>\n",
              "      <td>3.000000e+00</td>\n",
              "      <td>0.000000e+00</td>\n",
              "    </tr>\n",
              "    <tr>\n",
              "      <th>50%</th>\n",
              "      <td>1.701880e+06</td>\n",
              "      <td>2.529800e+04</td>\n",
              "      <td>7.000000e+00</td>\n",
              "      <td>1.000000e+00</td>\n",
              "    </tr>\n",
              "    <tr>\n",
              "      <th>75%</th>\n",
              "      <td>2.568023e+06</td>\n",
              "      <td>3.794000e+04</td>\n",
              "      <td>1.200000e+01</td>\n",
              "      <td>1.000000e+00</td>\n",
              "    </tr>\n",
              "    <tr>\n",
              "      <th>max</th>\n",
              "      <td>3.421070e+06</td>\n",
              "      <td>4.968800e+04</td>\n",
              "      <td>8.000000e+01</td>\n",
              "      <td>1.000000e+00</td>\n",
              "    </tr>\n",
              "  </tbody>\n",
              "</table>\n",
              "</div>"
            ],
            "text/plain": [
              "           order_id    product_id  add_to_cart_order     reordered\n",
              "count  1.384617e+06  1.384617e+06       1.384617e+06  1.384617e+06\n",
              "mean   1.706298e+06  2.555624e+04       8.758044e+00  5.985944e-01\n",
              "std    9.897326e+05  1.412127e+04       7.423936e+00  4.901829e-01\n",
              "min    1.000000e+00  1.000000e+00       1.000000e+00  0.000000e+00\n",
              "25%    8.433700e+05  1.338000e+04       3.000000e+00  0.000000e+00\n",
              "50%    1.701880e+06  2.529800e+04       7.000000e+00  1.000000e+00\n",
              "75%    2.568023e+06  3.794000e+04       1.200000e+01  1.000000e+00\n",
              "max    3.421070e+06  4.968800e+04       8.000000e+01  1.000000e+00"
            ]
          },
          "metadata": {
            "tags": []
          },
          "execution_count": 11
        }
      ]
    },
    {
      "metadata": {
        "id": "j9pTTSvQWg3l",
        "colab_type": "code",
        "colab": {
          "autoexec": {
            "startup": false,
            "wait_interval": 0
          },
          "base_uri": "https://localhost:8080/",
          "height": 206
        },
        "outputId": "fa680c35-6fd0-409f-aee7-e2298a171239",
        "executionInfo": {
          "status": "ok",
          "timestamp": 1523764116402,
          "user_tz": 240,
          "elapsed": 270,
          "user": {
            "displayName": "Quant Quotient",
            "photoUrl": "https://lh3.googleusercontent.com/a/default-user=s128",
            "userId": "109188985106332259534"
          }
        }
      },
      "cell_type": "code",
      "source": [
        "order_products_train_df.head()"
      ],
      "execution_count": 0,
      "outputs": [
        {
          "output_type": "execute_result",
          "data": {
            "text/html": [
              "<div>\n",
              "<style scoped>\n",
              "    .dataframe tbody tr th:only-of-type {\n",
              "        vertical-align: middle;\n",
              "    }\n",
              "\n",
              "    .dataframe tbody tr th {\n",
              "        vertical-align: top;\n",
              "    }\n",
              "\n",
              "    .dataframe thead th {\n",
              "        text-align: right;\n",
              "    }\n",
              "</style>\n",
              "<table border=\"1\" class=\"dataframe\">\n",
              "  <thead>\n",
              "    <tr style=\"text-align: right;\">\n",
              "      <th></th>\n",
              "      <th>order_id</th>\n",
              "      <th>product_id</th>\n",
              "      <th>add_to_cart_order</th>\n",
              "      <th>reordered</th>\n",
              "    </tr>\n",
              "  </thead>\n",
              "  <tbody>\n",
              "    <tr>\n",
              "      <th>0</th>\n",
              "      <td>1</td>\n",
              "      <td>49302</td>\n",
              "      <td>1</td>\n",
              "      <td>1</td>\n",
              "    </tr>\n",
              "    <tr>\n",
              "      <th>1</th>\n",
              "      <td>1</td>\n",
              "      <td>11109</td>\n",
              "      <td>2</td>\n",
              "      <td>1</td>\n",
              "    </tr>\n",
              "    <tr>\n",
              "      <th>2</th>\n",
              "      <td>1</td>\n",
              "      <td>10246</td>\n",
              "      <td>3</td>\n",
              "      <td>0</td>\n",
              "    </tr>\n",
              "    <tr>\n",
              "      <th>3</th>\n",
              "      <td>1</td>\n",
              "      <td>49683</td>\n",
              "      <td>4</td>\n",
              "      <td>0</td>\n",
              "    </tr>\n",
              "    <tr>\n",
              "      <th>4</th>\n",
              "      <td>1</td>\n",
              "      <td>43633</td>\n",
              "      <td>5</td>\n",
              "      <td>1</td>\n",
              "    </tr>\n",
              "  </tbody>\n",
              "</table>\n",
              "</div>"
            ],
            "text/plain": [
              "   order_id  product_id  add_to_cart_order  reordered\n",
              "0         1       49302                  1          1\n",
              "1         1       11109                  2          1\n",
              "2         1       10246                  3          0\n",
              "3         1       49683                  4          0\n",
              "4         1       43633                  5          1"
            ]
          },
          "metadata": {
            "tags": []
          },
          "execution_count": 12
        }
      ]
    },
    {
      "metadata": {
        "id": "_q4XuJeBnbl8",
        "colab_type": "text"
      },
      "cell_type": "markdown",
      "source": [
        "### Products, Aisles, Department\n",
        "\n",
        "  There are 49688 products, part of 134 aisles and 21 departments"
      ]
    },
    {
      "metadata": {
        "id": "OZQIF3FkWg30",
        "colab_type": "code",
        "colab": {
          "autoexec": {
            "startup": false,
            "wait_interval": 0
          },
          "base_uri": "https://localhost:8080/",
          "height": 300
        },
        "outputId": "842ad03b-12c8-4947-9edf-6c80b30ee838",
        "executionInfo": {
          "status": "ok",
          "timestamp": 1523764117160,
          "user_tz": 240,
          "elapsed": 472,
          "user": {
            "displayName": "Quant Quotient",
            "photoUrl": "https://lh3.googleusercontent.com/a/default-user=s128",
            "userId": "109188985106332259534"
          }
        }
      },
      "cell_type": "code",
      "source": [
        "products_df.describe()"
      ],
      "execution_count": 0,
      "outputs": [
        {
          "output_type": "execute_result",
          "data": {
            "text/html": [
              "<div>\n",
              "<style scoped>\n",
              "    .dataframe tbody tr th:only-of-type {\n",
              "        vertical-align: middle;\n",
              "    }\n",
              "\n",
              "    .dataframe tbody tr th {\n",
              "        vertical-align: top;\n",
              "    }\n",
              "\n",
              "    .dataframe thead th {\n",
              "        text-align: right;\n",
              "    }\n",
              "</style>\n",
              "<table border=\"1\" class=\"dataframe\">\n",
              "  <thead>\n",
              "    <tr style=\"text-align: right;\">\n",
              "      <th></th>\n",
              "      <th>product_id</th>\n",
              "      <th>aisle_id</th>\n",
              "      <th>department_id</th>\n",
              "    </tr>\n",
              "  </thead>\n",
              "  <tbody>\n",
              "    <tr>\n",
              "      <th>count</th>\n",
              "      <td>49688.000000</td>\n",
              "      <td>49688.000000</td>\n",
              "      <td>49688.000000</td>\n",
              "    </tr>\n",
              "    <tr>\n",
              "      <th>mean</th>\n",
              "      <td>24844.500000</td>\n",
              "      <td>67.769582</td>\n",
              "      <td>11.728687</td>\n",
              "    </tr>\n",
              "    <tr>\n",
              "      <th>std</th>\n",
              "      <td>14343.834425</td>\n",
              "      <td>38.316162</td>\n",
              "      <td>5.850410</td>\n",
              "    </tr>\n",
              "    <tr>\n",
              "      <th>min</th>\n",
              "      <td>1.000000</td>\n",
              "      <td>1.000000</td>\n",
              "      <td>1.000000</td>\n",
              "    </tr>\n",
              "    <tr>\n",
              "      <th>25%</th>\n",
              "      <td>12422.750000</td>\n",
              "      <td>35.000000</td>\n",
              "      <td>7.000000</td>\n",
              "    </tr>\n",
              "    <tr>\n",
              "      <th>50%</th>\n",
              "      <td>24844.500000</td>\n",
              "      <td>69.000000</td>\n",
              "      <td>13.000000</td>\n",
              "    </tr>\n",
              "    <tr>\n",
              "      <th>75%</th>\n",
              "      <td>37266.250000</td>\n",
              "      <td>100.000000</td>\n",
              "      <td>17.000000</td>\n",
              "    </tr>\n",
              "    <tr>\n",
              "      <th>max</th>\n",
              "      <td>49688.000000</td>\n",
              "      <td>134.000000</td>\n",
              "      <td>21.000000</td>\n",
              "    </tr>\n",
              "  </tbody>\n",
              "</table>\n",
              "</div>"
            ],
            "text/plain": [
              "         product_id      aisle_id  department_id\n",
              "count  49688.000000  49688.000000   49688.000000\n",
              "mean   24844.500000     67.769582      11.728687\n",
              "std    14343.834425     38.316162       5.850410\n",
              "min        1.000000      1.000000       1.000000\n",
              "25%    12422.750000     35.000000       7.000000\n",
              "50%    24844.500000     69.000000      13.000000\n",
              "75%    37266.250000    100.000000      17.000000\n",
              "max    49688.000000    134.000000      21.000000"
            ]
          },
          "metadata": {
            "tags": []
          },
          "execution_count": 13
        }
      ]
    },
    {
      "metadata": {
        "id": "jotTSr6_Wg3_",
        "colab_type": "code",
        "colab": {
          "autoexec": {
            "startup": false,
            "wait_interval": 0
          },
          "base_uri": "https://localhost:8080/",
          "height": 447
        },
        "outputId": "019f21ac-e0f6-4ed6-b0d1-6757f7e9d945",
        "executionInfo": {
          "status": "ok",
          "timestamp": 1523764117756,
          "user_tz": 240,
          "elapsed": 268,
          "user": {
            "displayName": "Quant Quotient",
            "photoUrl": "https://lh3.googleusercontent.com/a/default-user=s128",
            "userId": "109188985106332259534"
          }
        }
      },
      "cell_type": "code",
      "source": [
        "print(products_df.head())\n",
        "products_df.tail()"
      ],
      "execution_count": 0,
      "outputs": [
        {
          "output_type": "stream",
          "text": [
            "   product_id                                       product_name  aisle_id  \\\n",
            "0           1                         Chocolate Sandwich Cookies        61   \n",
            "1           2                                   All-Seasons Salt       104   \n",
            "2           3               Robust Golden Unsweetened Oolong Tea        94   \n",
            "3           4  Smart Ones Classic Favorites Mini Rigatoni Wit...        38   \n",
            "4           5                          Green Chile Anytime Sauce         5   \n",
            "\n",
            "   department_id  \n",
            "0             19  \n",
            "1             13  \n",
            "2              7  \n",
            "3              1  \n",
            "4             13  \n"
          ],
          "name": "stdout"
        },
        {
          "output_type": "execute_result",
          "data": {
            "text/html": [
              "<div>\n",
              "<style scoped>\n",
              "    .dataframe tbody tr th:only-of-type {\n",
              "        vertical-align: middle;\n",
              "    }\n",
              "\n",
              "    .dataframe tbody tr th {\n",
              "        vertical-align: top;\n",
              "    }\n",
              "\n",
              "    .dataframe thead th {\n",
              "        text-align: right;\n",
              "    }\n",
              "</style>\n",
              "<table border=\"1\" class=\"dataframe\">\n",
              "  <thead>\n",
              "    <tr style=\"text-align: right;\">\n",
              "      <th></th>\n",
              "      <th>product_id</th>\n",
              "      <th>product_name</th>\n",
              "      <th>aisle_id</th>\n",
              "      <th>department_id</th>\n",
              "    </tr>\n",
              "  </thead>\n",
              "  <tbody>\n",
              "    <tr>\n",
              "      <th>49683</th>\n",
              "      <td>49684</td>\n",
              "      <td>Vodka, Triple Distilled, Twist of Vanilla</td>\n",
              "      <td>124</td>\n",
              "      <td>5</td>\n",
              "    </tr>\n",
              "    <tr>\n",
              "      <th>49684</th>\n",
              "      <td>49685</td>\n",
              "      <td>En Croute Roast Hazelnut Cranberry</td>\n",
              "      <td>42</td>\n",
              "      <td>1</td>\n",
              "    </tr>\n",
              "    <tr>\n",
              "      <th>49685</th>\n",
              "      <td>49686</td>\n",
              "      <td>Artisan Baguette</td>\n",
              "      <td>112</td>\n",
              "      <td>3</td>\n",
              "    </tr>\n",
              "    <tr>\n",
              "      <th>49686</th>\n",
              "      <td>49687</td>\n",
              "      <td>Smartblend Healthy Metabolism Dry Cat Food</td>\n",
              "      <td>41</td>\n",
              "      <td>8</td>\n",
              "    </tr>\n",
              "    <tr>\n",
              "      <th>49687</th>\n",
              "      <td>49688</td>\n",
              "      <td>Fresh Foaming Cleanser</td>\n",
              "      <td>73</td>\n",
              "      <td>11</td>\n",
              "    </tr>\n",
              "  </tbody>\n",
              "</table>\n",
              "</div>"
            ],
            "text/plain": [
              "       product_id                                product_name  aisle_id  \\\n",
              "49683       49684   Vodka, Triple Distilled, Twist of Vanilla       124   \n",
              "49684       49685          En Croute Roast Hazelnut Cranberry        42   \n",
              "49685       49686                            Artisan Baguette       112   \n",
              "49686       49687  Smartblend Healthy Metabolism Dry Cat Food        41   \n",
              "49687       49688                      Fresh Foaming Cleanser        73   \n",
              "\n",
              "       department_id  \n",
              "49683              5  \n",
              "49684              1  \n",
              "49685              3  \n",
              "49686              8  \n",
              "49687             11  "
            ]
          },
          "metadata": {
            "tags": []
          },
          "execution_count": 14
        }
      ]
    },
    {
      "metadata": {
        "id": "tJz1s3heWg4L",
        "colab_type": "code",
        "colab": {
          "autoexec": {
            "startup": false,
            "wait_interval": 0
          },
          "base_uri": "https://localhost:8080/",
          "height": 300
        },
        "outputId": "19c09598-28ba-405c-8540-4a366ba8f273",
        "executionInfo": {
          "status": "ok",
          "timestamp": 1523764118360,
          "user_tz": 240,
          "elapsed": 316,
          "user": {
            "displayName": "Quant Quotient",
            "photoUrl": "https://lh3.googleusercontent.com/a/default-user=s128",
            "userId": "109188985106332259534"
          }
        }
      },
      "cell_type": "code",
      "source": [
        "aisles_df.describe()"
      ],
      "execution_count": 0,
      "outputs": [
        {
          "output_type": "execute_result",
          "data": {
            "text/html": [
              "<div>\n",
              "<style scoped>\n",
              "    .dataframe tbody tr th:only-of-type {\n",
              "        vertical-align: middle;\n",
              "    }\n",
              "\n",
              "    .dataframe tbody tr th {\n",
              "        vertical-align: top;\n",
              "    }\n",
              "\n",
              "    .dataframe thead th {\n",
              "        text-align: right;\n",
              "    }\n",
              "</style>\n",
              "<table border=\"1\" class=\"dataframe\">\n",
              "  <thead>\n",
              "    <tr style=\"text-align: right;\">\n",
              "      <th></th>\n",
              "      <th>aisle_id</th>\n",
              "    </tr>\n",
              "  </thead>\n",
              "  <tbody>\n",
              "    <tr>\n",
              "      <th>count</th>\n",
              "      <td>134.000000</td>\n",
              "    </tr>\n",
              "    <tr>\n",
              "      <th>mean</th>\n",
              "      <td>67.500000</td>\n",
              "    </tr>\n",
              "    <tr>\n",
              "      <th>std</th>\n",
              "      <td>38.826537</td>\n",
              "    </tr>\n",
              "    <tr>\n",
              "      <th>min</th>\n",
              "      <td>1.000000</td>\n",
              "    </tr>\n",
              "    <tr>\n",
              "      <th>25%</th>\n",
              "      <td>34.250000</td>\n",
              "    </tr>\n",
              "    <tr>\n",
              "      <th>50%</th>\n",
              "      <td>67.500000</td>\n",
              "    </tr>\n",
              "    <tr>\n",
              "      <th>75%</th>\n",
              "      <td>100.750000</td>\n",
              "    </tr>\n",
              "    <tr>\n",
              "      <th>max</th>\n",
              "      <td>134.000000</td>\n",
              "    </tr>\n",
              "  </tbody>\n",
              "</table>\n",
              "</div>"
            ],
            "text/plain": [
              "         aisle_id\n",
              "count  134.000000\n",
              "mean    67.500000\n",
              "std     38.826537\n",
              "min      1.000000\n",
              "25%     34.250000\n",
              "50%     67.500000\n",
              "75%    100.750000\n",
              "max    134.000000"
            ]
          },
          "metadata": {
            "tags": []
          },
          "execution_count": 15
        }
      ]
    },
    {
      "metadata": {
        "id": "UCjBTJiBWg4V",
        "colab_type": "code",
        "colab": {
          "autoexec": {
            "startup": false,
            "wait_interval": 0
          },
          "base_uri": "https://localhost:8080/",
          "height": 239
        },
        "outputId": "fc214be5-ae44-4598-8e7b-459b9a76e292",
        "executionInfo": {
          "status": "ok",
          "timestamp": 1523764118900,
          "user_tz": 240,
          "elapsed": 246,
          "user": {
            "displayName": "Quant Quotient",
            "photoUrl": "https://lh3.googleusercontent.com/a/default-user=s128",
            "userId": "109188985106332259534"
          }
        }
      },
      "cell_type": "code",
      "source": [
        "print(aisles_df.head())\n",
        "print(aisles_df.tail())"
      ],
      "execution_count": 0,
      "outputs": [
        {
          "output_type": "stream",
          "text": [
            "   aisle_id                       aisle\n",
            "0         1       prepared soups salads\n",
            "1         2           specialty cheeses\n",
            "2         3         energy granola bars\n",
            "3         4               instant foods\n",
            "4         5  marinades meat preparation\n",
            "     aisle_id                       aisle\n",
            "129       130    hot cereal pancake mixes\n",
            "130       131                   dry pasta\n",
            "131       132                      beauty\n",
            "132       133  muscles joints pain relief\n",
            "133       134  specialty wines champagnes\n"
          ],
          "name": "stdout"
        }
      ]
    },
    {
      "metadata": {
        "id": "IQvJtlU2Wg4h",
        "colab_type": "code",
        "colab": {
          "autoexec": {
            "startup": false,
            "wait_interval": 0
          },
          "base_uri": "https://localhost:8080/",
          "height": 300
        },
        "outputId": "1c676ab8-7038-4b49-b31c-60ababf43b3b",
        "executionInfo": {
          "status": "ok",
          "timestamp": 1523764119676,
          "user_tz": 240,
          "elapsed": 522,
          "user": {
            "displayName": "Quant Quotient",
            "photoUrl": "https://lh3.googleusercontent.com/a/default-user=s128",
            "userId": "109188985106332259534"
          }
        }
      },
      "cell_type": "code",
      "source": [
        "departments_df.describe()"
      ],
      "execution_count": 0,
      "outputs": [
        {
          "output_type": "execute_result",
          "data": {
            "text/html": [
              "<div>\n",
              "<style scoped>\n",
              "    .dataframe tbody tr th:only-of-type {\n",
              "        vertical-align: middle;\n",
              "    }\n",
              "\n",
              "    .dataframe tbody tr th {\n",
              "        vertical-align: top;\n",
              "    }\n",
              "\n",
              "    .dataframe thead th {\n",
              "        text-align: right;\n",
              "    }\n",
              "</style>\n",
              "<table border=\"1\" class=\"dataframe\">\n",
              "  <thead>\n",
              "    <tr style=\"text-align: right;\">\n",
              "      <th></th>\n",
              "      <th>department_id</th>\n",
              "    </tr>\n",
              "  </thead>\n",
              "  <tbody>\n",
              "    <tr>\n",
              "      <th>count</th>\n",
              "      <td>21.000000</td>\n",
              "    </tr>\n",
              "    <tr>\n",
              "      <th>mean</th>\n",
              "      <td>11.000000</td>\n",
              "    </tr>\n",
              "    <tr>\n",
              "      <th>std</th>\n",
              "      <td>6.204837</td>\n",
              "    </tr>\n",
              "    <tr>\n",
              "      <th>min</th>\n",
              "      <td>1.000000</td>\n",
              "    </tr>\n",
              "    <tr>\n",
              "      <th>25%</th>\n",
              "      <td>6.000000</td>\n",
              "    </tr>\n",
              "    <tr>\n",
              "      <th>50%</th>\n",
              "      <td>11.000000</td>\n",
              "    </tr>\n",
              "    <tr>\n",
              "      <th>75%</th>\n",
              "      <td>16.000000</td>\n",
              "    </tr>\n",
              "    <tr>\n",
              "      <th>max</th>\n",
              "      <td>21.000000</td>\n",
              "    </tr>\n",
              "  </tbody>\n",
              "</table>\n",
              "</div>"
            ],
            "text/plain": [
              "       department_id\n",
              "count      21.000000\n",
              "mean       11.000000\n",
              "std         6.204837\n",
              "min         1.000000\n",
              "25%         6.000000\n",
              "50%        11.000000\n",
              "75%        16.000000\n",
              "max        21.000000"
            ]
          },
          "metadata": {
            "tags": []
          },
          "execution_count": 17
        }
      ]
    },
    {
      "metadata": {
        "id": "oGK7oqNjWg5D",
        "colab_type": "code",
        "colab": {
          "autoexec": {
            "startup": false,
            "wait_interval": 0
          },
          "base_uri": "https://localhost:8080/",
          "height": 708
        },
        "outputId": "03f3a030-9fa2-41a0-8f05-366701749859",
        "executionInfo": {
          "status": "ok",
          "timestamp": 1523764120460,
          "user_tz": 240,
          "elapsed": 294,
          "user": {
            "displayName": "Quant Quotient",
            "photoUrl": "https://lh3.googleusercontent.com/a/default-user=s128",
            "userId": "109188985106332259534"
          }
        }
      },
      "cell_type": "code",
      "source": [
        "departments_df"
      ],
      "execution_count": 0,
      "outputs": [
        {
          "output_type": "execute_result",
          "data": {
            "text/html": [
              "<div>\n",
              "<style scoped>\n",
              "    .dataframe tbody tr th:only-of-type {\n",
              "        vertical-align: middle;\n",
              "    }\n",
              "\n",
              "    .dataframe tbody tr th {\n",
              "        vertical-align: top;\n",
              "    }\n",
              "\n",
              "    .dataframe thead th {\n",
              "        text-align: right;\n",
              "    }\n",
              "</style>\n",
              "<table border=\"1\" class=\"dataframe\">\n",
              "  <thead>\n",
              "    <tr style=\"text-align: right;\">\n",
              "      <th></th>\n",
              "      <th>department_id</th>\n",
              "      <th>department</th>\n",
              "    </tr>\n",
              "  </thead>\n",
              "  <tbody>\n",
              "    <tr>\n",
              "      <th>0</th>\n",
              "      <td>1</td>\n",
              "      <td>frozen</td>\n",
              "    </tr>\n",
              "    <tr>\n",
              "      <th>1</th>\n",
              "      <td>2</td>\n",
              "      <td>other</td>\n",
              "    </tr>\n",
              "    <tr>\n",
              "      <th>2</th>\n",
              "      <td>3</td>\n",
              "      <td>bakery</td>\n",
              "    </tr>\n",
              "    <tr>\n",
              "      <th>3</th>\n",
              "      <td>4</td>\n",
              "      <td>produce</td>\n",
              "    </tr>\n",
              "    <tr>\n",
              "      <th>4</th>\n",
              "      <td>5</td>\n",
              "      <td>alcohol</td>\n",
              "    </tr>\n",
              "    <tr>\n",
              "      <th>5</th>\n",
              "      <td>6</td>\n",
              "      <td>international</td>\n",
              "    </tr>\n",
              "    <tr>\n",
              "      <th>6</th>\n",
              "      <td>7</td>\n",
              "      <td>beverages</td>\n",
              "    </tr>\n",
              "    <tr>\n",
              "      <th>7</th>\n",
              "      <td>8</td>\n",
              "      <td>pets</td>\n",
              "    </tr>\n",
              "    <tr>\n",
              "      <th>8</th>\n",
              "      <td>9</td>\n",
              "      <td>dry goods pasta</td>\n",
              "    </tr>\n",
              "    <tr>\n",
              "      <th>9</th>\n",
              "      <td>10</td>\n",
              "      <td>bulk</td>\n",
              "    </tr>\n",
              "    <tr>\n",
              "      <th>10</th>\n",
              "      <td>11</td>\n",
              "      <td>personal care</td>\n",
              "    </tr>\n",
              "    <tr>\n",
              "      <th>11</th>\n",
              "      <td>12</td>\n",
              "      <td>meat seafood</td>\n",
              "    </tr>\n",
              "    <tr>\n",
              "      <th>12</th>\n",
              "      <td>13</td>\n",
              "      <td>pantry</td>\n",
              "    </tr>\n",
              "    <tr>\n",
              "      <th>13</th>\n",
              "      <td>14</td>\n",
              "      <td>breakfast</td>\n",
              "    </tr>\n",
              "    <tr>\n",
              "      <th>14</th>\n",
              "      <td>15</td>\n",
              "      <td>canned goods</td>\n",
              "    </tr>\n",
              "    <tr>\n",
              "      <th>15</th>\n",
              "      <td>16</td>\n",
              "      <td>dairy eggs</td>\n",
              "    </tr>\n",
              "    <tr>\n",
              "      <th>16</th>\n",
              "      <td>17</td>\n",
              "      <td>household</td>\n",
              "    </tr>\n",
              "    <tr>\n",
              "      <th>17</th>\n",
              "      <td>18</td>\n",
              "      <td>babies</td>\n",
              "    </tr>\n",
              "    <tr>\n",
              "      <th>18</th>\n",
              "      <td>19</td>\n",
              "      <td>snacks</td>\n",
              "    </tr>\n",
              "    <tr>\n",
              "      <th>19</th>\n",
              "      <td>20</td>\n",
              "      <td>deli</td>\n",
              "    </tr>\n",
              "    <tr>\n",
              "      <th>20</th>\n",
              "      <td>21</td>\n",
              "      <td>missing</td>\n",
              "    </tr>\n",
              "  </tbody>\n",
              "</table>\n",
              "</div>"
            ],
            "text/plain": [
              "    department_id       department\n",
              "0               1           frozen\n",
              "1               2            other\n",
              "2               3           bakery\n",
              "3               4          produce\n",
              "4               5          alcohol\n",
              "5               6    international\n",
              "6               7        beverages\n",
              "7               8             pets\n",
              "8               9  dry goods pasta\n",
              "9              10             bulk\n",
              "10             11    personal care\n",
              "11             12     meat seafood\n",
              "12             13           pantry\n",
              "13             14        breakfast\n",
              "14             15     canned goods\n",
              "15             16       dairy eggs\n",
              "16             17        household\n",
              "17             18           babies\n",
              "18             19           snacks\n",
              "19             20             deli\n",
              "20             21          missing"
            ]
          },
          "metadata": {
            "tags": []
          },
          "execution_count": 18
        }
      ]
    },
    {
      "metadata": {
        "id": "R43OrMuAWg5P",
        "colab_type": "text"
      },
      "cell_type": "markdown",
      "source": [
        "Since products, aisles and departments data frames could be related amongst themselves using IDs as keys, we can merge them recursively and create a single data frame (pad_df for products, aisles and dept) for simplification as below:"
      ]
    },
    {
      "metadata": {
        "id": "tD32-uLCWg5Z",
        "colab_type": "code",
        "colab": {
          "autoexec": {
            "startup": false,
            "wait_interval": 0
          },
          "base_uri": "https://localhost:8080/",
          "height": 202
        },
        "outputId": "81b304f2-857e-40c8-993a-64cb43577a44",
        "executionInfo": {
          "status": "ok",
          "timestamp": 1523764121248,
          "user_tz": 240,
          "elapsed": 488,
          "user": {
            "displayName": "Quant Quotient",
            "photoUrl": "https://lh3.googleusercontent.com/a/default-user=s128",
            "userId": "109188985106332259534"
          }
        }
      },
      "cell_type": "code",
      "source": [
        "pad_df = pd.merge(left=pd.merge(left=products_df, right=departments_df, how='left'), right=aisles_df, how='left')\n",
        "print(pad_df.describe())\n",
        "pad_df.head()\n",
        "\n",
        "gc.collect()"
      ],
      "execution_count": 0,
      "outputs": [
        {
          "output_type": "stream",
          "text": [
            "         product_id      aisle_id  department_id\n",
            "count  49688.000000  49688.000000   49688.000000\n",
            "mean   24844.500000     67.769582      11.728687\n",
            "std    14343.834425     38.316162       5.850410\n",
            "min        1.000000      1.000000       1.000000\n",
            "25%    12422.750000     35.000000       7.000000\n",
            "50%    24844.500000     69.000000      13.000000\n",
            "75%    37266.250000    100.000000      17.000000\n",
            "max    49688.000000    134.000000      21.000000\n"
          ],
          "name": "stdout"
        },
        {
          "output_type": "execute_result",
          "data": {
            "text/plain": [
              "40"
            ]
          },
          "metadata": {
            "tags": []
          },
          "execution_count": 19
        }
      ]
    },
    {
      "metadata": {
        "id": "jfsDtkrJWg5n",
        "colab_type": "text"
      },
      "cell_type": "markdown",
      "source": [
        "<a id='step2'></a>\n",
        "## Exploratory Vizualizations"
      ]
    },
    {
      "metadata": {
        "id": "8uKF3N_nr1m-",
        "colab_type": "text"
      },
      "cell_type": "markdown",
      "source": [
        "### Eval Set Visualization\n",
        "\n",
        "A simple bar graph to compare the orders classified as prior, train or test"
      ]
    },
    {
      "metadata": {
        "id": "Cr0edkS8Wg5z",
        "colab_type": "code",
        "colab": {
          "autoexec": {
            "startup": false,
            "wait_interval": 0
          },
          "base_uri": "https://localhost:8080/",
          "height": 569
        },
        "outputId": "cc2774ef-e51b-4c05-be46-f388ab27d0f1",
        "executionInfo": {
          "status": "ok",
          "timestamp": 1523764122722,
          "user_tz": 240,
          "elapsed": 1136,
          "user": {
            "displayName": "Quant Quotient",
            "photoUrl": "https://lh3.googleusercontent.com/a/default-user=s128",
            "userId": "109188985106332259534"
          }
        }
      },
      "cell_type": "code",
      "source": [
        "eval_cnt = orders_df.eval_set.value_counts()\n",
        "\n",
        "plt.figure(figsize=(12,8))\n",
        "sns.barplot(eval_cnt.index, eval_cnt.values, alpha=0.8)\n",
        "plt.title('Order count per Eval set', fontsize=12)\n",
        "plt.xlabel('Eval Set', fontsize=10)\n",
        "plt.ylabel('Counts', fontsize=10)\n",
        "plt.show()"
      ],
      "execution_count": 0,
      "outputs": [
        {
          "output_type": "stream",
          "text": [
            "/usr/local/lib/python3.6/dist-packages/seaborn/categorical.py:1428: FutureWarning: remove_na is deprecated and is a private function. Do not use.\n",
            "  stat_data = remove_na(group_data)\n"
          ],
          "name": "stderr"
        },
        {
          "output_type": "display_data",
          "data": {
            "image/png": "[encoded data removed]",
            "text/plain": [
              "<matplotlib.figure.Figure at 0x7feb304af400>"
            ]
          },
          "metadata": {
            "tags": []
          }
        }
      ]
    },
    {
      "metadata": {
        "id": "cRn5ILATrvui",
        "colab_type": "text"
      },
      "cell_type": "markdown",
      "source": [
        "### Max orders by users\n",
        "\n",
        "Looking at the maximum number of orders per user. Each user has made at least 4 orders, with around 24000 users making 4 orders,less than 20000 users making 5 orders and so on. At the end of the chart we see a sharp rise in the number of users making 100 orders. That could be related to some promotion, but is an interesting insight revealed by the graph."
      ]
    },
    {
      "metadata": {
        "id": "loshG5EyH42P",
        "colab_type": "code",
        "colab": {
          "autoexec": {
            "startup": false,
            "wait_interval": 0
          },
          "base_uri": "https://localhost:8080/",
          "height": 591
        },
        "outputId": "54123dcf-aea2-4370-fb2b-2968b1fe0ac5",
        "executionInfo": {
          "status": "ok",
          "timestamp": 1523764124648,
          "user_tz": 240,
          "elapsed": 1716,
          "user": {
            "displayName": "Quant Quotient",
            "photoUrl": "https://lh3.googleusercontent.com/a/default-user=s128",
            "userId": "109188985106332259534"
          }
        }
      },
      "cell_type": "code",
      "source": [
        "orders_user = orders_df.groupby('user_id')['order_number'].max().reset_index()\n",
        "orders_user = orders_user.order_number.value_counts()\n",
        "\n",
        "plt.figure(figsize=(20,8))\n",
        "sns.barplot(orders_user.index, orders_user.values, color='r', alpha=0.7)\n",
        "plt.xlabel('Order Counts', fontsize=12)\n",
        "plt.ylabel('User Counts', fontsize=12)\n",
        "plt.title('Top 50 Orders', fontsize=15)\n",
        "plt.xlim(right=50)\n",
        "plt.show()\n",
        "\n",
        "gc.collect()"
      ],
      "execution_count": 0,
      "outputs": [
        {
          "output_type": "stream",
          "text": [
            "/usr/local/lib/python3.6/dist-packages/seaborn/categorical.py:1428: FutureWarning: remove_na is deprecated and is a private function. Do not use.\n",
            "  stat_data = remove_na(group_data)\n"
          ],
          "name": "stderr"
        },
        {
          "output_type": "display_data",
          "data": {
            "image/png": "[encoded data removed]",
            "text/plain": [
              "<matplotlib.figure.Figure at 0x7feb3485a278>"
            ]
          },
          "metadata": {
            "tags": []
          }
        },
        {
          "output_type": "execute_result",
          "data": {
            "text/plain": [
              "21878"
            ]
          },
          "metadata": {
            "tags": []
          },
          "execution_count": 21
        }
      ]
    },
    {
      "metadata": {
        "id": "O4VzE0mvurj0",
        "colab_type": "text"
      },
      "cell_type": "markdown",
      "source": [
        "### Orders by Time\n",
        "\n",
        "In this section I'll explore the orders data set with the timing information provided. information such as order day of the week and time of the day etc.\n",
        "\n",
        "**Orders by day of week**\n",
        "\n",
        "0 being Sunday and Monday are amongst the busiest days for Instacart shopping."
      ]
    },
    {
      "metadata": {
        "id": "u_QivbkoLypU",
        "colab_type": "code",
        "colab": {
          "autoexec": {
            "startup": false,
            "wait_interval": 0
          },
          "base_uri": "https://localhost:8080/",
          "height": 573
        },
        "outputId": "b02bb110-4ccd-492b-820a-ef914edf9269",
        "executionInfo": {
          "status": "ok",
          "timestamp": 1523764125610,
          "user_tz": 240,
          "elapsed": 756,
          "user": {
            "displayName": "Quant Quotient",
            "photoUrl": "https://lh3.googleusercontent.com/a/default-user=s128",
            "userId": "109188985106332259534"
          }
        }
      },
      "cell_type": "code",
      "source": [
        "plt.figure(figsize=(14,8))\n",
        "sns.countplot(y=orders_df.order_dow, color='g', alpha=0.6)\n",
        "plt.xlabel('Order Counts', fontsize=12)\n",
        "plt.ylabel('Day of Week', fontsize=12)\n",
        "plt.title('Orders counts by Day of Week', fontsize=15)\n",
        "plt.show()"
      ],
      "execution_count": 0,
      "outputs": [
        {
          "output_type": "stream",
          "text": [
            "/usr/local/lib/python3.6/dist-packages/seaborn/categorical.py:1428: FutureWarning: remove_na is deprecated and is a private function. Do not use.\n",
            "  stat_data = remove_na(group_data)\n"
          ],
          "name": "stderr"
        },
        {
          "output_type": "display_data",
          "data": {
            "image/png": "[encoded data removed]",
            "text/plain": [
              "<matplotlib.figure.Figure at 0x7feb2ccdb358>"
            ]
          },
          "metadata": {
            "tags": []
          }
        }
      ]
    },
    {
      "metadata": {
        "id": "yI19cRNnH1Ic",
        "colab_type": "text"
      },
      "cell_type": "markdown",
      "source": [
        "**Orders by hour of day**\n",
        "\n",
        "Orders start picking up later morning and continue through the work day typically between 9 am and 5 pm."
      ]
    },
    {
      "metadata": {
        "id": "kvq-TCdqvmAY",
        "colab_type": "code",
        "colab": {
          "autoexec": {
            "startup": false,
            "wait_interval": 0
          },
          "base_uri": "https://localhost:8080/",
          "height": 573
        },
        "outputId": "73044b8b-4388-483a-a4e9-9c9829564da8",
        "executionInfo": {
          "status": "ok",
          "timestamp": 1523764126610,
          "user_tz": 240,
          "elapsed": 840,
          "user": {
            "displayName": "Quant Quotient",
            "photoUrl": "https://lh3.googleusercontent.com/a/default-user=s128",
            "userId": "109188985106332259534"
          }
        }
      },
      "cell_type": "code",
      "source": [
        "plt.figure(figsize=(14,8))\n",
        "sns.countplot(y=orders_df.order_hour_of_day, color='b', alpha=0.6)\n",
        "plt.xlabel('Order Count', fontsize=12)\n",
        "plt.ylabel('Hour of Day', fontsize=12)\n",
        "plt.title('Order Freq by Hour of Day', fontsize=15)\n",
        "plt.show()"
      ],
      "execution_count": 0,
      "outputs": [
        {
          "output_type": "stream",
          "text": [
            "/usr/local/lib/python3.6/dist-packages/seaborn/categorical.py:1428: FutureWarning: remove_na is deprecated and is a private function. Do not use.\n",
            "  stat_data = remove_na(group_data)\n"
          ],
          "name": "stderr"
        },
        {
          "output_type": "display_data",
          "data": {
            "image/png": "[encoded data removed]",
            "text/plain": [
              "<matplotlib.figure.Figure at 0x7feb2cc9d2b0>"
            ]
          },
          "metadata": {
            "tags": []
          }
        }
      ]
    },
    {
      "metadata": {
        "id": "N0_TwulkIEzE",
        "colab_type": "text"
      },
      "cell_type": "markdown",
      "source": [
        "**Orders by hours over the weekends**\n",
        "\n",
        "Late mornings and early afternoons seem to be most busy periods, pattern not exactly similar but close to all 7 days in the previous chart."
      ]
    },
    {
      "metadata": {
        "id": "5jkWtCrPwBug",
        "colab_type": "code",
        "colab": {
          "autoexec": {
            "startup": false,
            "wait_interval": 0
          },
          "base_uri": "https://localhost:8080/",
          "height": 573
        },
        "outputId": "091fe08f-e84d-4f65-df16-9d1abe9f8fac",
        "executionInfo": {
          "status": "ok",
          "timestamp": 1523764127964,
          "user_tz": 240,
          "elapsed": 1118,
          "user": {
            "displayName": "Quant Quotient",
            "photoUrl": "https://lh3.googleusercontent.com/a/default-user=s128",
            "userId": "109188985106332259534"
          }
        }
      },
      "cell_type": "code",
      "source": [
        "orders_wkend1=orders_df.loc[lambda df: orders_df[\"order_dow\"] == 0,:]\n",
        "orders_wkend2=orders_df.loc[lambda df: orders_df[\"order_dow\"] == 6,:]\n",
        "orders_wkend=pd.concat([orders_wkend1, orders_wkend2])\n",
        "del orders_wkend1\n",
        "del orders_wkend2\n",
        "orders_wkend\n",
        "\n",
        "plt.figure(figsize=(14,8))\n",
        "sns.countplot(y=orders_wkend.order_hour_of_day, color='r', alpha=0.6)\n",
        "plt.xlabel('Order Count', fontsize=12)\n",
        "plt.ylabel('Hour of Day', fontsize=12)\n",
        "plt.title('Weekend Order counts by hour of day', fontsize=15)\n",
        "plt.show()"
      ],
      "execution_count": 0,
      "outputs": [
        {
          "output_type": "stream",
          "text": [
            "/usr/local/lib/python3.6/dist-packages/seaborn/categorical.py:1428: FutureWarning: remove_na is deprecated and is a private function. Do not use.\n",
            "  stat_data = remove_na(group_data)\n"
          ],
          "name": "stderr"
        },
        {
          "output_type": "display_data",
          "data": {
            "image/png": "[encoded data removed]",
            "text/plain": [
              "<matplotlib.figure.Figure at 0x7feb2f03b518>"
            ]
          },
          "metadata": {
            "tags": []
          }
        }
      ]
    },
    {
      "metadata": {
        "id": "H9NwLfgIIQnu",
        "colab_type": "text"
      },
      "cell_type": "markdown",
      "source": [
        "**Days since past order**\n",
        "\n",
        "There is a peak at 30 days, probably Instacart has set this as the upper limit for this data set, for days > 30. Other than that 7 is the highest number of days which shows a weekly pattern in ordering frequency. Probably around weekends."
      ]
    },
    {
      "metadata": {
        "id": "aUKC3C1bOB8H",
        "colab_type": "code",
        "colab": {
          "autoexec": {
            "startup": false,
            "wait_interval": 0
          },
          "base_uri": "https://localhost:8080/",
          "height": 645
        },
        "outputId": "1555f216-8b3f-4399-a1a2-350b6b664247",
        "executionInfo": {
          "status": "ok",
          "timestamp": 1523764129384,
          "user_tz": 240,
          "elapsed": 1268,
          "user": {
            "displayName": "Quant Quotient",
            "photoUrl": "https://lh3.googleusercontent.com/a/default-user=s128",
            "userId": "109188985106332259534"
          }
        }
      },
      "cell_type": "code",
      "source": [
        "\n",
        "plt.figure(figsize=(15,9))\n",
        "sns.countplot(orders_df.days_since_prior_order, palette='BuGn_d', alpha=0.7)\n",
        "plt.title('Days Since Prior Order Frequency', fontsize=15)\n",
        "plt.ylabel('Order Counts', fontsize=12)\n",
        "plt.xlabel('Days since prior order', fontsize=12)\n",
        "plt.show()\n",
        "\n",
        "gc.collect()"
      ],
      "execution_count": 0,
      "outputs": [
        {
          "output_type": "stream",
          "text": [
            "/usr/local/lib/python3.6/dist-packages/seaborn/categorical.py:1428: FutureWarning: remove_na is deprecated and is a private function. Do not use.\n",
            "  stat_data = remove_na(group_data)\n"
          ],
          "name": "stderr"
        },
        {
          "output_type": "display_data",
          "data": {
            "image/png": "[encoded data removed]",
            "text/plain": [
              "<matplotlib.figure.Figure at 0x7feb2f039748>"
            ]
          },
          "metadata": {
            "tags": []
          }
        },
        {
          "output_type": "execute_result",
          "data": {
            "text/plain": [
              "16854"
            ]
          },
          "metadata": {
            "tags": []
          },
          "execution_count": 25
        }
      ]
    },
    {
      "metadata": {
        "id": "gUlEDginkNGi",
        "colab_type": "text"
      },
      "cell_type": "markdown",
      "source": [
        "**Heat map for order counts by day and hour**\n",
        "\n",
        "The chart shows that Sunday afternoons and Monday mornings are most busy"
      ]
    },
    {
      "metadata": {
        "id": "js8xGwlRW3Yj",
        "colab_type": "code",
        "colab": {
          "autoexec": {
            "startup": false,
            "wait_interval": 0
          },
          "base_uri": "https://localhost:8080/",
          "height": 535
        },
        "outputId": "6d407660-60f4-4f6d-d8da-275a25c6d075",
        "executionInfo": {
          "status": "ok",
          "timestamp": 1523764130872,
          "user_tz": 240,
          "elapsed": 1360,
          "user": {
            "displayName": "Quant Quotient",
            "photoUrl": "https://lh3.googleusercontent.com/a/default-user=s128",
            "userId": "109188985106332259534"
          }
        }
      },
      "cell_type": "code",
      "source": [
        "# Orders by day of week and hour of day\n",
        "plt.figure(figsize=(16,8))\n",
        "order_cnt = orders_df.groupby(['order_dow', 'order_hour_of_day'])['order_number'].aggregate('count').reset_index()\n",
        "order_cnt = order_cnt.pivot( 'order_dow', 'order_hour_of_day', 'order_number')\n",
        "sns.heatmap(order_cnt, cmap='YlGnBu')\n",
        "\n",
        "plt.xlabel('Hour of Day', fontsize=12)\n",
        "plt.ylabel('Day of Week', fontsize=12)\n",
        "plt.title('Count density - Hour of day vs Day of week', fontsize=16)\n",
        "plt.show()\n",
        "\n",
        "gc.collect()"
      ],
      "execution_count": 0,
      "outputs": [
        {
          "output_type": "display_data",
          "data": {
            "image/png": "[encoded data removed]",
            "text/plain": [
              "<matplotlib.figure.Figure at 0x7feb2ccd9780>"
            ]
          },
          "metadata": {
            "tags": []
          }
        },
        {
          "output_type": "execute_result",
          "data": {
            "text/plain": [
              "4912"
            ]
          },
          "metadata": {
            "tags": []
          },
          "execution_count": 26
        }
      ]
    },
    {
      "metadata": {
        "id": "9o8cN5BK0-EC",
        "colab_type": "text"
      },
      "cell_type": "markdown",
      "source": [
        "### Visualizations with Grouped Data"
      ]
    },
    {
      "metadata": {
        "id": "xgeG0AN49sl-",
        "colab_type": "code",
        "colab": {
          "autoexec": {
            "startup": false,
            "wait_interval": 0
          },
          "base_uri": "https://localhost:8080/",
          "height": 35
        },
        "outputId": "3ac6f53f-9e49-453a-9530-bfb8b6f6be58",
        "executionInfo": {
          "status": "ok",
          "timestamp": 1523764161600,
          "user_tz": 240,
          "elapsed": 30598,
          "user": {
            "displayName": "Quant Quotient",
            "photoUrl": "https://lh3.googleusercontent.com/a/default-user=s128",
            "userId": "109188985106332259534"
          }
        }
      },
      "cell_type": "code",
      "source": [
        "pad_df = pd.merge(left=pd.merge(left=products_df, right=departments_df, how='left'), right=aisles_df, how='left')\n",
        "orders_prior_pad_df = pd.merge(pd.merge(order_products_prior_df, orders_df, on='order_id', how='left'), pad_df, on='product_id')\n",
        "\n",
        "gc.collect()"
      ],
      "execution_count": 0,
      "outputs": [
        {
          "output_type": "execute_result",
          "data": {
            "text/plain": [
              "91"
            ]
          },
          "metadata": {
            "tags": []
          },
          "execution_count": 27
        }
      ]
    },
    {
      "metadata": {
        "id": "9KvLVSg30HhW",
        "colab_type": "text"
      },
      "cell_type": "markdown",
      "source": [
        "Lets delete some of the unecessary data frames"
      ]
    },
    {
      "metadata": {
        "id": "n7oJby3Q0N9a",
        "colab_type": "code",
        "colab": {
          "autoexec": {
            "startup": false,
            "wait_interval": 0
          },
          "base_uri": "https://localhost:8080/",
          "height": 35
        },
        "outputId": "f7a53c6b-7a87-4208-8f0f-bc9b5cc866a7",
        "executionInfo": {
          "status": "ok",
          "timestamp": 1523742495744,
          "user_tz": 240,
          "elapsed": 552,
          "user": {
            "displayName": "Quant Quotient",
            "photoUrl": "https://lh3.googleusercontent.com/a/default-user=s128",
            "userId": "109188985106332259534"
          }
        }
      },
      "cell_type": "code",
      "source": [
        "del order_products_prior_df\n",
        "del temp_series\n",
        "del labels\n",
        "gc.collect()"
      ],
      "execution_count": 0,
      "outputs": [
        {
          "output_type": "execute_result",
          "data": {
            "text/plain": [
              "5799"
            ]
          },
          "metadata": {
            "tags": []
          },
          "execution_count": 28
        }
      ]
    },
    {
      "metadata": {
        "id": "xcuLEQhuV5kZ",
        "colab_type": "code",
        "colab": {
          "autoexec": {
            "startup": false,
            "wait_interval": 0
          },
          "base_uri": "https://localhost:8080/",
          "height": 35
        },
        "outputId": "48eea078-da18-4281-d4fe-ca82bf48e9a4",
        "executionInfo": {
          "status": "ok",
          "timestamp": 1523742499230,
          "user_tz": 240,
          "elapsed": 3112,
          "user": {
            "displayName": "Quant Quotient",
            "photoUrl": "https://lh3.googleusercontent.com/a/default-user=s128",
            "userId": "109188985106332259534"
          }
        }
      },
      "cell_type": "code",
      "source": [
        "orders_train_pad_df = pd.merge(pd.merge(order_products_train_df, orders_df, on='order_id', how='left'), pad_df, on='product_id')\n",
        "\n",
        "grouped_df = orders_train_pad_df.groupby(\"order_id\")[\"add_to_cart_order\"].aggregate(\"max\").reset_index()\n",
        "val_cnt = grouped_df.add_to_cart_order.value_counts()\n",
        "\n",
        "gc.collect()"
      ],
      "execution_count": 0,
      "outputs": [
        {
          "output_type": "execute_result",
          "data": {
            "text/plain": [
              "35"
            ]
          },
          "metadata": {
            "tags": []
          },
          "execution_count": 29
        }
      ]
    },
    {
      "metadata": {
        "id": "U1KJFDjR738o",
        "colab_type": "code",
        "colab": {
          "autoexec": {
            "startup": false,
            "wait_interval": 0
          }
        }
      },
      "cell_type": "code",
      "source": [
        "del order_products_train_df\n"
      ],
      "execution_count": 0,
      "outputs": []
    },
    {
      "metadata": {
        "id": "HuEZJoq4kW5A",
        "colab_type": "text"
      },
      "cell_type": "markdown",
      "source": [
        "**Plotting frequency of orders by number of products per order**\n",
        "\n",
        "The peak frequency is about 6 products per order with around 1-10 products per order with high frequency and a sharp decline subsequently"
      ]
    },
    {
      "metadata": {
        "id": "WwhRgfDe0wwW",
        "colab_type": "code",
        "colab": {
          "autoexec": {
            "startup": false,
            "wait_interval": 0
          },
          "base_uri": "https://localhost:8080/",
          "height": 557
        },
        "outputId": "d621799a-7a17-4af3-c9dd-6db7d5bb4b97",
        "executionInfo": {
          "status": "ok",
          "timestamp": 1523742501626,
          "user_tz": 240,
          "elapsed": 1528,
          "user": {
            "displayName": "Quant Quotient",
            "photoUrl": "https://lh3.googleusercontent.com/a/default-user=s128",
            "userId": "109188985106332259534"
          }
        }
      },
      "cell_type": "code",
      "source": [
        "plt.figure(figsize=(16,8))\n",
        "sns.barplot(val_cnt.index, val_cnt.values, alpha=0.8)\n",
        "plt.ylabel('Frequency of orders', fontsize=12)\n",
        "plt.xlabel('Number of products per order', fontsize=12)\n",
        "plt.xticks(rotation='vertical')\n",
        "plt.show()\n",
        "\n",
        "#cleanup\n",
        "gc.collect()\n",
        "del grouped_df"
      ],
      "execution_count": 0,
      "outputs": [
        {
          "output_type": "stream",
          "text": [
            "/usr/local/lib/python3.6/dist-packages/seaborn/categorical.py:1428: FutureWarning: remove_na is deprecated and is a private function. Do not use.\n",
            "  stat_data = remove_na(group_data)\n"
          ],
          "name": "stderr"
        },
        {
          "output_type": "display_data",
          "data": {
            "image/png": "[encoded data removed]",
            "text/plain": [
              "<matplotlib.figure.Figure at 0x7fdc74cc7940>"
            ]
          },
          "metadata": {
            "tags": []
          }
        }
      ]
    },
    {
      "metadata": {
        "id": "V6Z_z6EGn4QW",
        "colab_type": "text"
      },
      "cell_type": "markdown",
      "source": [
        "**Showing top 20 popular products by name**"
      ]
    },
    {
      "metadata": {
        "id": "W43cSdOWWRBN",
        "colab_type": "code",
        "colab": {
          "autoexec": {
            "startup": false,
            "wait_interval": 0
          },
          "base_uri": "https://localhost:8080/",
          "height": 690
        },
        "outputId": "b99302a7-931f-40c5-eb33-ccc4d7507fe7",
        "executionInfo": {
          "status": "ok",
          "timestamp": 1523742511254,
          "user_tz": 240,
          "elapsed": 9468,
          "user": {
            "displayName": "Quant Quotient",
            "photoUrl": "https://lh3.googleusercontent.com/a/default-user=s128",
            "userId": "109188985106332259534"
          }
        }
      },
      "cell_type": "code",
      "source": [
        "val_cnt_aisle = orders_prior_pad_df['product_name'].value_counts().reset_index().head(20)\n",
        "val_cnt_aisle.columns = ['product_name', 'frequency_count']\n",
        "\n",
        "val_cnt_aisle = orders_prior_pad_df['aisle'].value_counts().head(20)\n",
        "\n",
        "plt.figure(figsize=(12,8))\n",
        "sns.barplot(val_cnt_aisle.index, val_cnt_aisle.values, alpha=0.8)\n",
        "plt.ylabel('Order Count', fontsize=12)\n",
        "plt.xlabel('Aisles', fontsize=12)\n",
        "plt.title('Top 20 Aisles with Most Purchased Products', fontsize=14)\n",
        "plt.xticks(rotation='vertical')\n",
        "plt.show()\n",
        "\n",
        "gc.collect()"
      ],
      "execution_count": 0,
      "outputs": [
        {
          "output_type": "stream",
          "text": [
            "/usr/local/lib/python3.6/dist-packages/seaborn/categorical.py:1428: FutureWarning: remove_na is deprecated and is a private function. Do not use.\n",
            "  stat_data = remove_na(group_data)\n"
          ],
          "name": "stderr"
        },
        {
          "output_type": "display_data",
          "data": {
            "image/png": "[encoded data removed]",
            "text/plain": [
              "<matplotlib.figure.Figure at 0x7fdc74a00898>"
            ]
          },
          "metadata": {
            "tags": []
          }
        },
        {
          "output_type": "execute_result",
          "data": {
            "text/plain": [
              "5454"
            ]
          },
          "metadata": {
            "tags": []
          },
          "execution_count": 32
        }
      ]
    },
    {
      "metadata": {
        "id": "dOZyK-rcoAOO",
        "colab_type": "text"
      },
      "cell_type": "markdown",
      "source": [
        "**This chart shows the top 10 departments by order counts**"
      ]
    },
    {
      "metadata": {
        "id": "nMujYjuaWlIG",
        "colab_type": "code",
        "colab": {
          "autoexec": {
            "startup": false,
            "wait_interval": 0
          },
          "base_uri": "https://localhost:8080/",
          "height": 589
        },
        "outputId": "2008c092-b493-4035-b6b9-769431a231d0",
        "executionInfo": {
          "status": "ok",
          "timestamp": 1523742516332,
          "user_tz": 240,
          "elapsed": 4888,
          "user": {
            "displayName": "Quant Quotient",
            "photoUrl": "https://lh3.googleusercontent.com/a/default-user=s128",
            "userId": "109188985106332259534"
          }
        }
      },
      "cell_type": "code",
      "source": [
        "del val_cnt\n",
        "\n",
        "# Departments with most ordered products\n",
        "prod_cnts = orders_prior_pad_df.department.value_counts().head(10)\n",
        "\n",
        "plt.figure(figsize=(12,8))\n",
        "sns.barplot(prod_cnts.values, prod_cnts.index, color='purple', alpha=0.6)\n",
        "plt.xlabel('Order Count', fontsize=11)\n",
        "plt.ylabel('Department Name', fontsize=11)\n",
        "plt.title('Top 10 Departments with most ordered products', fontsize=14)\n",
        "plt.show()\n",
        "\n",
        "gc.collect()"
      ],
      "execution_count": 0,
      "outputs": [
        {
          "output_type": "stream",
          "text": [
            "/usr/local/lib/python3.6/dist-packages/seaborn/categorical.py:1428: FutureWarning: remove_na is deprecated and is a private function. Do not use.\n",
            "  stat_data = remove_na(group_data)\n"
          ],
          "name": "stderr"
        },
        {
          "output_type": "display_data",
          "data": {
            "image/png": "[encoded data removed]",
            "text/plain": [
              "<matplotlib.figure.Figure at 0x7fdc74a6bfd0>"
            ]
          },
          "metadata": {
            "tags": []
          }
        },
        {
          "output_type": "execute_result",
          "data": {
            "text/plain": [
              "3473"
            ]
          },
          "metadata": {
            "tags": []
          },
          "execution_count": 33
        }
      ]
    },
    {
      "metadata": {
        "id": "R57Z5RLZCUQc",
        "colab_type": "code",
        "colab": {
          "autoexec": {
            "startup": false,
            "wait_interval": 0
          }
        }
      },
      "cell_type": "code",
      "source": [
        "del prod_cnts"
      ],
      "execution_count": 0,
      "outputs": []
    },
    {
      "metadata": {
        "id": "Sh-1IadeWg5_",
        "colab_type": "text"
      },
      "cell_type": "markdown",
      "source": [
        "---\n",
        "<a id='step3'></a>\n",
        "## Data Preprocessing\n",
        "\n",
        "Starting with sorting the values based on user_id and order_number for the user."
      ]
    },
    {
      "metadata": {
        "id": "Ecb-FoywWg6F",
        "colab_type": "code",
        "colab": {
          "autoexec": {
            "startup": false,
            "wait_interval": 0
          },
          "base_uri": "https://localhost:8080/",
          "height": 206
        },
        "outputId": "33c98724-3683-42c9-8dbe-945304e37a14",
        "executionInfo": {
          "status": "ok",
          "timestamp": 1523742524698,
          "user_tz": 240,
          "elapsed": 2088,
          "user": {
            "displayName": "Quant Quotient",
            "photoUrl": "https://lh3.googleusercontent.com/a/default-user=s128",
            "userId": "109188985106332259534"
          }
        }
      },
      "cell_type": "code",
      "source": [
        "orders_df.sort_values(by=['user_id', 'order_number'], inplace=True)\n",
        "orders_df.head()"
      ],
      "execution_count": 0,
      "outputs": [
        {
          "output_type": "execute_result",
          "data": {
            "text/html": [
              "<div>\n",
              "<style scoped>\n",
              "    .dataframe tbody tr th:only-of-type {\n",
              "        vertical-align: middle;\n",
              "    }\n",
              "\n",
              "    .dataframe tbody tr th {\n",
              "        vertical-align: top;\n",
              "    }\n",
              "\n",
              "    .dataframe thead th {\n",
              "        text-align: right;\n",
              "    }\n",
              "</style>\n",
              "<table border=\"1\" class=\"dataframe\">\n",
              "  <thead>\n",
              "    <tr style=\"text-align: right;\">\n",
              "      <th></th>\n",
              "      <th>order_id</th>\n",
              "      <th>user_id</th>\n",
              "      <th>eval_set</th>\n",
              "      <th>order_number</th>\n",
              "      <th>order_dow</th>\n",
              "      <th>order_hour_of_day</th>\n",
              "      <th>days_since_prior_order</th>\n",
              "    </tr>\n",
              "  </thead>\n",
              "  <tbody>\n",
              "    <tr>\n",
              "      <th>0</th>\n",
              "      <td>2539329</td>\n",
              "      <td>1</td>\n",
              "      <td>prior</td>\n",
              "      <td>1</td>\n",
              "      <td>2</td>\n",
              "      <td>8</td>\n",
              "      <td>NaN</td>\n",
              "    </tr>\n",
              "    <tr>\n",
              "      <th>1</th>\n",
              "      <td>2398795</td>\n",
              "      <td>1</td>\n",
              "      <td>prior</td>\n",
              "      <td>2</td>\n",
              "      <td>3</td>\n",
              "      <td>7</td>\n",
              "      <td>15.0</td>\n",
              "    </tr>\n",
              "    <tr>\n",
              "      <th>2</th>\n",
              "      <td>473747</td>\n",
              "      <td>1</td>\n",
              "      <td>prior</td>\n",
              "      <td>3</td>\n",
              "      <td>3</td>\n",
              "      <td>12</td>\n",
              "      <td>21.0</td>\n",
              "    </tr>\n",
              "    <tr>\n",
              "      <th>3</th>\n",
              "      <td>2254736</td>\n",
              "      <td>1</td>\n",
              "      <td>prior</td>\n",
              "      <td>4</td>\n",
              "      <td>4</td>\n",
              "      <td>7</td>\n",
              "      <td>29.0</td>\n",
              "    </tr>\n",
              "    <tr>\n",
              "      <th>4</th>\n",
              "      <td>431534</td>\n",
              "      <td>1</td>\n",
              "      <td>prior</td>\n",
              "      <td>5</td>\n",
              "      <td>4</td>\n",
              "      <td>15</td>\n",
              "      <td>28.0</td>\n",
              "    </tr>\n",
              "  </tbody>\n",
              "</table>\n",
              "</div>"
            ],
            "text/plain": [
              "   order_id  user_id eval_set  order_number  order_dow  order_hour_of_day  \\\n",
              "0   2539329        1    prior             1          2                  8   \n",
              "1   2398795        1    prior             2          3                  7   \n",
              "2    473747        1    prior             3          3                 12   \n",
              "3   2254736        1    prior             4          4                  7   \n",
              "4    431534        1    prior             5          4                 15   \n",
              "\n",
              "   days_since_prior_order  \n",
              "0                     NaN  \n",
              "1                    15.0  \n",
              "2                    21.0  \n",
              "3                    29.0  \n",
              "4                    28.0  "
            ]
          },
          "metadata": {
            "tags": []
          },
          "execution_count": 36
        }
      ]
    },
    {
      "metadata": {
        "id": "HfgVR328Wg6O",
        "colab_type": "code",
        "colab": {
          "autoexec": {
            "startup": false,
            "wait_interval": 0
          },
          "base_uri": "https://localhost:8080/",
          "height": 206
        },
        "outputId": "78f7cff8-45ca-40bd-b7e3-e4e1ce4d1e8d",
        "executionInfo": {
          "status": "ok",
          "timestamp": 1523742525314,
          "user_tz": 240,
          "elapsed": 396,
          "user": {
            "displayName": "Quant Quotient",
            "photoUrl": "https://lh3.googleusercontent.com/a/default-user=s128",
            "userId": "109188985106332259534"
          }
        }
      },
      "cell_type": "code",
      "source": [
        "#Replace NaN with mean\n",
        "orders_df.days_since_prior_order.fillna(orders_df.days_since_prior_order.mean(), inplace=True)\n",
        "orders_df.head()"
      ],
      "execution_count": 0,
      "outputs": [
        {
          "output_type": "execute_result",
          "data": {
            "text/html": [
              "<div>\n",
              "<style scoped>\n",
              "    .dataframe tbody tr th:only-of-type {\n",
              "        vertical-align: middle;\n",
              "    }\n",
              "\n",
              "    .dataframe tbody tr th {\n",
              "        vertical-align: top;\n",
              "    }\n",
              "\n",
              "    .dataframe thead th {\n",
              "        text-align: right;\n",
              "    }\n",
              "</style>\n",
              "<table border=\"1\" class=\"dataframe\">\n",
              "  <thead>\n",
              "    <tr style=\"text-align: right;\">\n",
              "      <th></th>\n",
              "      <th>order_id</th>\n",
              "      <th>user_id</th>\n",
              "      <th>eval_set</th>\n",
              "      <th>order_number</th>\n",
              "      <th>order_dow</th>\n",
              "      <th>order_hour_of_day</th>\n",
              "      <th>days_since_prior_order</th>\n",
              "    </tr>\n",
              "  </thead>\n",
              "  <tbody>\n",
              "    <tr>\n",
              "      <th>0</th>\n",
              "      <td>2539329</td>\n",
              "      <td>1</td>\n",
              "      <td>prior</td>\n",
              "      <td>1</td>\n",
              "      <td>2</td>\n",
              "      <td>8</td>\n",
              "      <td>11.114836</td>\n",
              "    </tr>\n",
              "    <tr>\n",
              "      <th>1</th>\n",
              "      <td>2398795</td>\n",
              "      <td>1</td>\n",
              "      <td>prior</td>\n",
              "      <td>2</td>\n",
              "      <td>3</td>\n",
              "      <td>7</td>\n",
              "      <td>15.000000</td>\n",
              "    </tr>\n",
              "    <tr>\n",
              "      <th>2</th>\n",
              "      <td>473747</td>\n",
              "      <td>1</td>\n",
              "      <td>prior</td>\n",
              "      <td>3</td>\n",
              "      <td>3</td>\n",
              "      <td>12</td>\n",
              "      <td>21.000000</td>\n",
              "    </tr>\n",
              "    <tr>\n",
              "      <th>3</th>\n",
              "      <td>2254736</td>\n",
              "      <td>1</td>\n",
              "      <td>prior</td>\n",
              "      <td>4</td>\n",
              "      <td>4</td>\n",
              "      <td>7</td>\n",
              "      <td>29.000000</td>\n",
              "    </tr>\n",
              "    <tr>\n",
              "      <th>4</th>\n",
              "      <td>431534</td>\n",
              "      <td>1</td>\n",
              "      <td>prior</td>\n",
              "      <td>5</td>\n",
              "      <td>4</td>\n",
              "      <td>15</td>\n",
              "      <td>28.000000</td>\n",
              "    </tr>\n",
              "  </tbody>\n",
              "</table>\n",
              "</div>"
            ],
            "text/plain": [
              "   order_id  user_id eval_set  order_number  order_dow  order_hour_of_day  \\\n",
              "0   2539329        1    prior             1          2                  8   \n",
              "1   2398795        1    prior             2          3                  7   \n",
              "2    473747        1    prior             3          3                 12   \n",
              "3   2254736        1    prior             4          4                  7   \n",
              "4    431534        1    prior             5          4                 15   \n",
              "\n",
              "   days_since_prior_order  \n",
              "0               11.114836  \n",
              "1               15.000000  \n",
              "2               21.000000  \n",
              "3               29.000000  \n",
              "4               28.000000  "
            ]
          },
          "metadata": {
            "tags": []
          },
          "execution_count": 37
        }
      ]
    },
    {
      "metadata": {
        "id": "37-1His2Wg6W",
        "colab_type": "text"
      },
      "cell_type": "markdown",
      "source": [
        "During exploration I discovered that there is one Department and one Aisle labeled \"Missing\"\n",
        "Let's explore that more.."
      ]
    },
    {
      "metadata": {
        "id": "W7AWfWH8Wg6Y",
        "colab_type": "code",
        "colab": {
          "autoexec": {
            "startup": false,
            "wait_interval": 0
          },
          "base_uri": "https://localhost:8080/",
          "height": 299
        },
        "outputId": "c111ad0c-a707-4588-cfae-97ca33325ffe",
        "executionInfo": {
          "status": "ok",
          "timestamp": 1523742526116,
          "user_tz": 240,
          "elapsed": 482,
          "user": {
            "displayName": "Quant Quotient",
            "photoUrl": "https://lh3.googleusercontent.com/a/default-user=s128",
            "userId": "109188985106332259534"
          }
        }
      },
      "cell_type": "code",
      "source": [
        "print(departments_df[departments_df.department == 'missing'])\n",
        "missing_prod_df = products_df[products_df.department_id == 21].reset_index()\n",
        "print (len(missing_prod_df), \"products items are associated with department='missing'\")\n",
        "\n",
        "#checking for any missing labled aisles\n",
        "print(aisles_df[aisles_df.aisle == 'missing'])\n",
        "\n",
        "missing_prod_df.head()"
      ],
      "execution_count": 0,
      "outputs": [
        {
          "output_type": "stream",
          "text": [
            "    department_id department\n",
            "20             21    missing\n",
            "1258 products items are associated with department='missing'\n",
            "    aisle_id    aisle\n",
            "99       100  missing\n"
          ],
          "name": "stdout"
        },
        {
          "output_type": "execute_result",
          "data": {
            "text/html": [
              "<div>\n",
              "<style scoped>\n",
              "    .dataframe tbody tr th:only-of-type {\n",
              "        vertical-align: middle;\n",
              "    }\n",
              "\n",
              "    .dataframe tbody tr th {\n",
              "        vertical-align: top;\n",
              "    }\n",
              "\n",
              "    .dataframe thead th {\n",
              "        text-align: right;\n",
              "    }\n",
              "</style>\n",
              "<table border=\"1\" class=\"dataframe\">\n",
              "  <thead>\n",
              "    <tr style=\"text-align: right;\">\n",
              "      <th></th>\n",
              "      <th>index</th>\n",
              "      <th>product_id</th>\n",
              "      <th>product_name</th>\n",
              "      <th>aisle_id</th>\n",
              "      <th>department_id</th>\n",
              "    </tr>\n",
              "  </thead>\n",
              "  <tbody>\n",
              "    <tr>\n",
              "      <th>0</th>\n",
              "      <td>37</td>\n",
              "      <td>38</td>\n",
              "      <td>Ultra Antibacterial Dish Liquid</td>\n",
              "      <td>100</td>\n",
              "      <td>21</td>\n",
              "    </tr>\n",
              "    <tr>\n",
              "      <th>1</th>\n",
              "      <td>71</td>\n",
              "      <td>72</td>\n",
              "      <td>Organic Honeycrisp Apples</td>\n",
              "      <td>100</td>\n",
              "      <td>21</td>\n",
              "    </tr>\n",
              "    <tr>\n",
              "      <th>2</th>\n",
              "      <td>109</td>\n",
              "      <td>110</td>\n",
              "      <td>Uncured Turkey Bologna</td>\n",
              "      <td>100</td>\n",
              "      <td>21</td>\n",
              "    </tr>\n",
              "    <tr>\n",
              "      <th>3</th>\n",
              "      <td>296</td>\n",
              "      <td>297</td>\n",
              "      <td>Write Bros Ball Point Pens, Cap-Pen, Medium (1...</td>\n",
              "      <td>100</td>\n",
              "      <td>21</td>\n",
              "    </tr>\n",
              "    <tr>\n",
              "      <th>4</th>\n",
              "      <td>416</td>\n",
              "      <td>417</td>\n",
              "      <td>Classics Baby Binks Easter Chocolate Bunny</td>\n",
              "      <td>100</td>\n",
              "      <td>21</td>\n",
              "    </tr>\n",
              "  </tbody>\n",
              "</table>\n",
              "</div>"
            ],
            "text/plain": [
              "   index  product_id                                       product_name  \\\n",
              "0     37          38                    Ultra Antibacterial Dish Liquid   \n",
              "1     71          72                          Organic Honeycrisp Apples   \n",
              "2    109         110                             Uncured Turkey Bologna   \n",
              "3    296         297  Write Bros Ball Point Pens, Cap-Pen, Medium (1...   \n",
              "4    416         417         Classics Baby Binks Easter Chocolate Bunny   \n",
              "\n",
              "   aisle_id  department_id  \n",
              "0       100             21  \n",
              "1       100             21  \n",
              "2       100             21  \n",
              "3       100             21  \n",
              "4       100             21  "
            ]
          },
          "metadata": {
            "tags": []
          },
          "execution_count": 38
        }
      ]
    },
    {
      "metadata": {
        "id": "WwgI-T7wWg6k",
        "colab_type": "text"
      },
      "cell_type": "markdown",
      "source": [
        "Since departments and aisles are categorical variables, we chose to keep the missing values for the given products and save them in a separate data structure missing_prod_df."
      ]
    },
    {
      "metadata": {
        "id": "gpOOd_1FosUm",
        "colab_type": "text"
      },
      "cell_type": "markdown",
      "source": [
        "**This chart shows the pie chart distribution for different departments by products ordered**"
      ]
    },
    {
      "metadata": {
        "id": "4ZdU4YUz5UkB",
        "colab_type": "code",
        "colab": {
          "autoexec": {
            "startup": false,
            "wait_interval": 0
          },
          "base_uri": "https://localhost:8080/",
          "height": 649
        },
        "outputId": "8c273879-399b-4474-fb7b-a36751fa749d",
        "executionInfo": {
          "status": "ok",
          "timestamp": 1523742531810,
          "user_tz": 240,
          "elapsed": 5298,
          "user": {
            "displayName": "Quant Quotient",
            "photoUrl": "https://lh3.googleusercontent.com/a/default-user=s128",
            "userId": "109188985106332259534"
          }
        }
      },
      "cell_type": "code",
      "source": [
        "plt.figure(figsize=(16,10))\n",
        "temp_series = orders_prior_pad_df['department'].value_counts()\n",
        "labels = (np.array(temp_series.index))\n",
        "sns.barplot(temp_series.index, temp_series.values, alpha=0.8)\n",
        "\n",
        "sizes = (np.array((temp_series / temp_series.sum())*100))\n",
        "plt.pie(sizes, labels=labels, \n",
        "        autopct='%1.1f%%', startangle=200)\n",
        "plt.title(\"Departments distribution\", fontsize=15)\n",
        "plt.show()\n",
        "#print (orders_prior_pad_df.describe())"
      ],
      "execution_count": 0,
      "outputs": [
        {
          "output_type": "stream",
          "text": [
            "/usr/local/lib/python3.6/dist-packages/seaborn/categorical.py:1428: FutureWarning: remove_na is deprecated and is a private function. Do not use.\n",
            "  stat_data = remove_na(group_data)\n"
          ],
          "name": "stderr"
        },
        {
          "output_type": "display_data",
          "data": {
            "image/png": "[encoded data removed]",
            "text/plain": [
              "<matplotlib.figure.Figure at 0x7fdc76dc89e8>"
            ]
          },
          "metadata": {
            "tags": []
          }
        }
      ]
    },
    {
      "metadata": {
        "id": "HmNv7b-_G-uY",
        "colab_type": "text"
      },
      "cell_type": "markdown",
      "source": [
        "**Clenup**"
      ]
    },
    {
      "metadata": {
        "id": "gYDCz0ojCfUi",
        "colab_type": "code",
        "colab": {
          "autoexec": {
            "startup": false,
            "wait_interval": 0
          },
          "base_uri": "https://localhost:8080/",
          "height": 35
        },
        "outputId": "115aaa95-c8b0-4361-9ecf-48eaaac452b4",
        "executionInfo": {
          "status": "ok",
          "timestamp": 1523742532534,
          "user_tz": 240,
          "elapsed": 564,
          "user": {
            "displayName": "Quant Quotient",
            "photoUrl": "https://lh3.googleusercontent.com/a/default-user=s128",
            "userId": "109188985106332259534"
          }
        }
      },
      "cell_type": "code",
      "source": [
        "del missing_prod_df\n",
        "del orders_df\n",
        "del temp_series\n",
        "del labels\n",
        "del sizes\n",
        "del pad_df\n",
        "gc.collect()"
      ],
      "execution_count": 0,
      "outputs": [
        {
          "output_type": "execute_result",
          "data": {
            "text/plain": [
              "7451"
            ]
          },
          "metadata": {
            "tags": []
          },
          "execution_count": 40
        }
      ]
    }
  ]
}